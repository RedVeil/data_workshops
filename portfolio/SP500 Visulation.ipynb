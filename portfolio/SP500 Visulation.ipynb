{
 "cells": [
  {
   "cell_type": "code",
   "execution_count": 3,
   "metadata": {},
   "outputs": [
    {
     "data": {
      "text/html": [
       "\n",
       "    <div class=\"bk-root\">\n",
       "        <a href=\"https://bokeh.org\" target=\"_blank\" class=\"bk-logo bk-logo-small bk-logo-notebook\"></a>\n",
       "        <span id=\"1001\">Loading BokehJS ...</span>\n",
       "    </div>"
      ]
     },
     "metadata": {},
     "output_type": "display_data"
    },
    {
     "data": {
      "application/javascript": [
       "\n",
       "(function(root) {\n",
       "  function now() {\n",
       "    return new Date();\n",
       "  }\n",
       "\n",
       "  var force = true;\n",
       "\n",
       "  if (typeof root._bokeh_onload_callbacks === \"undefined\" || force === true) {\n",
       "    root._bokeh_onload_callbacks = [];\n",
       "    root._bokeh_is_loading = undefined;\n",
       "  }\n",
       "\n",
       "  var JS_MIME_TYPE = 'application/javascript';\n",
       "  var HTML_MIME_TYPE = 'text/html';\n",
       "  var EXEC_MIME_TYPE = 'application/vnd.bokehjs_exec.v0+json';\n",
       "  var CLASS_NAME = 'output_bokeh rendered_html';\n",
       "\n",
       "  /**\n",
       "   * Render data to the DOM node\n",
       "   */\n",
       "  function render(props, node) {\n",
       "    var script = document.createElement(\"script\");\n",
       "    node.appendChild(script);\n",
       "  }\n",
       "\n",
       "  /**\n",
       "   * Handle when an output is cleared or removed\n",
       "   */\n",
       "  function handleClearOutput(event, handle) {\n",
       "    var cell = handle.cell;\n",
       "\n",
       "    var id = cell.output_area._bokeh_element_id;\n",
       "    var server_id = cell.output_area._bokeh_server_id;\n",
       "    // Clean up Bokeh references\n",
       "    if (id != null && id in Bokeh.index) {\n",
       "      Bokeh.index[id].model.document.clear();\n",
       "      delete Bokeh.index[id];\n",
       "    }\n",
       "\n",
       "    if (server_id !== undefined) {\n",
       "      // Clean up Bokeh references\n",
       "      var cmd = \"from bokeh.io.state import curstate; print(curstate().uuid_to_server['\" + server_id + \"'].get_sessions()[0].document.roots[0]._id)\";\n",
       "      cell.notebook.kernel.execute(cmd, {\n",
       "        iopub: {\n",
       "          output: function(msg) {\n",
       "            var id = msg.content.text.trim();\n",
       "            if (id in Bokeh.index) {\n",
       "              Bokeh.index[id].model.document.clear();\n",
       "              delete Bokeh.index[id];\n",
       "            }\n",
       "          }\n",
       "        }\n",
       "      });\n",
       "      // Destroy server and session\n",
       "      var cmd = \"import bokeh.io.notebook as ion; ion.destroy_server('\" + server_id + \"')\";\n",
       "      cell.notebook.kernel.execute(cmd);\n",
       "    }\n",
       "  }\n",
       "\n",
       "  /**\n",
       "   * Handle when a new output is added\n",
       "   */\n",
       "  function handleAddOutput(event, handle) {\n",
       "    var output_area = handle.output_area;\n",
       "    var output = handle.output;\n",
       "\n",
       "    // limit handleAddOutput to display_data with EXEC_MIME_TYPE content only\n",
       "    if ((output.output_type != \"display_data\") || (!output.data.hasOwnProperty(EXEC_MIME_TYPE))) {\n",
       "      return\n",
       "    }\n",
       "\n",
       "    var toinsert = output_area.element.find(\".\" + CLASS_NAME.split(' ')[0]);\n",
       "\n",
       "    if (output.metadata[EXEC_MIME_TYPE][\"id\"] !== undefined) {\n",
       "      toinsert[toinsert.length - 1].firstChild.textContent = output.data[JS_MIME_TYPE];\n",
       "      // store reference to embed id on output_area\n",
       "      output_area._bokeh_element_id = output.metadata[EXEC_MIME_TYPE][\"id\"];\n",
       "    }\n",
       "    if (output.metadata[EXEC_MIME_TYPE][\"server_id\"] !== undefined) {\n",
       "      var bk_div = document.createElement(\"div\");\n",
       "      bk_div.innerHTML = output.data[HTML_MIME_TYPE];\n",
       "      var script_attrs = bk_div.children[0].attributes;\n",
       "      for (var i = 0; i < script_attrs.length; i++) {\n",
       "        toinsert[toinsert.length - 1].firstChild.setAttribute(script_attrs[i].name, script_attrs[i].value);\n",
       "        toinsert[toinsert.length - 1].firstChild.textContent = bk_div.children[0].textContent\n",
       "      }\n",
       "      // store reference to server id on output_area\n",
       "      output_area._bokeh_server_id = output.metadata[EXEC_MIME_TYPE][\"server_id\"];\n",
       "    }\n",
       "  }\n",
       "\n",
       "  function register_renderer(events, OutputArea) {\n",
       "\n",
       "    function append_mime(data, metadata, element) {\n",
       "      // create a DOM node to render to\n",
       "      var toinsert = this.create_output_subarea(\n",
       "        metadata,\n",
       "        CLASS_NAME,\n",
       "        EXEC_MIME_TYPE\n",
       "      );\n",
       "      this.keyboard_manager.register_events(toinsert);\n",
       "      // Render to node\n",
       "      var props = {data: data, metadata: metadata[EXEC_MIME_TYPE]};\n",
       "      render(props, toinsert[toinsert.length - 1]);\n",
       "      element.append(toinsert);\n",
       "      return toinsert\n",
       "    }\n",
       "\n",
       "    /* Handle when an output is cleared or removed */\n",
       "    events.on('clear_output.CodeCell', handleClearOutput);\n",
       "    events.on('delete.Cell', handleClearOutput);\n",
       "\n",
       "    /* Handle when a new output is added */\n",
       "    events.on('output_added.OutputArea', handleAddOutput);\n",
       "\n",
       "    /**\n",
       "     * Register the mime type and append_mime function with output_area\n",
       "     */\n",
       "    OutputArea.prototype.register_mime_type(EXEC_MIME_TYPE, append_mime, {\n",
       "      /* Is output safe? */\n",
       "      safe: true,\n",
       "      /* Index of renderer in `output_area.display_order` */\n",
       "      index: 0\n",
       "    });\n",
       "  }\n",
       "\n",
       "  // register the mime type if in Jupyter Notebook environment and previously unregistered\n",
       "  if (root.Jupyter !== undefined) {\n",
       "    var events = require('base/js/events');\n",
       "    var OutputArea = require('notebook/js/outputarea').OutputArea;\n",
       "\n",
       "    if (OutputArea.prototype.mime_types().indexOf(EXEC_MIME_TYPE) == -1) {\n",
       "      register_renderer(events, OutputArea);\n",
       "    }\n",
       "  }\n",
       "\n",
       "  \n",
       "  if (typeof (root._bokeh_timeout) === \"undefined\" || force === true) {\n",
       "    root._bokeh_timeout = Date.now() + 5000;\n",
       "    root._bokeh_failed_load = false;\n",
       "  }\n",
       "\n",
       "  var NB_LOAD_WARNING = {'data': {'text/html':\n",
       "     \"<div style='background-color: #fdd'>\\n\"+\n",
       "     \"<p>\\n\"+\n",
       "     \"BokehJS does not appear to have successfully loaded. If loading BokehJS from CDN, this \\n\"+\n",
       "     \"may be due to a slow or bad network connection. Possible fixes:\\n\"+\n",
       "     \"</p>\\n\"+\n",
       "     \"<ul>\\n\"+\n",
       "     \"<li>re-rerun `output_notebook()` to attempt to load from CDN again, or</li>\\n\"+\n",
       "     \"<li>use INLINE resources instead, as so:</li>\\n\"+\n",
       "     \"</ul>\\n\"+\n",
       "     \"<code>\\n\"+\n",
       "     \"from bokeh.resources import INLINE\\n\"+\n",
       "     \"output_notebook(resources=INLINE)\\n\"+\n",
       "     \"</code>\\n\"+\n",
       "     \"</div>\"}};\n",
       "\n",
       "  function display_loaded() {\n",
       "    var el = document.getElementById(\"1001\");\n",
       "    if (el != null) {\n",
       "      el.textContent = \"BokehJS is loading...\";\n",
       "    }\n",
       "    if (root.Bokeh !== undefined) {\n",
       "      if (el != null) {\n",
       "        el.textContent = \"BokehJS \" + root.Bokeh.version + \" successfully loaded.\";\n",
       "      }\n",
       "    } else if (Date.now() < root._bokeh_timeout) {\n",
       "      setTimeout(display_loaded, 100)\n",
       "    }\n",
       "  }\n",
       "\n",
       "\n",
       "  function run_callbacks() {\n",
       "    try {\n",
       "      root._bokeh_onload_callbacks.forEach(function(callback) {\n",
       "        if (callback != null)\n",
       "          callback();\n",
       "      });\n",
       "    } finally {\n",
       "      delete root._bokeh_onload_callbacks\n",
       "    }\n",
       "    console.debug(\"Bokeh: all callbacks have finished\");\n",
       "  }\n",
       "\n",
       "  function load_libs(css_urls, js_urls, callback) {\n",
       "    if (css_urls == null) css_urls = [];\n",
       "    if (js_urls == null) js_urls = [];\n",
       "\n",
       "    root._bokeh_onload_callbacks.push(callback);\n",
       "    if (root._bokeh_is_loading > 0) {\n",
       "      console.debug(\"Bokeh: BokehJS is being loaded, scheduling callback at\", now());\n",
       "      return null;\n",
       "    }\n",
       "    if (js_urls == null || js_urls.length === 0) {\n",
       "      run_callbacks();\n",
       "      return null;\n",
       "    }\n",
       "    console.debug(\"Bokeh: BokehJS not loaded, scheduling load and callback at\", now());\n",
       "    root._bokeh_is_loading = css_urls.length + js_urls.length;\n",
       "\n",
       "    function on_load() {\n",
       "      root._bokeh_is_loading--;\n",
       "      if (root._bokeh_is_loading === 0) {\n",
       "        console.debug(\"Bokeh: all BokehJS libraries/stylesheets loaded\");\n",
       "        run_callbacks()\n",
       "      }\n",
       "    }\n",
       "\n",
       "    function on_error() {\n",
       "      console.error(\"failed to load \" + url);\n",
       "    }\n",
       "\n",
       "    for (var i = 0; i < css_urls.length; i++) {\n",
       "      var url = css_urls[i];\n",
       "      const element = document.createElement(\"link\");\n",
       "      element.onload = on_load;\n",
       "      element.onerror = on_error;\n",
       "      element.rel = \"stylesheet\";\n",
       "      element.type = \"text/css\";\n",
       "      element.href = url;\n",
       "      console.debug(\"Bokeh: injecting link tag for BokehJS stylesheet: \", url);\n",
       "      document.body.appendChild(element);\n",
       "    }\n",
       "\n",
       "    for (var i = 0; i < js_urls.length; i++) {\n",
       "      var url = js_urls[i];\n",
       "      var element = document.createElement('script');\n",
       "      element.onload = on_load;\n",
       "      element.onerror = on_error;\n",
       "      element.async = false;\n",
       "      element.src = url;\n",
       "      \n",
       "      console.debug(\"Bokeh: injecting script tag for BokehJS library: \", url);\n",
       "      document.head.appendChild(element);\n",
       "    }\n",
       "  };var element = document.getElementById(\"1001\");\n",
       "  if (element == null) {\n",
       "    console.error(\"Bokeh: ERROR: autoload.js configured with elementid '1001' but no matching script tag was found. \")\n",
       "    return false;\n",
       "  }\n",
       "\n",
       "  function inject_raw_css(css) {\n",
       "    const element = document.createElement(\"style\");\n",
       "    element.appendChild(document.createTextNode(css));\n",
       "    document.body.appendChild(element);\n",
       "  }\n",
       "\n",
       "  \n",
       "  var js_urls = [\"https://cdn.bokeh.org/bokeh/release/bokeh-2.0.0.min.js\", \"https://cdn.bokeh.org/bokeh/release/bokeh-widgets-2.0.0.min.js\", \"https://cdn.bokeh.org/bokeh/release/bokeh-tables-2.0.0.min.js\", \"https://cdn.bokeh.org/bokeh/release/bokeh-gl-2.0.0.min.js\"];\n",
       "  var css_urls = [];\n",
       "  \n",
       "\n",
       "  var inline_js = [\n",
       "    function(Bokeh) {\n",
       "      Bokeh.set_log_level(\"info\");\n",
       "    },\n",
       "    function(Bokeh) {\n",
       "    \n",
       "    \n",
       "    }\n",
       "  ];\n",
       "\n",
       "  function run_inline_js() {\n",
       "    \n",
       "    if (root.Bokeh !== undefined || force === true) {\n",
       "      \n",
       "    for (var i = 0; i < inline_js.length; i++) {\n",
       "      inline_js[i].call(root, root.Bokeh);\n",
       "    }\n",
       "    if (force === true) {\n",
       "        display_loaded();\n",
       "      }} else if (Date.now() < root._bokeh_timeout) {\n",
       "      setTimeout(run_inline_js, 100);\n",
       "    } else if (!root._bokeh_failed_load) {\n",
       "      console.log(\"Bokeh: BokehJS failed to load within specified timeout.\");\n",
       "      root._bokeh_failed_load = true;\n",
       "    } else if (force !== true) {\n",
       "      var cell = $(document.getElementById(\"1001\")).parents('.cell').data().cell;\n",
       "      cell.output_area.append_execute_result(NB_LOAD_WARNING)\n",
       "    }\n",
       "\n",
       "  }\n",
       "\n",
       "  if (root._bokeh_is_loading === 0) {\n",
       "    console.debug(\"Bokeh: BokehJS loaded, going straight to plotting\");\n",
       "    run_inline_js();\n",
       "  } else {\n",
       "    load_libs(css_urls, js_urls, function() {\n",
       "      console.debug(\"Bokeh: BokehJS plotting callback run at\", now());\n",
       "      run_inline_js();\n",
       "    });\n",
       "  }\n",
       "}(window));"
      ],
      "application/vnd.bokehjs_load.v0+json": "\n(function(root) {\n  function now() {\n    return new Date();\n  }\n\n  var force = true;\n\n  if (typeof root._bokeh_onload_callbacks === \"undefined\" || force === true) {\n    root._bokeh_onload_callbacks = [];\n    root._bokeh_is_loading = undefined;\n  }\n\n  \n\n  \n  if (typeof (root._bokeh_timeout) === \"undefined\" || force === true) {\n    root._bokeh_timeout = Date.now() + 5000;\n    root._bokeh_failed_load = false;\n  }\n\n  var NB_LOAD_WARNING = {'data': {'text/html':\n     \"<div style='background-color: #fdd'>\\n\"+\n     \"<p>\\n\"+\n     \"BokehJS does not appear to have successfully loaded. If loading BokehJS from CDN, this \\n\"+\n     \"may be due to a slow or bad network connection. Possible fixes:\\n\"+\n     \"</p>\\n\"+\n     \"<ul>\\n\"+\n     \"<li>re-rerun `output_notebook()` to attempt to load from CDN again, or</li>\\n\"+\n     \"<li>use INLINE resources instead, as so:</li>\\n\"+\n     \"</ul>\\n\"+\n     \"<code>\\n\"+\n     \"from bokeh.resources import INLINE\\n\"+\n     \"output_notebook(resources=INLINE)\\n\"+\n     \"</code>\\n\"+\n     \"</div>\"}};\n\n  function display_loaded() {\n    var el = document.getElementById(\"1001\");\n    if (el != null) {\n      el.textContent = \"BokehJS is loading...\";\n    }\n    if (root.Bokeh !== undefined) {\n      if (el != null) {\n        el.textContent = \"BokehJS \" + root.Bokeh.version + \" successfully loaded.\";\n      }\n    } else if (Date.now() < root._bokeh_timeout) {\n      setTimeout(display_loaded, 100)\n    }\n  }\n\n\n  function run_callbacks() {\n    try {\n      root._bokeh_onload_callbacks.forEach(function(callback) {\n        if (callback != null)\n          callback();\n      });\n    } finally {\n      delete root._bokeh_onload_callbacks\n    }\n    console.debug(\"Bokeh: all callbacks have finished\");\n  }\n\n  function load_libs(css_urls, js_urls, callback) {\n    if (css_urls == null) css_urls = [];\n    if (js_urls == null) js_urls = [];\n\n    root._bokeh_onload_callbacks.push(callback);\n    if (root._bokeh_is_loading > 0) {\n      console.debug(\"Bokeh: BokehJS is being loaded, scheduling callback at\", now());\n      return null;\n    }\n    if (js_urls == null || js_urls.length === 0) {\n      run_callbacks();\n      return null;\n    }\n    console.debug(\"Bokeh: BokehJS not loaded, scheduling load and callback at\", now());\n    root._bokeh_is_loading = css_urls.length + js_urls.length;\n\n    function on_load() {\n      root._bokeh_is_loading--;\n      if (root._bokeh_is_loading === 0) {\n        console.debug(\"Bokeh: all BokehJS libraries/stylesheets loaded\");\n        run_callbacks()\n      }\n    }\n\n    function on_error() {\n      console.error(\"failed to load \" + url);\n    }\n\n    for (var i = 0; i < css_urls.length; i++) {\n      var url = css_urls[i];\n      const element = document.createElement(\"link\");\n      element.onload = on_load;\n      element.onerror = on_error;\n      element.rel = \"stylesheet\";\n      element.type = \"text/css\";\n      element.href = url;\n      console.debug(\"Bokeh: injecting link tag for BokehJS stylesheet: \", url);\n      document.body.appendChild(element);\n    }\n\n    for (var i = 0; i < js_urls.length; i++) {\n      var url = js_urls[i];\n      var element = document.createElement('script');\n      element.onload = on_load;\n      element.onerror = on_error;\n      element.async = false;\n      element.src = url;\n      \n      console.debug(\"Bokeh: injecting script tag for BokehJS library: \", url);\n      document.head.appendChild(element);\n    }\n  };var element = document.getElementById(\"1001\");\n  if (element == null) {\n    console.error(\"Bokeh: ERROR: autoload.js configured with elementid '1001' but no matching script tag was found. \")\n    return false;\n  }\n\n  function inject_raw_css(css) {\n    const element = document.createElement(\"style\");\n    element.appendChild(document.createTextNode(css));\n    document.body.appendChild(element);\n  }\n\n  \n  var js_urls = [\"https://cdn.bokeh.org/bokeh/release/bokeh-2.0.0.min.js\", \"https://cdn.bokeh.org/bokeh/release/bokeh-widgets-2.0.0.min.js\", \"https://cdn.bokeh.org/bokeh/release/bokeh-tables-2.0.0.min.js\", \"https://cdn.bokeh.org/bokeh/release/bokeh-gl-2.0.0.min.js\"];\n  var css_urls = [];\n  \n\n  var inline_js = [\n    function(Bokeh) {\n      Bokeh.set_log_level(\"info\");\n    },\n    function(Bokeh) {\n    \n    \n    }\n  ];\n\n  function run_inline_js() {\n    \n    if (root.Bokeh !== undefined || force === true) {\n      \n    for (var i = 0; i < inline_js.length; i++) {\n      inline_js[i].call(root, root.Bokeh);\n    }\n    if (force === true) {\n        display_loaded();\n      }} else if (Date.now() < root._bokeh_timeout) {\n      setTimeout(run_inline_js, 100);\n    } else if (!root._bokeh_failed_load) {\n      console.log(\"Bokeh: BokehJS failed to load within specified timeout.\");\n      root._bokeh_failed_load = true;\n    } else if (force !== true) {\n      var cell = $(document.getElementById(\"1001\")).parents('.cell').data().cell;\n      cell.output_area.append_execute_result(NB_LOAD_WARNING)\n    }\n\n  }\n\n  if (root._bokeh_is_loading === 0) {\n    console.debug(\"Bokeh: BokehJS loaded, going straight to plotting\");\n    run_inline_js();\n  } else {\n    load_libs(css_urls, js_urls, function() {\n      console.debug(\"Bokeh: BokehJS plotting callback run at\", now());\n      run_inline_js();\n    });\n  }\n}(window));"
     },
     "metadata": {},
     "output_type": "display_data"
    }
   ],
   "source": [
    "import pandas as pd\n",
    "import numpy as np\n",
    "import matplotlib.pyplot as plt\n",
    "import seaborn as sns\n",
    "from bokeh.io import show, output_notebook\n",
    "from bokeh.layouts import column\n",
    "from bokeh.plotting import figure, output_file, show\n",
    "from bokeh.layouts import layout, row\n",
    "from bokeh.models import ColumnDataSource,HoverTool,Span, BoxAnnotation\n",
    "from datetime import datetime\n",
    "output_notebook()"
   ]
  },
  {
   "cell_type": "code",
   "execution_count": 4,
   "metadata": {},
   "outputs": [],
   "source": [
    "hover_price = HoverTool(\n",
    "                tooltips=[\n",
    "                    ('date','@date{%F}'),\n",
    "                    ('price','$@{price}{0.2}'),],\n",
    "                formatters={\n",
    "                    '@date':'datetime',\n",
    "                    '@{price}':\"numeral\",\n",
    "                },\n",
    "                mode='vline')"
   ]
  },
  {
   "cell_type": "code",
   "execution_count": 5,
   "metadata": {},
   "outputs": [],
   "source": [
    "hover_change = HoverTool(\n",
    "                tooltips=[\n",
    "                    ('date','@date{%F}'),\n",
    "                    ('change','@{change}{.0000}'),],\n",
    "                formatters={\n",
    "                    '@date':'datetime',\n",
    "                    '@{change}':\"numeral\",\n",
    "                },\n",
    "                mode='vline')"
   ]
  },
  {
   "cell_type": "code",
   "execution_count": 164,
   "metadata": {},
   "outputs": [
    {
     "data": {
      "text/html": [
       "<div>\n",
       "<style scoped>\n",
       "    .dataframe tbody tr th:only-of-type {\n",
       "        vertical-align: middle;\n",
       "    }\n",
       "\n",
       "    .dataframe tbody tr th {\n",
       "        vertical-align: top;\n",
       "    }\n",
       "\n",
       "    .dataframe thead th {\n",
       "        text-align: right;\n",
       "    }\n",
       "</style>\n",
       "<table border=\"1\" class=\"dataframe\">\n",
       "  <thead>\n",
       "    <tr style=\"text-align: right;\">\n",
       "      <th></th>\n",
       "      <th>Date</th>\n",
       "      <th>Open</th>\n",
       "      <th>High</th>\n",
       "      <th>Low</th>\n",
       "      <th>Close</th>\n",
       "      <th>Adj Close</th>\n",
       "      <th>Volume</th>\n",
       "      <th>price_change</th>\n",
       "    </tr>\n",
       "  </thead>\n",
       "  <tbody>\n",
       "    <tr>\n",
       "      <th>0</th>\n",
       "      <td>2011-01-03</td>\n",
       "      <td>1257.619995</td>\n",
       "      <td>1276.170044</td>\n",
       "      <td>1257.619995</td>\n",
       "      <td>1271.869995</td>\n",
       "      <td>1271.869995</td>\n",
       "      <td>4286670000</td>\n",
       "      <td>NaN</td>\n",
       "    </tr>\n",
       "    <tr>\n",
       "      <th>1</th>\n",
       "      <td>2011-01-04</td>\n",
       "      <td>1272.949951</td>\n",
       "      <td>1274.119995</td>\n",
       "      <td>1262.660034</td>\n",
       "      <td>1270.199951</td>\n",
       "      <td>1270.199951</td>\n",
       "      <td>4796420000</td>\n",
       "      <td>0.998687</td>\n",
       "    </tr>\n",
       "    <tr>\n",
       "      <th>2</th>\n",
       "      <td>2011-01-05</td>\n",
       "      <td>1268.780029</td>\n",
       "      <td>1277.630005</td>\n",
       "      <td>1265.359985</td>\n",
       "      <td>1276.560059</td>\n",
       "      <td>1276.560059</td>\n",
       "      <td>4764920000</td>\n",
       "      <td>1.005007</td>\n",
       "    </tr>\n",
       "    <tr>\n",
       "      <th>3</th>\n",
       "      <td>2011-01-06</td>\n",
       "      <td>1276.290039</td>\n",
       "      <td>1278.170044</td>\n",
       "      <td>1270.430054</td>\n",
       "      <td>1273.849976</td>\n",
       "      <td>1273.849976</td>\n",
       "      <td>4844100000</td>\n",
       "      <td>0.997877</td>\n",
       "    </tr>\n",
       "    <tr>\n",
       "      <th>4</th>\n",
       "      <td>2011-01-07</td>\n",
       "      <td>1274.410034</td>\n",
       "      <td>1276.829956</td>\n",
       "      <td>1261.699951</td>\n",
       "      <td>1271.500000</td>\n",
       "      <td>1271.500000</td>\n",
       "      <td>4963110000</td>\n",
       "      <td>0.998155</td>\n",
       "    </tr>\n",
       "  </tbody>\n",
       "</table>\n",
       "</div>"
      ],
      "text/plain": [
       "        Date         Open         High          Low        Close    Adj Close  \\\n",
       "0 2011-01-03  1257.619995  1276.170044  1257.619995  1271.869995  1271.869995   \n",
       "1 2011-01-04  1272.949951  1274.119995  1262.660034  1270.199951  1270.199951   \n",
       "2 2011-01-05  1268.780029  1277.630005  1265.359985  1276.560059  1276.560059   \n",
       "3 2011-01-06  1276.290039  1278.170044  1270.430054  1273.849976  1273.849976   \n",
       "4 2011-01-07  1274.410034  1276.829956  1261.699951  1271.500000  1271.500000   \n",
       "\n",
       "       Volume  price_change  \n",
       "0  4286670000           NaN  \n",
       "1  4796420000      0.998687  \n",
       "2  4764920000      1.005007  \n",
       "3  4844100000      0.997877  \n",
       "4  4963110000      0.998155  "
      ]
     },
     "execution_count": 164,
     "metadata": {},
     "output_type": "execute_result"
    }
   ],
   "source": [
    "sp500 = pd.read_csv(\"./data/GSPC_2011.csv\", parse_dates=[\"Date\"])\n",
    "sp500[\"price_change\"] = sp500[\"Close\"].pct_change(1)+1\n",
    "#sp500 = sp500.dropna()\n",
    "sp500.head()"
   ]
  },
  {
   "cell_type": "code",
   "execution_count": 163,
   "metadata": {},
   "outputs": [
    {
     "data": {
      "text/plain": [
       "0.9986869381253074"
      ]
     },
     "execution_count": 163,
     "metadata": {},
     "output_type": "execute_result"
    }
   ],
   "source": [
    "1270.199951/1271.869995"
   ]
  },
  {
   "cell_type": "code",
   "execution_count": 169,
   "metadata": {},
   "outputs": [],
   "source": [
    "sp500 = pd.read_csv(\"./data/GSPC_2011.csv\", parse_dates=[\"Date\"])\n",
    "sp500[\"price_change\"] = sp500[\"Close\"].pct_change(1)+1\n",
    "sp500 = sp500.dropna()\n",
    "\n",
    "price = ColumnDataSource(data={\"date\":sp500[\"Date\"], \"price\":sp500['Close']})\n",
    "p = figure(title=\"SP500 Price\", plot_height=300, plot_width=900, tools=\"xpan\", toolbar_location=None,\n",
    "           x_axis_type=\"datetime\",background_fill_color=\"#efefef\", x_range=(sp500[\"Date\"].iloc[0], sp500[\"Date\"].iloc[-1]))\n",
    "p.line('date', 'price', source=price)\n",
    "p.yaxis.axis_label = 'Price'\n",
    "p.add_tools(hover_price)\n",
    "\n",
    "price_change = ColumnDataSource(data={\"date\":sp500[\"Date\"], \"change\":sp500['price_change']})\n",
    "c = figure(title=\"SP500 Daily Price Change\", plot_height=300, plot_width=900, tools=\"xpan\", toolbar_location=None,\n",
    "           x_axis_type=\"datetime\",background_fill_color=\"#efefef\", x_range=(sp500[\"Date\"].iloc[0], sp500[\"Date\"].iloc[-1]))\n",
    "\n",
    "c.line('date', 'change', source=price_change)\n",
    "c.yaxis.axis_label = 'Change'\n",
    "c.add_tools(hover_change)"
   ]
  },
  {
   "cell_type": "markdown",
   "metadata": {},
   "source": [
    "February 15th - The first Libyan Civil War starts. Uncertainty about libyan oil production impacts the stock market."
   ]
  },
  {
   "cell_type": "code",
   "execution_count": 170,
   "metadata": {},
   "outputs": [],
   "source": [
    "start_libyan_civil_war = Span(location=datetime(2011,2,15), dimension='height', line_color='orange', line_width=1)\n",
    "p.add_layout(start_libyan_civil_war)"
   ]
  },
  {
   "cell_type": "markdown",
   "metadata": {},
   "source": [
    "March 11th - Earthquake of strength 9,0 hits Japan. A Tsunami kills thousands of people and leads to a catastrophe in the nuclear reactor in Fukushima. Japans economy is in a shock which has ripple effects through other markets."
   ]
  },
  {
   "cell_type": "code",
   "execution_count": 171,
   "metadata": {},
   "outputs": [],
   "source": [
    "japan_earthquake = Span(location=datetime(2011,3,11), dimension='height', line_color='purple', line_width=1)\n",
    "p.add_layout(japan_earthquake)"
   ]
  },
  {
   "cell_type": "markdown",
   "metadata": {},
   "source": [
    "March 15th - Exactly one month after the start of the libyan civil war the president of Bahrai declares a state of emergency in response continous protests and mobilizes the army. In Syria the civil war starts. Fear of oil- and energy shortages in the US increase with conflicts in Libya, Bahrain and Syria and civil unrest in other arabic countries."
   ]
  },
  {
   "cell_type": "code",
   "execution_count": 172,
   "metadata": {},
   "outputs": [],
   "source": [
    "bahrain_syria_conflicts = Span(location=datetime(2011,3,15), dimension='height', line_color='coral', line_width=1)\n",
    "p.add_layout(bahrain_syria_conflicts)"
   ]
  },
  {
   "cell_type": "markdown",
   "metadata": {},
   "source": [
    "June - Debates about the second bailout for greece lead to more and more uncertainty in the markets about the future of greece, europe and the euro."
   ]
  },
  {
   "cell_type": "code",
   "execution_count": 173,
   "metadata": {},
   "outputs": [],
   "source": [
    "greek_baylout_debates = BoxAnnotation(left=datetime(2011,5,31), right=datetime(2011,6,29), fill_color='blue', fill_alpha=0.1)\n",
    "p.add_layout(greek_baylout_debates)"
   ]
  },
  {
   "cell_type": "markdown",
   "metadata": {},
   "source": [
    "June 29th - The third credit package for greek is confirmed. With this huge austerity measures are coming for greek and the greece public. "
   ]
  },
  {
   "cell_type": "code",
   "execution_count": 174,
   "metadata": {},
   "outputs": [],
   "source": [
    "credit_greek = Span(location=datetime(2011,6,29), dimension='height', line_color='green', line_width=1)\n",
    "p.add_layout(credit_greek )"
   ]
  },
  {
   "cell_type": "markdown",
   "metadata": {},
   "source": [
    "August 5th - High debt and major difficulties regarding the US-Budget cause the US credit rating gets downgraded from AAA to AA+. This is the first time since 1941 that the US doesnt count as AAA."
   ]
  },
  {
   "cell_type": "code",
   "execution_count": 175,
   "metadata": {},
   "outputs": [],
   "source": [
    "us_credit_downgrade = Span(location=datetime(2011,8,5), dimension='height', line_color='red', line_width=1)\n",
    "p.add_layout(us_credit_downgrade)"
   ]
  },
  {
   "cell_type": "markdown",
   "metadata": {},
   "source": [
    "August till December - The us stock market is in a major crisis fueled by the european debt crisis and fear about its effect on the us economy. Occupy Wall Street starts their protests in september. The rest of the the year is marked by uncertainty, doubt and fear. Each uptrend gets wiped out quickly and drastically. The market can recover a bit to the end of the year."
   ]
  },
  {
   "cell_type": "markdown",
   "metadata": {},
   "source": [
    "September 19th - Italian credit gets downgrade from A+ to A. This is a major hit for many banks after they lend billions to stabilize the country"
   ]
  },
  {
   "cell_type": "code",
   "execution_count": 176,
   "metadata": {},
   "outputs": [],
   "source": [
    "italian_credit_downgrade = Span(location=datetime(2011,9,19), dimension='height', line_color='red', line_width=1)\n",
    "p.add_layout(italian_credit_downgrade)"
   ]
  },
  {
   "cell_type": "code",
   "execution_count": 177,
   "metadata": {
    "scrolled": true
   },
   "outputs": [
    {
     "data": {
      "text/html": [
       "\n",
       "\n",
       "\n",
       "\n",
       "\n",
       "\n",
       "  <div class=\"bk-root\" id=\"c01613e2-aa51-44a4-8c0e-f3a3a3a210c4\" data-root-id=\"1459\"></div>\n"
      ]
     },
     "metadata": {},
     "output_type": "display_data"
    },
    {
     "data": {
      "application/javascript": [
       "(function(root) {\n",
       "  function embed_document(root) {\n",
       "    \n",
       "  var docs_json = {\"32136993-752f-476b-b6ef-e68f38368449\":{\"roots\":{\"references\":[{\"attributes\":{\"children\":[{\"id\":\"1395\"},{\"id\":\"1424\"}]},\"id\":\"1459\",\"type\":\"Column\"},{\"attributes\":{},\"id\":\"1402\",\"type\":\"LinearScale\"},{\"attributes\":{},\"id\":\"1506\",\"type\":\"DatetimeTickFormatter\"},{\"attributes\":{},\"id\":\"1411\",\"type\":\"BasicTicker\"},{\"attributes\":{\"dimension\":\"height\",\"line_color\":\"green\",\"location\":1309305600000.0},\"id\":\"1456\",\"type\":\"Span\"},{\"attributes\":{},\"id\":\"1429\",\"type\":\"DataRange1d\"},{\"attributes\":{\"days\":[1,4,7,10,13,16,19,22,25,28]},\"id\":\"1528\",\"type\":\"DaysTicker\"},{\"attributes\":{\"axis\":{\"id\":\"1406\"},\"ticker\":null},\"id\":\"1409\",\"type\":\"Grid\"},{\"attributes\":{\"end\":1325203200000.0,\"start\":1294099200000.0},\"id\":\"1398\",\"type\":\"Range1d\"},{\"attributes\":{\"mantissas\":[1,2,5],\"max_interval\":500.0,\"num_minor_ticks\":0},\"id\":\"1524\",\"type\":\"AdaptiveTicker\"},{\"attributes\":{\"data\":{\"date\":{\"__ndarray__\":\"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\",\"dtype\":\"float64\",\"shape\":[251]},\"price\":{\"__ndarray__\":\"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\",\"dtype\":\"float64\",\"shape\":[251]}},\"selected\":{\"id\":\"1509\"},\"selection_policy\":{\"id\":\"1508\"}},\"id\":\"1394\",\"type\":\"ColumnDataSource\"},{\"attributes\":{\"days\":[1,15]},\"id\":\"1530\",\"type\":\"DaysTicker\"},{\"attributes\":{\"dimension\":\"height\",\"line_color\":\"orange\",\"location\":1297728000000.0},\"id\":\"1452\",\"type\":\"Span\"},{\"attributes\":{},\"id\":\"1431\",\"type\":\"LinearScale\"},{\"attributes\":{\"data\":{\"change\":{\"__ndarray__\":\"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\",\"dtype\":\"float64\",\"shape\":[251]},\"date\":{\"__ndarray__\":\"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\",\"dtype\":\"float64\",\"shape\":[251]}},\"selected\":{\"id\":\"1523\"},\"selection_policy\":{\"id\":\"1522\"}},\"id\":\"1423\",\"type\":\"ColumnDataSource\"},{\"attributes\":{\"months\":[0,2,4,6,8,10]},\"id\":\"1532\",\"type\":\"MonthsTicker\"},{\"attributes\":{},\"id\":\"1400\",\"type\":\"DataRange1d\"},{\"attributes\":{\"source\":{\"id\":\"1394\"}},\"id\":\"1421\",\"type\":\"CDSView\"},{\"attributes\":{\"days\":[1,2,3,4,5,6,7,8,9,10,11,12,13,14,15,16,17,18,19,20,21,22,23,24,25,26,27,28,29,30,31]},\"id\":\"1527\",\"type\":\"DaysTicker\"},{\"attributes\":{\"months\":[0,6]},\"id\":\"1520\",\"type\":\"MonthsTicker\"},{\"attributes\":{\"months\":[0,6]},\"id\":\"1534\",\"type\":\"MonthsTicker\"},{\"attributes\":{},\"id\":\"1500\",\"type\":\"BasicTickFormatter\"},{\"attributes\":{\"base\":24,\"mantissas\":[1,2,4,6,8,12],\"max_interval\":43200000.0,\"min_interval\":3600000.0,\"num_minor_ticks\":0},\"id\":\"1526\",\"type\":\"AdaptiveTicker\"},{\"attributes\":{\"formatter\":{\"id\":\"1502\"},\"ticker\":{\"id\":\"1407\"}},\"id\":\"1406\",\"type\":\"DatetimeAxis\"},{\"attributes\":{\"months\":[0,1,2,3,4,5,6,7,8,9,10,11]},\"id\":\"1531\",\"type\":\"MonthsTicker\"},{\"attributes\":{\"line_alpha\":0.1,\"line_color\":\"#1f77b4\",\"x\":{\"field\":\"date\"},\"y\":{\"field\":\"price\"}},\"id\":\"1419\",\"type\":\"Line\"},{\"attributes\":{},\"id\":\"1502\",\"type\":\"DatetimeTickFormatter\"},{\"attributes\":{\"axis\":{\"id\":\"1410\"},\"dimension\":1,\"ticker\":null},\"id\":\"1413\",\"type\":\"Grid\"},{\"attributes\":{\"end\":1325203200000.0,\"start\":1294099200000.0},\"id\":\"1427\",\"type\":\"Range1d\"},{\"attributes\":{\"line_color\":\"#1f77b4\",\"x\":{\"field\":\"date\"},\"y\":{\"field\":\"price\"}},\"id\":\"1418\",\"type\":\"Line\"},{\"attributes\":{},\"id\":\"1404\",\"type\":\"LinearScale\"},{\"attributes\":{\"callback\":null,\"formatters\":{\"@date\":\"datetime\",\"@{price}\":\"numeral\"},\"mode\":\"vline\",\"tooltips\":[[\"date\",\"@date{%F}\"],[\"price\",\"$@{price}{0.2}\"]]},\"id\":\"1002\",\"type\":\"HoverTool\"},{\"attributes\":{\"data_source\":{\"id\":\"1394\"},\"glyph\":{\"id\":\"1418\"},\"hover_glyph\":null,\"muted_glyph\":null,\"nonselection_glyph\":{\"id\":\"1419\"},\"selection_glyph\":null,\"view\":{\"id\":\"1421\"}},\"id\":\"1420\",\"type\":\"GlyphRenderer\"},{\"attributes\":{\"text\":\"SP500 Daily Price Change\"},\"id\":\"1425\",\"type\":\"Title\"},{\"attributes\":{\"formatter\":{\"id\":\"1506\"},\"ticker\":{\"id\":\"1436\"}},\"id\":\"1435\",\"type\":\"DatetimeAxis\"},{\"attributes\":{\"num_minor_ticks\":5,\"tickers\":[{\"id\":\"1510\"},{\"id\":\"1511\"},{\"id\":\"1512\"},{\"id\":\"1513\"},{\"id\":\"1514\"},{\"id\":\"1515\"},{\"id\":\"1516\"},{\"id\":\"1517\"},{\"id\":\"1518\"},{\"id\":\"1519\"},{\"id\":\"1520\"},{\"id\":\"1521\"}]},\"id\":\"1407\",\"type\":\"DatetimeTicker\"},{\"attributes\":{\"axis_label\":\"Price\",\"formatter\":{\"id\":\"1500\"},\"ticker\":{\"id\":\"1411\"}},\"id\":\"1410\",\"type\":\"LinearAxis\"},{\"attributes\":{\"days\":[1,8,15,22]},\"id\":\"1529\",\"type\":\"DaysTicker\"},{\"attributes\":{},\"id\":\"1521\",\"type\":\"YearsTicker\"},{\"attributes\":{\"base\":60,\"mantissas\":[1,2,5,10,15,20,30],\"max_interval\":1800000.0,\"min_interval\":1000.0,\"num_minor_ticks\":0},\"id\":\"1525\",\"type\":\"AdaptiveTicker\"},{\"attributes\":{},\"id\":\"1504\",\"type\":\"BasicTickFormatter\"},{\"attributes\":{\"dimension\":\"height\",\"line_color\":\"purple\",\"location\":1299801600000.0},\"id\":\"1453\",\"type\":\"Span\"},{\"attributes\":{},\"id\":\"1535\",\"type\":\"YearsTicker\"},{\"attributes\":{\"dimension\":\"height\",\"line_color\":\"coral\",\"location\":1300147200000.0},\"id\":\"1454\",\"type\":\"Span\"},{\"attributes\":{\"data_source\":{\"id\":\"1423\"},\"glyph\":{\"id\":\"1447\"},\"hover_glyph\":null,\"muted_glyph\":null,\"nonselection_glyph\":{\"id\":\"1448\"},\"selection_glyph\":null,\"view\":{\"id\":\"1450\"}},\"id\":\"1449\",\"type\":\"GlyphRenderer\"},{\"attributes\":{\"months\":[0,4,8]},\"id\":\"1533\",\"type\":\"MonthsTicker\"},{\"attributes\":{\"active_drag\":\"auto\",\"active_inspect\":\"auto\",\"active_multi\":null,\"active_scroll\":\"auto\",\"active_tap\":\"auto\",\"tools\":[{\"id\":\"1414\"},{\"id\":\"1002\"}]},\"id\":\"1415\",\"type\":\"Toolbar\"},{\"attributes\":{\"dimensions\":\"width\"},\"id\":\"1414\",\"type\":\"PanTool\"},{\"attributes\":{\"fill_alpha\":0.1,\"fill_color\":\"blue\",\"left\":1306800000000.0,\"right\":1309305600000.0},\"id\":\"1455\",\"type\":\"BoxAnnotation\"},{\"attributes\":{\"text\":\"SP500 Price\"},\"id\":\"1396\",\"type\":\"Title\"},{\"attributes\":{\"dimension\":\"height\",\"line_color\":\"red\",\"location\":1316390400000.0},\"id\":\"1458\",\"type\":\"Span\"},{\"attributes\":{},\"id\":\"1440\",\"type\":\"BasicTicker\"},{\"attributes\":{\"background_fill_color\":\"#efefef\",\"below\":[{\"id\":\"1435\"}],\"center\":[{\"id\":\"1438\"},{\"id\":\"1442\"}],\"left\":[{\"id\":\"1439\"}],\"plot_height\":300,\"plot_width\":900,\"renderers\":[{\"id\":\"1449\"}],\"title\":{\"id\":\"1425\"},\"toolbar\":{\"id\":\"1444\"},\"toolbar_location\":null,\"x_range\":{\"id\":\"1427\"},\"x_scale\":{\"id\":\"1431\"},\"y_range\":{\"id\":\"1429\"},\"y_scale\":{\"id\":\"1433\"}},\"id\":\"1424\",\"subtype\":\"Figure\",\"type\":\"Plot\"},{\"attributes\":{\"active_drag\":\"auto\",\"active_inspect\":\"auto\",\"active_multi\":null,\"active_scroll\":\"auto\",\"active_tap\":\"auto\",\"tools\":[{\"id\":\"1443\"},{\"id\":\"1003\"}]},\"id\":\"1444\",\"type\":\"Toolbar\"},{\"attributes\":{\"months\":[0,1,2,3,4,5,6,7,8,9,10,11]},\"id\":\"1517\",\"type\":\"MonthsTicker\"},{\"attributes\":{\"line_color\":\"#1f77b4\",\"x\":{\"field\":\"date\"},\"y\":{\"field\":\"change\"}},\"id\":\"1447\",\"type\":\"Line\"},{\"attributes\":{\"callback\":null,\"formatters\":{\"@date\":\"datetime\",\"@{change}\":\"numeral\"},\"mode\":\"vline\",\"tooltips\":[[\"date\",\"@date{%F}\"],[\"change\",\"@{change}{.0000}\"]]},\"id\":\"1003\",\"type\":\"HoverTool\"},{\"attributes\":{\"dimension\":\"height\",\"line_color\":\"red\",\"location\":1312502400000.0},\"id\":\"1457\",\"type\":\"Span\"},{\"attributes\":{\"days\":[1,8,15,22]},\"id\":\"1515\",\"type\":\"DaysTicker\"},{\"attributes\":{\"axis_label\":\"Change\",\"formatter\":{\"id\":\"1504\"},\"ticker\":{\"id\":\"1440\"}},\"id\":\"1439\",\"type\":\"LinearAxis\"},{\"attributes\":{},\"id\":\"1523\",\"type\":\"Selection\"},{\"attributes\":{\"source\":{\"id\":\"1423\"}},\"id\":\"1450\",\"type\":\"CDSView\"},{\"attributes\":{\"months\":[0,4,8]},\"id\":\"1519\",\"type\":\"MonthsTicker\"},{\"attributes\":{\"dimensions\":\"width\"},\"id\":\"1443\",\"type\":\"PanTool\"},{\"attributes\":{},\"id\":\"1433\",\"type\":\"LinearScale\"},{\"attributes\":{\"days\":[1,4,7,10,13,16,19,22,25,28]},\"id\":\"1514\",\"type\":\"DaysTicker\"},{\"attributes\":{},\"id\":\"1522\",\"type\":\"UnionRenderers\"},{\"attributes\":{\"line_alpha\":0.1,\"line_color\":\"#1f77b4\",\"x\":{\"field\":\"date\"},\"y\":{\"field\":\"change\"}},\"id\":\"1448\",\"type\":\"Line\"},{\"attributes\":{\"base\":24,\"mantissas\":[1,2,4,6,8,12],\"max_interval\":43200000.0,\"min_interval\":3600000.0,\"num_minor_ticks\":0},\"id\":\"1512\",\"type\":\"AdaptiveTicker\"},{\"attributes\":{\"num_minor_ticks\":5,\"tickers\":[{\"id\":\"1524\"},{\"id\":\"1525\"},{\"id\":\"1526\"},{\"id\":\"1527\"},{\"id\":\"1528\"},{\"id\":\"1529\"},{\"id\":\"1530\"},{\"id\":\"1531\"},{\"id\":\"1532\"},{\"id\":\"1533\"},{\"id\":\"1534\"},{\"id\":\"1535\"}]},\"id\":\"1436\",\"type\":\"DatetimeTicker\"},{\"attributes\":{\"axis\":{\"id\":\"1439\"},\"dimension\":1,\"ticker\":null},\"id\":\"1442\",\"type\":\"Grid\"},{\"attributes\":{\"mantissas\":[1,2,5],\"max_interval\":500.0,\"num_minor_ticks\":0},\"id\":\"1510\",\"type\":\"AdaptiveTicker\"},{\"attributes\":{\"background_fill_color\":\"#efefef\",\"below\":[{\"id\":\"1406\"}],\"center\":[{\"id\":\"1409\"},{\"id\":\"1413\"},{\"id\":\"1452\"},{\"id\":\"1453\"},{\"id\":\"1454\"},{\"id\":\"1455\"},{\"id\":\"1456\"},{\"id\":\"1457\"},{\"id\":\"1458\"}],\"left\":[{\"id\":\"1410\"}],\"plot_height\":300,\"plot_width\":900,\"renderers\":[{\"id\":\"1420\"}],\"title\":{\"id\":\"1396\"},\"toolbar\":{\"id\":\"1415\"},\"toolbar_location\":null,\"x_range\":{\"id\":\"1398\"},\"x_scale\":{\"id\":\"1402\"},\"y_range\":{\"id\":\"1400\"},\"y_scale\":{\"id\":\"1404\"}},\"id\":\"1395\",\"subtype\":\"Figure\",\"type\":\"Plot\"},{\"attributes\":{\"months\":[0,2,4,6,8,10]},\"id\":\"1518\",\"type\":\"MonthsTicker\"},{\"attributes\":{},\"id\":\"1509\",\"type\":\"Selection\"},{\"attributes\":{\"axis\":{\"id\":\"1435\"},\"ticker\":null},\"id\":\"1438\",\"type\":\"Grid\"},{\"attributes\":{\"base\":60,\"mantissas\":[1,2,5,10,15,20,30],\"max_interval\":1800000.0,\"min_interval\":1000.0,\"num_minor_ticks\":0},\"id\":\"1511\",\"type\":\"AdaptiveTicker\"},{\"attributes\":{},\"id\":\"1508\",\"type\":\"UnionRenderers\"},{\"attributes\":{\"days\":[1,2,3,4,5,6,7,8,9,10,11,12,13,14,15,16,17,18,19,20,21,22,23,24,25,26,27,28,29,30,31]},\"id\":\"1513\",\"type\":\"DaysTicker\"},{\"attributes\":{\"days\":[1,15]},\"id\":\"1516\",\"type\":\"DaysTicker\"}],\"root_ids\":[\"1459\"]},\"title\":\"Bokeh Application\",\"version\":\"2.0.0\"}};\n",
       "  var render_items = [{\"docid\":\"32136993-752f-476b-b6ef-e68f38368449\",\"root_ids\":[\"1459\"],\"roots\":{\"1459\":\"c01613e2-aa51-44a4-8c0e-f3a3a3a210c4\"}}];\n",
       "  root.Bokeh.embed.embed_items_notebook(docs_json, render_items);\n",
       "\n",
       "  }\n",
       "  if (root.Bokeh !== undefined) {\n",
       "    embed_document(root);\n",
       "  } else {\n",
       "    var attempts = 0;\n",
       "    var timer = setInterval(function(root) {\n",
       "      if (root.Bokeh !== undefined) {\n",
       "        clearInterval(timer);\n",
       "        embed_document(root);\n",
       "      } else {\n",
       "        attempts++;\n",
       "        if (attempts > 100) {\n",
       "          clearInterval(timer);\n",
       "          console.log(\"Bokeh: ERROR: Unable to run BokehJS code because BokehJS library is missing\");\n",
       "        }\n",
       "      }\n",
       "    }, 10, root)\n",
       "  }\n",
       "})(window);"
      ],
      "application/vnd.bokehjs_exec.v0+json": ""
     },
     "metadata": {
      "application/vnd.bokehjs_exec.v0+json": {
       "id": "1459"
      }
     },
     "output_type": "display_data"
    }
   ],
   "source": [
    "show(column(p, c))"
   ]
  },
  {
   "cell_type": "code",
   "execution_count": 178,
   "metadata": {},
   "outputs": [
    {
     "ename": "SyntaxError",
     "evalue": "invalid syntax (<ipython-input-178-479befb8399a>, line 1)",
     "output_type": "error",
     "traceback": [
      "\u001b[1;36m  File \u001b[1;32m\"<ipython-input-178-479befb8399a>\"\u001b[1;36m, line \u001b[1;32m1\u001b[0m\n\u001b[1;33m    Comparsion SP500 buy and hold vs algo nicht möglich, da der algo nur möglichkeiten erkennt und kein konzept von budget hat.\u001b[0m\n\u001b[1;37m               ^\u001b[0m\n\u001b[1;31mSyntaxError\u001b[0m\u001b[1;31m:\u001b[0m invalid syntax\n"
     ]
    }
   ],
   "source": [
    " Comparsion SP500 buy and hold vs algo nicht möglich, da der algo nur möglichkeiten erkennt und kein konzept von budget hat.\n",
    "    1. cumulative returns line chart (1000€ after the year in both scenarios)\n",
    "    2. pivot table monthly returns in percent \n",
    "    3. horizontal monthly returns blockchart  (with mean)\n",
    "    4. distribution of monthly returns blockchart (with mean, median)\n",
    "    5. rolling sharpe ratio (with average)\n",
    "    6. underwater plot"
   ]
  },
  {
   "cell_type": "code",
   "execution_count": 179,
   "metadata": {},
   "outputs": [
    {
     "name": "stdout",
     "output_type": "stream",
     "text": [
      "Date       datetime64[ns]\n",
      "Price             float64\n",
      "Action             object\n",
      "Profits           float64\n",
      "dtype: object\n",
      "252\n"
     ]
    },
    {
     "data": {
      "text/html": [
       "<div>\n",
       "<style scoped>\n",
       "    .dataframe tbody tr th:only-of-type {\n",
       "        vertical-align: middle;\n",
       "    }\n",
       "\n",
       "    .dataframe tbody tr th {\n",
       "        vertical-align: top;\n",
       "    }\n",
       "\n",
       "    .dataframe thead th {\n",
       "        text-align: right;\n",
       "    }\n",
       "</style>\n",
       "<table border=\"1\" class=\"dataframe\">\n",
       "  <thead>\n",
       "    <tr style=\"text-align: right;\">\n",
       "      <th></th>\n",
       "      <th>Date</th>\n",
       "      <th>Price</th>\n",
       "      <th>Action</th>\n",
       "      <th>Profits</th>\n",
       "    </tr>\n",
       "  </thead>\n",
       "  <tbody>\n",
       "    <tr>\n",
       "      <th>59</th>\n",
       "      <td>2011-03-29</td>\n",
       "      <td>1319.439941</td>\n",
       "      <td>Buy</td>\n",
       "      <td>0.00</td>\n",
       "    </tr>\n",
       "    <tr>\n",
       "      <th>7</th>\n",
       "      <td>2011-01-12</td>\n",
       "      <td>1285.959961</td>\n",
       "      <td>Sit</td>\n",
       "      <td>0.00</td>\n",
       "    </tr>\n",
       "    <tr>\n",
       "      <th>130</th>\n",
       "      <td>2011-07-11</td>\n",
       "      <td>1319.489990</td>\n",
       "      <td>Sell</td>\n",
       "      <td>-1.15</td>\n",
       "    </tr>\n",
       "    <tr>\n",
       "      <th>138</th>\n",
       "      <td>2011-07-21</td>\n",
       "      <td>1343.800049</td>\n",
       "      <td>Sell</td>\n",
       "      <td>0.00</td>\n",
       "    </tr>\n",
       "    <tr>\n",
       "      <th>69</th>\n",
       "      <td>2011-04-12</td>\n",
       "      <td>1314.160034</td>\n",
       "      <td>Sell</td>\n",
       "      <td>-5.28</td>\n",
       "    </tr>\n",
       "  </tbody>\n",
       "</table>\n",
       "</div>"
      ],
      "text/plain": [
       "          Date        Price Action  Profits\n",
       "59  2011-03-29  1319.439941    Buy     0.00\n",
       "7   2011-01-12  1285.959961    Sit     0.00\n",
       "130 2011-07-11  1319.489990   Sell    -1.15\n",
       "138 2011-07-21  1343.800049   Sell     0.00\n",
       "69  2011-04-12  1314.160034   Sell    -5.28"
      ]
     },
     "execution_count": 179,
     "metadata": {},
     "output_type": "execute_result"
    }
   ],
   "source": [
    "dqn = pd.read_csv(\"./data/dqn_model.csv\", parse_dates=[\"Date\"])\n",
    "print(dqn.dtypes)\n",
    "print(len(dqn))\n",
    "dqn.sample(5)"
   ]
  },
  {
   "cell_type": "code",
   "execution_count": 180,
   "metadata": {},
   "outputs": [],
   "source": [
    "dqn[\"Strategy\"] = dqn[\"Profits\"].cumsum()\n",
    "dqn[\"Return_perc\"] = dqn[\"Profits\"]/dqn[\"Price\"] + 1\n",
    "\n",
    "buys = dqn[dqn[\"Action\"] == \"Buy\"][[\"Date\", \"Price\"]]\n",
    "sells = dqn[dqn[\"Action\"] == \"Sell\"][[\"Date\", \"Price\"]]"
   ]
  },
  {
   "cell_type": "code",
   "execution_count": 181,
   "metadata": {},
   "outputs": [
    {
     "data": {
      "image/png": "[encoded data removed]",
      "text/plain": [
       "<Figure size 720x288 with 2 Axes>"
      ]
     },
     "metadata": {
      "needs_background": "light"
     },
     "output_type": "display_data"
    }
   ],
   "source": [
    "fig, (ax1, ax2) = plt.subplots(1,2, figsize=(10,4))\n",
    "fig.suptitle('Trade Returns', size=16)\n",
    "ax1.plot(dqn[\"Date\"],dqn[\"Return_perc\"]-1)\n",
    "ax1.set_title(\"Returns over time\")\n",
    "ax1.set_xlabel(\"Month\")\n",
    "ax1.set_ylabel(\"Return Percentage\")\n",
    "ax1.tick_params(labelrotation=45)\n",
    "#fig.text(0.12, -.15, \"Figure 1. Trade returns in percent over time.\", size=12)\n",
    "\n",
    "ax2.hist(dqn[dqn[\"Return_perc\"] != 1.0][\"Return_perc\"]-1, bins=30)\n",
    "ax2.axvline((dqn[\"Return_perc\"]-1).median(), color=\"red\", label=\"median\")\n",
    "ax2.axvline((dqn[\"Return_perc\"]-1).mean(), color=\"yellow\", label=\"mean\")\n",
    "ax2.set_xlabel(\"Return Percentage\")\n",
    "ax2.set_ylabel(\"Occurences\")\n",
    "ax2.tick_params(labelrotation=45)\n",
    "ax2.set_title(\"Return Distribution\")\n",
    "#fig.text(0.54, -.15, \"Figure 2. Distribution of returns\", size=12)\n",
    "\n",
    "plt.show()"
   ]
  },
  {
   "cell_type": "code",
   "execution_count": 182,
   "metadata": {},
   "outputs": [
    {
     "data": {
      "image/png": "[encoded data removed]",
      "text/plain": [
       "<Figure size 432x288 with 1 Axes>"
      ]
     },
     "metadata": {
      "needs_background": "light"
     },
     "output_type": "display_data"
    }
   ],
   "source": [
    "sp500[\"return\"] = sp500[\"price_change\"].cumprod()\n",
    "sp500[\"return\"].plot()\n",
    "dqn[\"Return_perc\"].cumprod().plot()\n",
    "plt.show()"
   ]
  },
  {
   "cell_type": "code",
   "execution_count": 183,
   "metadata": {},
   "outputs": [
    {
     "data": {
      "text/plain": [
       "Sit     130\n",
       "Sell     61\n",
       "Buy      61\n",
       "Name: Action, dtype: int64"
      ]
     },
     "execution_count": 183,
     "metadata": {},
     "output_type": "execute_result"
    }
   ],
   "source": [
    "dqn['Action'].value_counts()"
   ]
  },
  {
   "cell_type": "code",
   "execution_count": 184,
   "metadata": {},
   "outputs": [],
   "source": [
    "dqn[\"Weekday\"] = dqn[\"Date\"].dt.day_name()\n",
    "dqn[\"Month\"] = dqn[\"Date\"].dt.month_name()\n",
    "sp500[\"Weekday\"] = dqn[\"Date\"].dt.day_name()\n",
    "sp500[\"Month\"] = dqn[\"Date\"].dt.month_name()"
   ]
  },
  {
   "cell_type": "code",
   "execution_count": null,
   "metadata": {},
   "outputs": [],
   "source": []
  },
  {
   "cell_type": "code",
   "execution_count": 185,
   "metadata": {},
   "outputs": [
    {
     "data": {
      "text/html": [
       "<div>\n",
       "<style scoped>\n",
       "    .dataframe tbody tr th:only-of-type {\n",
       "        vertical-align: middle;\n",
       "    }\n",
       "\n",
       "    .dataframe tbody tr th {\n",
       "        vertical-align: top;\n",
       "    }\n",
       "\n",
       "    .dataframe thead th {\n",
       "        text-align: right;\n",
       "    }\n",
       "</style>\n",
       "<table border=\"1\" class=\"dataframe\">\n",
       "  <thead>\n",
       "    <tr style=\"text-align: right;\">\n",
       "      <th></th>\n",
       "      <th>Price</th>\n",
       "      <th>Profits</th>\n",
       "      <th>Strategy</th>\n",
       "      <th>Return_perc</th>\n",
       "    </tr>\n",
       "    <tr>\n",
       "      <th>Month</th>\n",
       "      <th></th>\n",
       "      <th></th>\n",
       "      <th></th>\n",
       "      <th></th>\n",
       "    </tr>\n",
       "  </thead>\n",
       "  <tbody>\n",
       "    <tr>\n",
       "      <th>April</th>\n",
       "      <td>1331.508020</td>\n",
       "      <td>16.503000</td>\n",
       "      <td>24.097000</td>\n",
       "      <td>1.012282</td>\n",
       "    </tr>\n",
       "    <tr>\n",
       "      <th>August</th>\n",
       "      <td>1202.864990</td>\n",
       "      <td>-35.507500</td>\n",
       "      <td>-83.172500</td>\n",
       "      <td>0.969197</td>\n",
       "    </tr>\n",
       "    <tr>\n",
       "      <th>December</th>\n",
       "      <td>1247.679993</td>\n",
       "      <td>-10.095000</td>\n",
       "      <td>272.540000</td>\n",
       "      <td>0.991788</td>\n",
       "    </tr>\n",
       "    <tr>\n",
       "      <th>February</th>\n",
       "      <td>1322.224976</td>\n",
       "      <td>13.090000</td>\n",
       "      <td>6.720000</td>\n",
       "      <td>1.009899</td>\n",
       "    </tr>\n",
       "    <tr>\n",
       "      <th>January</th>\n",
       "      <td>1284.761678</td>\n",
       "      <td>-2.203333</td>\n",
       "      <td>5.256667</td>\n",
       "      <td>0.998266</td>\n",
       "    </tr>\n",
       "    <tr>\n",
       "      <th>July</th>\n",
       "      <td>1328.460022</td>\n",
       "      <td>9.280000</td>\n",
       "      <td>-29.225000</td>\n",
       "      <td>1.006933</td>\n",
       "    </tr>\n",
       "    <tr>\n",
       "      <th>June</th>\n",
       "      <td>1288.180029</td>\n",
       "      <td>-13.736000</td>\n",
       "      <td>-33.854000</td>\n",
       "      <td>0.989389</td>\n",
       "    </tr>\n",
       "    <tr>\n",
       "      <th>March</th>\n",
       "      <td>1296.496664</td>\n",
       "      <td>-17.753333</td>\n",
       "      <td>-62.703333</td>\n",
       "      <td>0.985838</td>\n",
       "    </tr>\n",
       "    <tr>\n",
       "      <th>May</th>\n",
       "      <td>1340.224976</td>\n",
       "      <td>-10.180000</td>\n",
       "      <td>41.207500</td>\n",
       "      <td>0.992401</td>\n",
       "    </tr>\n",
       "    <tr>\n",
       "      <th>November</th>\n",
       "      <td>1232.665626</td>\n",
       "      <td>25.680625</td>\n",
       "      <td>186.681250</td>\n",
       "      <td>1.020217</td>\n",
       "    </tr>\n",
       "    <tr>\n",
       "      <th>October</th>\n",
       "      <td>1199.736654</td>\n",
       "      <td>10.393333</td>\n",
       "      <td>-195.680000</td>\n",
       "      <td>1.004782</td>\n",
       "    </tr>\n",
       "  </tbody>\n",
       "</table>\n",
       "</div>"
      ],
      "text/plain": [
       "                Price    Profits    Strategy  Return_perc\n",
       "Month                                                    \n",
       "April     1331.508020  16.503000   24.097000     1.012282\n",
       "August    1202.864990 -35.507500  -83.172500     0.969197\n",
       "December  1247.679993 -10.095000  272.540000     0.991788\n",
       "February  1322.224976  13.090000    6.720000     1.009899\n",
       "January   1284.761678  -2.203333    5.256667     0.998266\n",
       "July      1328.460022   9.280000  -29.225000     1.006933\n",
       "June      1288.180029 -13.736000  -33.854000     0.989389\n",
       "March     1296.496664 -17.753333  -62.703333     0.985838\n",
       "May       1340.224976 -10.180000   41.207500     0.992401\n",
       "November  1232.665626  25.680625  186.681250     1.020217\n",
       "October   1199.736654  10.393333 -195.680000     1.004782"
      ]
     },
     "execution_count": 185,
     "metadata": {},
     "output_type": "execute_result"
    }
   ],
   "source": [
    "dqn[dqn[\"Profits\"]!= 0.0].groupby([\"Month\"]).mean()"
   ]
  },
  {
   "cell_type": "code",
   "execution_count": 186,
   "metadata": {},
   "outputs": [
    {
     "data": {
      "text/html": [
       "<div>\n",
       "<style scoped>\n",
       "    .dataframe tbody tr th:only-of-type {\n",
       "        vertical-align: middle;\n",
       "    }\n",
       "\n",
       "    .dataframe tbody tr th {\n",
       "        vertical-align: top;\n",
       "    }\n",
       "\n",
       "    .dataframe thead th {\n",
       "        text-align: right;\n",
       "    }\n",
       "</style>\n",
       "<table border=\"1\" class=\"dataframe\">\n",
       "  <thead>\n",
       "    <tr style=\"text-align: right;\">\n",
       "      <th></th>\n",
       "      <th>Price</th>\n",
       "      <th>Profits</th>\n",
       "      <th>Strategy</th>\n",
       "      <th>Return_perc</th>\n",
       "    </tr>\n",
       "    <tr>\n",
       "      <th>Month</th>\n",
       "      <th></th>\n",
       "      <th></th>\n",
       "      <th></th>\n",
       "      <th></th>\n",
       "    </tr>\n",
       "  </thead>\n",
       "  <tbody>\n",
       "    <tr>\n",
       "      <th>April</th>\n",
       "      <td>1332.640015</td>\n",
       "      <td>19.000</td>\n",
       "      <td>31.995</td>\n",
       "      <td>1.014123</td>\n",
       "    </tr>\n",
       "    <tr>\n",
       "      <th>August</th>\n",
       "      <td>1200.494995</td>\n",
       "      <td>-33.680</td>\n",
       "      <td>-64.505</td>\n",
       "      <td>0.971928</td>\n",
       "    </tr>\n",
       "    <tr>\n",
       "      <th>December</th>\n",
       "      <td>1247.679993</td>\n",
       "      <td>-10.095</td>\n",
       "      <td>272.540</td>\n",
       "      <td>0.991788</td>\n",
       "    </tr>\n",
       "    <tr>\n",
       "      <th>February</th>\n",
       "      <td>1322.224976</td>\n",
       "      <td>13.090</td>\n",
       "      <td>6.720</td>\n",
       "      <td>1.009899</td>\n",
       "    </tr>\n",
       "    <tr>\n",
       "      <th>January</th>\n",
       "      <td>1284.734985</td>\n",
       "      <td>1.605</td>\n",
       "      <td>7.250</td>\n",
       "      <td>1.001244</td>\n",
       "    </tr>\n",
       "    <tr>\n",
       "      <th>July</th>\n",
       "      <td>1328.460022</td>\n",
       "      <td>9.280</td>\n",
       "      <td>-29.225</td>\n",
       "      <td>1.006933</td>\n",
       "    </tr>\n",
       "    <tr>\n",
       "      <th>June</th>\n",
       "      <td>1287.140015</td>\n",
       "      <td>-8.380</td>\n",
       "      <td>-37.930</td>\n",
       "      <td>0.993489</td>\n",
       "    </tr>\n",
       "    <tr>\n",
       "      <th>March</th>\n",
       "      <td>1300.049988</td>\n",
       "      <td>-4.270</td>\n",
       "      <td>-80.830</td>\n",
       "      <td>0.996755</td>\n",
       "    </tr>\n",
       "    <tr>\n",
       "      <th>May</th>\n",
       "      <td>1337.649964</td>\n",
       "      <td>-7.055</td>\n",
       "      <td>34.800</td>\n",
       "      <td>0.994767</td>\n",
       "    </tr>\n",
       "    <tr>\n",
       "      <th>November</th>\n",
       "      <td>1238.304993</td>\n",
       "      <td>36.335</td>\n",
       "      <td>224.245</td>\n",
       "      <td>1.029509</td>\n",
       "    </tr>\n",
       "    <tr>\n",
       "      <th>October</th>\n",
       "      <td>1215.390015</td>\n",
       "      <td>53.040</td>\n",
       "      <td>-201.890</td>\n",
       "      <td>1.043640</td>\n",
       "    </tr>\n",
       "  </tbody>\n",
       "</table>\n",
       "</div>"
      ],
      "text/plain": [
       "                Price  Profits  Strategy  Return_perc\n",
       "Month                                                \n",
       "April     1332.640015   19.000    31.995     1.014123\n",
       "August    1200.494995  -33.680   -64.505     0.971928\n",
       "December  1247.679993  -10.095   272.540     0.991788\n",
       "February  1322.224976   13.090     6.720     1.009899\n",
       "January   1284.734985    1.605     7.250     1.001244\n",
       "July      1328.460022    9.280   -29.225     1.006933\n",
       "June      1287.140015   -8.380   -37.930     0.993489\n",
       "March     1300.049988   -4.270   -80.830     0.996755\n",
       "May       1337.649964   -7.055    34.800     0.994767\n",
       "November  1238.304993   36.335   224.245     1.029509\n",
       "October   1215.390015   53.040  -201.890     1.043640"
      ]
     },
     "execution_count": 186,
     "metadata": {},
     "output_type": "execute_result"
    }
   ],
   "source": [
    "dqn[dqn[\"Profits\"]!= 0.0].groupby([\"Month\"]).median()"
   ]
  },
  {
   "cell_type": "code",
   "execution_count": 195,
   "metadata": {},
   "outputs": [
    {
     "data": {
      "text/html": [
       "<div>\n",
       "<style scoped>\n",
       "    .dataframe tbody tr th:only-of-type {\n",
       "        vertical-align: middle;\n",
       "    }\n",
       "\n",
       "    .dataframe tbody tr th {\n",
       "        vertical-align: top;\n",
       "    }\n",
       "\n",
       "    .dataframe thead th {\n",
       "        text-align: right;\n",
       "    }\n",
       "</style>\n",
       "<table border=\"1\" class=\"dataframe\">\n",
       "  <thead>\n",
       "    <tr style=\"text-align: right;\">\n",
       "      <th></th>\n",
       "      <th>Return_perc</th>\n",
       "    </tr>\n",
       "    <tr>\n",
       "      <th>Month</th>\n",
       "      <th></th>\n",
       "    </tr>\n",
       "  </thead>\n",
       "  <tbody>\n",
       "    <tr>\n",
       "      <th>April</th>\n",
       "      <td>0.127951</td>\n",
       "    </tr>\n",
       "    <tr>\n",
       "      <th>August</th>\n",
       "      <td>-0.119078</td>\n",
       "    </tr>\n",
       "    <tr>\n",
       "      <th>December</th>\n",
       "      <td>-0.016485</td>\n",
       "    </tr>\n",
       "    <tr>\n",
       "      <th>February</th>\n",
       "      <td>0.019896</td>\n",
       "    </tr>\n",
       "    <tr>\n",
       "      <th>January</th>\n",
       "      <td>-0.010579</td>\n",
       "    </tr>\n",
       "    <tr>\n",
       "      <th>July</th>\n",
       "      <td>0.013853</td>\n",
       "    </tr>\n",
       "    <tr>\n",
       "      <th>June</th>\n",
       "      <td>-0.052573</td>\n",
       "    </tr>\n",
       "    <tr>\n",
       "      <th>March</th>\n",
       "      <td>-0.083954</td>\n",
       "    </tr>\n",
       "    <tr>\n",
       "      <th>May</th>\n",
       "      <td>-0.030155</td>\n",
       "    </tr>\n",
       "    <tr>\n",
       "      <th>November</th>\n",
       "      <td>0.363776</td>\n",
       "    </tr>\n",
       "    <tr>\n",
       "      <th>October</th>\n",
       "      <td>0.008113</td>\n",
       "    </tr>\n",
       "    <tr>\n",
       "      <th>September</th>\n",
       "      <td>0.000000</td>\n",
       "    </tr>\n",
       "  </tbody>\n",
       "</table>\n",
       "</div>"
      ],
      "text/plain": [
       "           Return_perc\n",
       "Month                 \n",
       "April         0.127951\n",
       "August       -0.119078\n",
       "December     -0.016485\n",
       "February      0.019896\n",
       "January      -0.010579\n",
       "July          0.013853\n",
       "June         -0.052573\n",
       "March        -0.083954\n",
       "May          -0.030155\n",
       "November      0.363776\n",
       "October       0.008113\n",
       "September     0.000000"
      ]
     },
     "execution_count": 195,
     "metadata": {},
     "output_type": "execute_result"
    }
   ],
   "source": [
    "monthly_cum_return = dqn[[\"Month\",\"Return_perc\"]].groupby(\"Month\").prod()-1\n",
    "monthly_cum_return"
   ]
  },
  {
   "cell_type": "code",
   "execution_count": 191,
   "metadata": {},
   "outputs": [
    {
     "data": {
      "text/html": [
       "<div>\n",
       "<style scoped>\n",
       "    .dataframe tbody tr th:only-of-type {\n",
       "        vertical-align: middle;\n",
       "    }\n",
       "\n",
       "    .dataframe tbody tr th {\n",
       "        vertical-align: top;\n",
       "    }\n",
       "\n",
       "    .dataframe thead th {\n",
       "        text-align: right;\n",
       "    }\n",
       "</style>\n",
       "<table border=\"1\" class=\"dataframe\">\n",
       "  <thead>\n",
       "    <tr style=\"text-align: right;\">\n",
       "      <th></th>\n",
       "      <th>price_change</th>\n",
       "    </tr>\n",
       "    <tr>\n",
       "      <th>Month</th>\n",
       "      <th></th>\n",
       "    </tr>\n",
       "  </thead>\n",
       "  <tbody>\n",
       "    <tr>\n",
       "      <th>April</th>\n",
       "      <td>0.028495</td>\n",
       "    </tr>\n",
       "    <tr>\n",
       "      <th>August</th>\n",
       "      <td>-0.056791</td>\n",
       "    </tr>\n",
       "    <tr>\n",
       "      <th>December</th>\n",
       "      <td>0.008533</td>\n",
       "    </tr>\n",
       "    <tr>\n",
       "      <th>February</th>\n",
       "      <td>0.031957</td>\n",
       "    </tr>\n",
       "    <tr>\n",
       "      <th>January</th>\n",
       "      <td>0.011204</td>\n",
       "    </tr>\n",
       "    <tr>\n",
       "      <th>July</th>\n",
       "      <td>-0.021474</td>\n",
       "    </tr>\n",
       "    <tr>\n",
       "      <th>June</th>\n",
       "      <td>-0.018257</td>\n",
       "    </tr>\n",
       "    <tr>\n",
       "      <th>March</th>\n",
       "      <td>-0.001047</td>\n",
       "    </tr>\n",
       "    <tr>\n",
       "      <th>May</th>\n",
       "      <td>-0.013501</td>\n",
       "    </tr>\n",
       "    <tr>\n",
       "      <th>November</th>\n",
       "      <td>-0.005059</td>\n",
       "    </tr>\n",
       "    <tr>\n",
       "      <th>October</th>\n",
       "      <td>0.107723</td>\n",
       "    </tr>\n",
       "    <tr>\n",
       "      <th>September</th>\n",
       "      <td>-0.071762</td>\n",
       "    </tr>\n",
       "  </tbody>\n",
       "</table>\n",
       "</div>"
      ],
      "text/plain": [
       "           price_change\n",
       "Month                  \n",
       "April          0.028495\n",
       "August        -0.056791\n",
       "December       0.008533\n",
       "February       0.031957\n",
       "January        0.011204\n",
       "July          -0.021474\n",
       "June          -0.018257\n",
       "March         -0.001047\n",
       "May           -0.013501\n",
       "November      -0.005059\n",
       "October        0.107723\n",
       "September     -0.071762"
      ]
     },
     "execution_count": 191,
     "metadata": {},
     "output_type": "execute_result"
    }
   ],
   "source": [
    "monthly_cum_return500 = sp500[[\"Month\",\"price_change\"]].groupby(\"Month\").prod()-1\n",
    "monthly_cum_return500"
   ]
  },
  {
   "cell_type": "code",
   "execution_count": 202,
   "metadata": {},
   "outputs": [
    {
     "data": {
      "text/plain": [
       "Text(0.5, 1.0, 'Cumulative Returns by Month')"
      ]
     },
     "execution_count": 202,
     "metadata": {},
     "output_type": "execute_result"
    },
    {
     "data": {
      "image/png": "[encoded data removed]",
      "text/plain": [
       "<Figure size 432x288 with 1 Axes>"
      ]
     },
     "metadata": {
      "needs_background": "light"
     },
     "output_type": "display_data"
    }
   ],
   "source": [
    "ax = sns.barplot(data=monthly_cum_return, x=\"Return_perc\", y=monthly_cum_return.index)\n",
    "ax.axvline(x=monthly_cum_return[\"Return_perc\"].median(),linewidth=2, alpha=.7)\n",
    "ax.set_title(\"Cumulative Returns by Month\")"
   ]
  },
  {
   "cell_type": "code",
   "execution_count": 200,
   "metadata": {},
   "outputs": [
    {
     "data": {
      "text/plain": [
       "Text(0.5, 1.0, 'Cumulative Returns by Month')"
      ]
     },
     "execution_count": 200,
     "metadata": {},
     "output_type": "execute_result"
    },
    {
     "data": {
      "image/png": "[encoded data removed]",
      "text/plain": [
       "<Figure size 432x288 with 1 Axes>"
      ]
     },
     "metadata": {
      "needs_background": "light"
     },
     "output_type": "display_data"
    }
   ],
   "source": [
    "ax = sns.barplot(data=monthly_cum_return500, x=\"price_change\", y=monthly_cum_return500.index)\n",
    "ax.axvline(x=monthly_cum_return500[\"price_change\"].median(),linewidth=2, alpha=.7)\n",
    "ax.set_title(\"Cumulative Returns by Month\")"
   ]
  },
  {
   "cell_type": "code",
   "execution_count": 52,
   "metadata": {},
   "outputs": [
    {
     "data": {
      "text/plain": [
       "Text(0.5, 1.0, 'Average Returns per Weekday')"
      ]
     },
     "execution_count": 52,
     "metadata": {},
     "output_type": "execute_result"
    },
    {
     "data": {
      "image/png": "[encoded data removed]",
      "text/plain": [
       "<Figure size 648x432 with 2 Axes>"
      ]
     },
     "metadata": {
      "needs_background": "light"
     },
     "output_type": "display_data"
    }
   ],
   "source": [
    "table = dqn[[\"Month\",\"Weekday\",\"Return_perc\"]].pivot_table(index=\"Month\",columns=\"Weekday\",values=\"Return_perc\", aggfunc=np.mean)\n",
    "f, ax = plt.subplots(figsize=(9, 6))\n",
    "sns.heatmap(table, annot=True, fmt=\"g\", cmap=\"Greens\", linewidths=.5, ax=ax)\n",
    "ax.set_title('Average Returns per Weekday')"
   ]
  },
  {
   "cell_type": "code",
   "execution_count": 203,
   "metadata": {},
   "outputs": [
    {
     "data": {
      "text/plain": [
       "Text(0.5, 1.0, 'Average Returns per Weekday')"
      ]
     },
     "execution_count": 203,
     "metadata": {},
     "output_type": "execute_result"
    },
    {
     "data": {
      "image/png": "[encoded data removed]",
      "text/plain": [
       "<Figure size 648x432 with 2 Axes>"
      ]
     },
     "metadata": {
      "needs_background": "light"
     },
     "output_type": "display_data"
    }
   ],
   "source": [
    "table = sp500[[\"Month\",\"Weekday\",\"price_change\"]].pivot_table(index=\"Month\",columns=\"Weekday\",values=\"price_change\", aggfunc=np.mean)\n",
    "f, ax = plt.subplots(figsize=(9, 6))\n",
    "sns.heatmap(table, annot=True, fmt=\"g\", cmap=\"Greens\", linewidths=.5, ax=ax)\n",
    "ax.set_title('Average Returns per Weekday')"
   ]
  },
  {
   "cell_type": "code",
   "execution_count": 62,
   "metadata": {},
   "outputs": [
    {
     "data": {
      "text/plain": [
       "False    91\n",
       "True     31\n",
       "Name: success, dtype: int64"
      ]
     },
     "execution_count": 62,
     "metadata": {},
     "output_type": "execute_result"
    }
   ],
   "source": [
    "dqn[\"success\"] = dqn[\"Return_perc\"]>1\n",
    "dqn.success.value_counts()"
   ]
  },
  {
   "cell_type": "code",
   "execution_count": 206,
   "metadata": {},
   "outputs": [
    {
     "data": {
      "text/plain": [
       "0.2540983606557377"
      ]
     },
     "execution_count": 206,
     "metadata": {},
     "output_type": "execute_result"
    }
   ],
   "source": [
    "31/(91+31)"
   ]
  },
  {
   "cell_type": "code",
   "execution_count": 205,
   "metadata": {},
   "outputs": [
    {
     "data": {
      "text/plain": [
       "True     137\n",
       "False    114\n",
       "Name: success, dtype: int64"
      ]
     },
     "execution_count": 205,
     "metadata": {},
     "output_type": "execute_result"
    }
   ],
   "source": [
    "sp500[\"success\"] = sp500[\"price_change\"]>1\n",
    "sp500.success.value_counts()"
   ]
  },
  {
   "cell_type": "code",
   "execution_count": 207,
   "metadata": {},
   "outputs": [
    {
     "data": {
      "text/plain": [
       "0.545816733067729"
      ]
     },
     "execution_count": 207,
     "metadata": {},
     "output_type": "execute_result"
    }
   ],
   "source": [
    "137/(114+137)"
   ]
  },
  {
   "cell_type": "code",
   "execution_count": 55,
   "metadata": {},
   "outputs": [],
   "source": [
    "underwater = np.where(dqn['Strategy']< dqn['Strategy'].rolling(10).max(), dqn['Strategy']-dqn['Strategy'].rolling(10).max(), 0)"
   ]
  },
  {
   "cell_type": "code",
   "execution_count": 56,
   "metadata": {},
   "outputs": [
    {
     "data": {
      "image/png": "[encoded data removed]",
      "text/plain": [
       "<Figure size 432x288 with 1 Axes>"
      ]
     },
     "metadata": {
      "needs_background": "light"
     },
     "output_type": "display_data"
    }
   ],
   "source": [
    "plt.fill_between(x=range(len(underwater)), y1=underwater, color=\"skyblue\", alpha=0.2)\n",
    "plt.plot(range(len(underwater)), underwater, color=\"Slateblue\", alpha=0.6)\n",
    "plt.title(\"Underwater Plot\")\n",
    "plt.show()"
   ]
  },
  {
   "cell_type": "code",
   "execution_count": 153,
   "metadata": {},
   "outputs": [
    {
     "data": {
      "text/plain": [
       "<matplotlib.axes._subplots.AxesSubplot at 0x1d5c16e7e20>"
      ]
     },
     "execution_count": 153,
     "metadata": {},
     "output_type": "execute_result"
    },
    {
     "data": {
      "image/png": "[encoded data removed]",
      "text/plain": [
       "<Figure size 432x288 with 1 Axes>"
      ]
     },
     "metadata": {
      "needs_background": "light"
     },
     "output_type": "display_data"
    }
   ],
   "source": [
    "dqn = pd.read_csv(\"./data/dqn_model.csv\", parse_dates=[\"Date\"])\n",
    "dqn[\"Profits\"] = dqn[\"Profits\"]*0.9\n",
    "dqn[\"Return_perc\"] = dqn[\"Profits\"]*0.9/dqn[\"Price\"]*1.1 + 1\n",
    "dqn[\"Strategy\"] = dqn[\"Profits\"].cumsum()\n",
    "dqn[\"Return_perc\"].cumprod().plot()"
   ]
  },
  {
   "cell_type": "code",
   "execution_count": null,
   "metadata": {},
   "outputs": [],
   "source": []
  },
  {
   "cell_type": "code",
   "execution_count": 144,
   "metadata": {},
   "outputs": [
    {
     "data": {
      "text/plain": [
       "0.018020000000000095"
      ]
     },
     "execution_count": 144,
     "metadata": {},
     "output_type": "execute_result"
    }
   ],
   "source": [
    "18.020000000000095/1000"
   ]
  },
  {
   "cell_type": "code",
   "execution_count": 141,
   "metadata": {},
   "outputs": [
    {
     "data": {
      "text/plain": [
       "20"
      ]
     },
     "execution_count": 141,
     "metadata": {},
     "output_type": "execute_result"
    }
   ],
   "source": [
    "1000-980"
   ]
  },
  {
   "cell_type": "code",
   "execution_count": 142,
   "metadata": {},
   "outputs": [
    {
     "data": {
      "text/plain": [
       "0.02"
      ]
     },
     "execution_count": 142,
     "metadata": {},
     "output_type": "execute_result"
    }
   ],
   "source": [
    "20/1000"
   ]
  },
  {
   "cell_type": "code",
   "execution_count": 143,
   "metadata": {},
   "outputs": [
    {
     "data": {
      "text/plain": [
       "18.020000000000095"
      ]
     },
     "execution_count": 143,
     "metadata": {},
     "output_type": "execute_result"
    }
   ],
   "source": [
    "(1000*.999)-(980*1.001)"
   ]
  },
  {
   "cell_type": "markdown",
   "metadata": {},
   "source": [
    "Sources: Wikipedia.org"
   ]
  }
 ],
 "metadata": {
  "kernelspec": {
   "display_name": "Python 3",
   "language": "python",
   "name": "python3"
  },
  "language_info": {
   "codemirror_mode": {
    "name": "ipython",
    "version": 3
   },
   "file_extension": ".py",
   "mimetype": "text/x-python",
   "name": "python",
   "nbconvert_exporter": "python",
   "pygments_lexer": "ipython3",
   "version": "3.8.2"
  }
 },
 "nbformat": 4,
 "nbformat_minor": 4
}

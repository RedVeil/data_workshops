{
 "cells": [
  {
   "cell_type": "code",
   "execution_count": 1,
   "metadata": {
    "scrolled": true
   },
   "outputs": [
    {
     "data": {
      "text/html": [
       "\n",
       "    <div class=\"bk-root\">\n",
       "        <a href=\"https://bokeh.org\" target=\"_blank\" class=\"bk-logo bk-logo-small bk-logo-notebook\"></a>\n",
       "        <span id=\"1001\">Loading BokehJS ...</span>\n",
       "    </div>"
      ]
     },
     "metadata": {},
     "output_type": "display_data"
    },
    {
     "data": {
      "application/javascript": [
       "\n",
       "(function(root) {\n",
       "  function now() {\n",
       "    return new Date();\n",
       "  }\n",
       "\n",
       "  var force = true;\n",
       "\n",
       "  if (typeof root._bokeh_onload_callbacks === \"undefined\" || force === true) {\n",
       "    root._bokeh_onload_callbacks = [];\n",
       "    root._bokeh_is_loading = undefined;\n",
       "  }\n",
       "\n",
       "  var JS_MIME_TYPE = 'application/javascript';\n",
       "  var HTML_MIME_TYPE = 'text/html';\n",
       "  var EXEC_MIME_TYPE = 'application/vnd.bokehjs_exec.v0+json';\n",
       "  var CLASS_NAME = 'output_bokeh rendered_html';\n",
       "\n",
       "  /**\n",
       "   * Render data to the DOM node\n",
       "   */\n",
       "  function render(props, node) {\n",
       "    var script = document.createElement(\"script\");\n",
       "    node.appendChild(script);\n",
       "  }\n",
       "\n",
       "  /**\n",
       "   * Handle when an output is cleared or removed\n",
       "   */\n",
       "  function handleClearOutput(event, handle) {\n",
       "    var cell = handle.cell;\n",
       "\n",
       "    var id = cell.output_area._bokeh_element_id;\n",
       "    var server_id = cell.output_area._bokeh_server_id;\n",
       "    // Clean up Bokeh references\n",
       "    if (id != null && id in Bokeh.index) {\n",
       "      Bokeh.index[id].model.document.clear();\n",
       "      delete Bokeh.index[id];\n",
       "    }\n",
       "\n",
       "    if (server_id !== undefined) {\n",
       "      // Clean up Bokeh references\n",
       "      var cmd = \"from bokeh.io.state import curstate; print(curstate().uuid_to_server['\" + server_id + \"'].get_sessions()[0].document.roots[0]._id)\";\n",
       "      cell.notebook.kernel.execute(cmd, {\n",
       "        iopub: {\n",
       "          output: function(msg) {\n",
       "            var id = msg.content.text.trim();\n",
       "            if (id in Bokeh.index) {\n",
       "              Bokeh.index[id].model.document.clear();\n",
       "              delete Bokeh.index[id];\n",
       "            }\n",
       "          }\n",
       "        }\n",
       "      });\n",
       "      // Destroy server and session\n",
       "      var cmd = \"import bokeh.io.notebook as ion; ion.destroy_server('\" + server_id + \"')\";\n",
       "      cell.notebook.kernel.execute(cmd);\n",
       "    }\n",
       "  }\n",
       "\n",
       "  /**\n",
       "   * Handle when a new output is added\n",
       "   */\n",
       "  function handleAddOutput(event, handle) {\n",
       "    var output_area = handle.output_area;\n",
       "    var output = handle.output;\n",
       "\n",
       "    // limit handleAddOutput to display_data with EXEC_MIME_TYPE content only\n",
       "    if ((output.output_type != \"display_data\") || (!output.data.hasOwnProperty(EXEC_MIME_TYPE))) {\n",
       "      return\n",
       "    }\n",
       "\n",
       "    var toinsert = output_area.element.find(\".\" + CLASS_NAME.split(' ')[0]);\n",
       "\n",
       "    if (output.metadata[EXEC_MIME_TYPE][\"id\"] !== undefined) {\n",
       "      toinsert[toinsert.length - 1].firstChild.textContent = output.data[JS_MIME_TYPE];\n",
       "      // store reference to embed id on output_area\n",
       "      output_area._bokeh_element_id = output.metadata[EXEC_MIME_TYPE][\"id\"];\n",
       "    }\n",
       "    if (output.metadata[EXEC_MIME_TYPE][\"server_id\"] !== undefined) {\n",
       "      var bk_div = document.createElement(\"div\");\n",
       "      bk_div.innerHTML = output.data[HTML_MIME_TYPE];\n",
       "      var script_attrs = bk_div.children[0].attributes;\n",
       "      for (var i = 0; i < script_attrs.length; i++) {\n",
       "        toinsert[toinsert.length - 1].firstChild.setAttribute(script_attrs[i].name, script_attrs[i].value);\n",
       "        toinsert[toinsert.length - 1].firstChild.textContent = bk_div.children[0].textContent\n",
       "      }\n",
       "      // store reference to server id on output_area\n",
       "      output_area._bokeh_server_id = output.metadata[EXEC_MIME_TYPE][\"server_id\"];\n",
       "    }\n",
       "  }\n",
       "\n",
       "  function register_renderer(events, OutputArea) {\n",
       "\n",
       "    function append_mime(data, metadata, element) {\n",
       "      // create a DOM node to render to\n",
       "      var toinsert = this.create_output_subarea(\n",
       "        metadata,\n",
       "        CLASS_NAME,\n",
       "        EXEC_MIME_TYPE\n",
       "      );\n",
       "      this.keyboard_manager.register_events(toinsert);\n",
       "      // Render to node\n",
       "      var props = {data: data, metadata: metadata[EXEC_MIME_TYPE]};\n",
       "      render(props, toinsert[toinsert.length - 1]);\n",
       "      element.append(toinsert);\n",
       "      return toinsert\n",
       "    }\n",
       "\n",
       "    /* Handle when an output is cleared or removed */\n",
       "    events.on('clear_output.CodeCell', handleClearOutput);\n",
       "    events.on('delete.Cell', handleClearOutput);\n",
       "\n",
       "    /* Handle when a new output is added */\n",
       "    events.on('output_added.OutputArea', handleAddOutput);\n",
       "\n",
       "    /**\n",
       "     * Register the mime type and append_mime function with output_area\n",
       "     */\n",
       "    OutputArea.prototype.register_mime_type(EXEC_MIME_TYPE, append_mime, {\n",
       "      /* Is output safe? */\n",
       "      safe: true,\n",
       "      /* Index of renderer in `output_area.display_order` */\n",
       "      index: 0\n",
       "    });\n",
       "  }\n",
       "\n",
       "  // register the mime type if in Jupyter Notebook environment and previously unregistered\n",
       "  if (root.Jupyter !== undefined) {\n",
       "    var events = require('base/js/events');\n",
       "    var OutputArea = require('notebook/js/outputarea').OutputArea;\n",
       "\n",
       "    if (OutputArea.prototype.mime_types().indexOf(EXEC_MIME_TYPE) == -1) {\n",
       "      register_renderer(events, OutputArea);\n",
       "    }\n",
       "  }\n",
       "\n",
       "  \n",
       "  if (typeof (root._bokeh_timeout) === \"undefined\" || force === true) {\n",
       "    root._bokeh_timeout = Date.now() + 5000;\n",
       "    root._bokeh_failed_load = false;\n",
       "  }\n",
       "\n",
       "  var NB_LOAD_WARNING = {'data': {'text/html':\n",
       "     \"<div style='background-color: #fdd'>\\n\"+\n",
       "     \"<p>\\n\"+\n",
       "     \"BokehJS does not appear to have successfully loaded. If loading BokehJS from CDN, this \\n\"+\n",
       "     \"may be due to a slow or bad network connection. Possible fixes:\\n\"+\n",
       "     \"</p>\\n\"+\n",
       "     \"<ul>\\n\"+\n",
       "     \"<li>re-rerun `output_notebook()` to attempt to load from CDN again, or</li>\\n\"+\n",
       "     \"<li>use INLINE resources instead, as so:</li>\\n\"+\n",
       "     \"</ul>\\n\"+\n",
       "     \"<code>\\n\"+\n",
       "     \"from bokeh.resources import INLINE\\n\"+\n",
       "     \"output_notebook(resources=INLINE)\\n\"+\n",
       "     \"</code>\\n\"+\n",
       "     \"</div>\"}};\n",
       "\n",
       "  function display_loaded() {\n",
       "    var el = document.getElementById(\"1001\");\n",
       "    if (el != null) {\n",
       "      el.textContent = \"BokehJS is loading...\";\n",
       "    }\n",
       "    if (root.Bokeh !== undefined) {\n",
       "      if (el != null) {\n",
       "        el.textContent = \"BokehJS \" + root.Bokeh.version + \" successfully loaded.\";\n",
       "      }\n",
       "    } else if (Date.now() < root._bokeh_timeout) {\n",
       "      setTimeout(display_loaded, 100)\n",
       "    }\n",
       "  }\n",
       "\n",
       "\n",
       "  function run_callbacks() {\n",
       "    try {\n",
       "      root._bokeh_onload_callbacks.forEach(function(callback) {\n",
       "        if (callback != null)\n",
       "          callback();\n",
       "      });\n",
       "    } finally {\n",
       "      delete root._bokeh_onload_callbacks\n",
       "    }\n",
       "    console.debug(\"Bokeh: all callbacks have finished\");\n",
       "  }\n",
       "\n",
       "  function load_libs(css_urls, js_urls, callback) {\n",
       "    if (css_urls == null) css_urls = [];\n",
       "    if (js_urls == null) js_urls = [];\n",
       "\n",
       "    root._bokeh_onload_callbacks.push(callback);\n",
       "    if (root._bokeh_is_loading > 0) {\n",
       "      console.debug(\"Bokeh: BokehJS is being loaded, scheduling callback at\", now());\n",
       "      return null;\n",
       "    }\n",
       "    if (js_urls == null || js_urls.length === 0) {\n",
       "      run_callbacks();\n",
       "      return null;\n",
       "    }\n",
       "    console.debug(\"Bokeh: BokehJS not loaded, scheduling load and callback at\", now());\n",
       "    root._bokeh_is_loading = css_urls.length + js_urls.length;\n",
       "\n",
       "    function on_load() {\n",
       "      root._bokeh_is_loading--;\n",
       "      if (root._bokeh_is_loading === 0) {\n",
       "        console.debug(\"Bokeh: all BokehJS libraries/stylesheets loaded\");\n",
       "        run_callbacks()\n",
       "      }\n",
       "    }\n",
       "\n",
       "    function on_error() {\n",
       "      console.error(\"failed to load \" + url);\n",
       "    }\n",
       "\n",
       "    for (var i = 0; i < css_urls.length; i++) {\n",
       "      var url = css_urls[i];\n",
       "      const element = document.createElement(\"link\");\n",
       "      element.onload = on_load;\n",
       "      element.onerror = on_error;\n",
       "      element.rel = \"stylesheet\";\n",
       "      element.type = \"text/css\";\n",
       "      element.href = url;\n",
       "      console.debug(\"Bokeh: injecting link tag for BokehJS stylesheet: \", url);\n",
       "      document.body.appendChild(element);\n",
       "    }\n",
       "\n",
       "    for (var i = 0; i < js_urls.length; i++) {\n",
       "      var url = js_urls[i];\n",
       "      var element = document.createElement('script');\n",
       "      element.onload = on_load;\n",
       "      element.onerror = on_error;\n",
       "      element.async = false;\n",
       "      element.src = url;\n",
       "      \n",
       "      console.debug(\"Bokeh: injecting script tag for BokehJS library: \", url);\n",
       "      document.head.appendChild(element);\n",
       "    }\n",
       "  };var element = document.getElementById(\"1001\");\n",
       "  if (element == null) {\n",
       "    console.error(\"Bokeh: ERROR: autoload.js configured with elementid '1001' but no matching script tag was found. \")\n",
       "    return false;\n",
       "  }\n",
       "\n",
       "  function inject_raw_css(css) {\n",
       "    const element = document.createElement(\"style\");\n",
       "    element.appendChild(document.createTextNode(css));\n",
       "    document.body.appendChild(element);\n",
       "  }\n",
       "\n",
       "  \n",
       "  var js_urls = [\"https://cdn.bokeh.org/bokeh/release/bokeh-2.0.0.min.js\", \"https://cdn.bokeh.org/bokeh/release/bokeh-widgets-2.0.0.min.js\", \"https://cdn.bokeh.org/bokeh/release/bokeh-tables-2.0.0.min.js\", \"https://cdn.bokeh.org/bokeh/release/bokeh-gl-2.0.0.min.js\"];\n",
       "  var css_urls = [];\n",
       "  \n",
       "\n",
       "  var inline_js = [\n",
       "    function(Bokeh) {\n",
       "      Bokeh.set_log_level(\"info\");\n",
       "    },\n",
       "    function(Bokeh) {\n",
       "    \n",
       "    \n",
       "    }\n",
       "  ];\n",
       "\n",
       "  function run_inline_js() {\n",
       "    \n",
       "    if (root.Bokeh !== undefined || force === true) {\n",
       "      \n",
       "    for (var i = 0; i < inline_js.length; i++) {\n",
       "      inline_js[i].call(root, root.Bokeh);\n",
       "    }\n",
       "    if (force === true) {\n",
       "        display_loaded();\n",
       "      }} else if (Date.now() < root._bokeh_timeout) {\n",
       "      setTimeout(run_inline_js, 100);\n",
       "    } else if (!root._bokeh_failed_load) {\n",
       "      console.log(\"Bokeh: BokehJS failed to load within specified timeout.\");\n",
       "      root._bokeh_failed_load = true;\n",
       "    } else if (force !== true) {\n",
       "      var cell = $(document.getElementById(\"1001\")).parents('.cell').data().cell;\n",
       "      cell.output_area.append_execute_result(NB_LOAD_WARNING)\n",
       "    }\n",
       "\n",
       "  }\n",
       "\n",
       "  if (root._bokeh_is_loading === 0) {\n",
       "    console.debug(\"Bokeh: BokehJS loaded, going straight to plotting\");\n",
       "    run_inline_js();\n",
       "  } else {\n",
       "    load_libs(css_urls, js_urls, function() {\n",
       "      console.debug(\"Bokeh: BokehJS plotting callback run at\", now());\n",
       "      run_inline_js();\n",
       "    });\n",
       "  }\n",
       "}(window));"
      ],
      "application/vnd.bokehjs_load.v0+json": "\n(function(root) {\n  function now() {\n    return new Date();\n  }\n\n  var force = true;\n\n  if (typeof root._bokeh_onload_callbacks === \"undefined\" || force === true) {\n    root._bokeh_onload_callbacks = [];\n    root._bokeh_is_loading = undefined;\n  }\n\n  \n\n  \n  if (typeof (root._bokeh_timeout) === \"undefined\" || force === true) {\n    root._bokeh_timeout = Date.now() + 5000;\n    root._bokeh_failed_load = false;\n  }\n\n  var NB_LOAD_WARNING = {'data': {'text/html':\n     \"<div style='background-color: #fdd'>\\n\"+\n     \"<p>\\n\"+\n     \"BokehJS does not appear to have successfully loaded. If loading BokehJS from CDN, this \\n\"+\n     \"may be due to a slow or bad network connection. Possible fixes:\\n\"+\n     \"</p>\\n\"+\n     \"<ul>\\n\"+\n     \"<li>re-rerun `output_notebook()` to attempt to load from CDN again, or</li>\\n\"+\n     \"<li>use INLINE resources instead, as so:</li>\\n\"+\n     \"</ul>\\n\"+\n     \"<code>\\n\"+\n     \"from bokeh.resources import INLINE\\n\"+\n     \"output_notebook(resources=INLINE)\\n\"+\n     \"</code>\\n\"+\n     \"</div>\"}};\n\n  function display_loaded() {\n    var el = document.getElementById(\"1001\");\n    if (el != null) {\n      el.textContent = \"BokehJS is loading...\";\n    }\n    if (root.Bokeh !== undefined) {\n      if (el != null) {\n        el.textContent = \"BokehJS \" + root.Bokeh.version + \" successfully loaded.\";\n      }\n    } else if (Date.now() < root._bokeh_timeout) {\n      setTimeout(display_loaded, 100)\n    }\n  }\n\n\n  function run_callbacks() {\n    try {\n      root._bokeh_onload_callbacks.forEach(function(callback) {\n        if (callback != null)\n          callback();\n      });\n    } finally {\n      delete root._bokeh_onload_callbacks\n    }\n    console.debug(\"Bokeh: all callbacks have finished\");\n  }\n\n  function load_libs(css_urls, js_urls, callback) {\n    if (css_urls == null) css_urls = [];\n    if (js_urls == null) js_urls = [];\n\n    root._bokeh_onload_callbacks.push(callback);\n    if (root._bokeh_is_loading > 0) {\n      console.debug(\"Bokeh: BokehJS is being loaded, scheduling callback at\", now());\n      return null;\n    }\n    if (js_urls == null || js_urls.length === 0) {\n      run_callbacks();\n      return null;\n    }\n    console.debug(\"Bokeh: BokehJS not loaded, scheduling load and callback at\", now());\n    root._bokeh_is_loading = css_urls.length + js_urls.length;\n\n    function on_load() {\n      root._bokeh_is_loading--;\n      if (root._bokeh_is_loading === 0) {\n        console.debug(\"Bokeh: all BokehJS libraries/stylesheets loaded\");\n        run_callbacks()\n      }\n    }\n\n    function on_error() {\n      console.error(\"failed to load \" + url);\n    }\n\n    for (var i = 0; i < css_urls.length; i++) {\n      var url = css_urls[i];\n      const element = document.createElement(\"link\");\n      element.onload = on_load;\n      element.onerror = on_error;\n      element.rel = \"stylesheet\";\n      element.type = \"text/css\";\n      element.href = url;\n      console.debug(\"Bokeh: injecting link tag for BokehJS stylesheet: \", url);\n      document.body.appendChild(element);\n    }\n\n    for (var i = 0; i < js_urls.length; i++) {\n      var url = js_urls[i];\n      var element = document.createElement('script');\n      element.onload = on_load;\n      element.onerror = on_error;\n      element.async = false;\n      element.src = url;\n      \n      console.debug(\"Bokeh: injecting script tag for BokehJS library: \", url);\n      document.head.appendChild(element);\n    }\n  };var element = document.getElementById(\"1001\");\n  if (element == null) {\n    console.error(\"Bokeh: ERROR: autoload.js configured with elementid '1001' but no matching script tag was found. \")\n    return false;\n  }\n\n  function inject_raw_css(css) {\n    const element = document.createElement(\"style\");\n    element.appendChild(document.createTextNode(css));\n    document.body.appendChild(element);\n  }\n\n  \n  var js_urls = [\"https://cdn.bokeh.org/bokeh/release/bokeh-2.0.0.min.js\", \"https://cdn.bokeh.org/bokeh/release/bokeh-widgets-2.0.0.min.js\", \"https://cdn.bokeh.org/bokeh/release/bokeh-tables-2.0.0.min.js\", \"https://cdn.bokeh.org/bokeh/release/bokeh-gl-2.0.0.min.js\"];\n  var css_urls = [];\n  \n\n  var inline_js = [\n    function(Bokeh) {\n      Bokeh.set_log_level(\"info\");\n    },\n    function(Bokeh) {\n    \n    \n    }\n  ];\n\n  function run_inline_js() {\n    \n    if (root.Bokeh !== undefined || force === true) {\n      \n    for (var i = 0; i < inline_js.length; i++) {\n      inline_js[i].call(root, root.Bokeh);\n    }\n    if (force === true) {\n        display_loaded();\n      }} else if (Date.now() < root._bokeh_timeout) {\n      setTimeout(run_inline_js, 100);\n    } else if (!root._bokeh_failed_load) {\n      console.log(\"Bokeh: BokehJS failed to load within specified timeout.\");\n      root._bokeh_failed_load = true;\n    } else if (force !== true) {\n      var cell = $(document.getElementById(\"1001\")).parents('.cell').data().cell;\n      cell.output_area.append_execute_result(NB_LOAD_WARNING)\n    }\n\n  }\n\n  if (root._bokeh_is_loading === 0) {\n    console.debug(\"Bokeh: BokehJS loaded, going straight to plotting\");\n    run_inline_js();\n  } else {\n    load_libs(css_urls, js_urls, function() {\n      console.debug(\"Bokeh: BokehJS plotting callback run at\", now());\n      run_inline_js();\n    });\n  }\n}(window));"
     },
     "metadata": {},
     "output_type": "display_data"
    }
   ],
   "source": [
    "import pandas as pd\n",
    "import numpy as np\n",
    "import matplotlib.pyplot as plt\n",
    "import seaborn as sns\n",
    "from bokeh.io import show, output_notebook\n",
    "from bokeh.layouts import column\n",
    "from bokeh.plotting import figure, output_file, show\n",
    "from bokeh.layouts import layout, row\n",
    "from bokeh.models import ColumnDataSource,HoverTool,Span, BoxAnnotation\n",
    "from datetime import datetime\n",
    "output_notebook()"
   ]
  },
  {
   "cell_type": "code",
   "execution_count": 2,
   "metadata": {
    "scrolled": true
   },
   "outputs": [],
   "source": [
    "hover_price = HoverTool(\n",
    "                tooltips=[\n",
    "                    ('date','@date{%F}'),\n",
    "                    ('price','$@{price}{0.2}'),],\n",
    "                formatters={\n",
    "                    '@date':'datetime',\n",
    "                    '@{price}':\"numeral\",\n",
    "                },\n",
    "                mode='vline')"
   ]
  },
  {
   "cell_type": "code",
   "execution_count": 3,
   "metadata": {
    "scrolled": true
   },
   "outputs": [],
   "source": [
    "hover_change = HoverTool(\n",
    "                tooltips=[\n",
    "                    ('date','@date{%F}'),\n",
    "                    ('change','@{change}{.0000}'),],\n",
    "                formatters={\n",
    "                    '@date':'datetime',\n",
    "                    '@{change}':\"numeral\",\n",
    "                },\n",
    "                mode='vline')"
   ]
  },
  {
   "cell_type": "code",
   "execution_count": 4,
   "metadata": {
    "scrolled": true
   },
   "outputs": [],
   "source": [
    "sp500 = pd.read_csv(\"./data/GSPC_2011.csv\", parse_dates=[\"Date\"])\n",
    "sp500[\"price_change\"] = sp500[\"Close\"].pct_change(1)+1\n",
    "sp500 = sp500.dropna()\n",
    "\n",
    "price = ColumnDataSource(data={\"date\":sp500[\"Date\"], \"price\":sp500['Close']})\n",
    "p = figure(title=\"SP500 Price\", plot_height=300, plot_width=900, tools=\"xpan\", toolbar_location=None,\n",
    "           x_axis_type=\"datetime\",background_fill_color=\"#efefef\", x_range=(sp500[\"Date\"].iloc[0], sp500[\"Date\"].iloc[-1]))\n",
    "p.line('date', 'price', source=price)\n",
    "p.yaxis.axis_label = 'Price'\n",
    "p.add_tools(hover_price)\n",
    "\n",
    "price_change = ColumnDataSource(data={\"date\":sp500[\"Date\"], \"change\":sp500['price_change']})\n",
    "c = figure(title=\"SP500 Daily Price Change\", plot_height=300, plot_width=900, tools=\"xpan\", toolbar_location=None,\n",
    "           x_axis_type=\"datetime\",background_fill_color=\"#efefef\", x_range=(sp500[\"Date\"].iloc[0], sp500[\"Date\"].iloc[-1]))\n",
    "\n",
    "c.line('date', 'change', source=price_change)\n",
    "c.yaxis.axis_label = 'Change'\n",
    "c.add_tools(hover_change)"
   ]
  },
  {
   "cell_type": "markdown",
   "metadata": {},
   "source": [
    "# Trading the SP500 with Reinforcement Learning"
   ]
  },
  {
   "cell_type": "markdown",
   "metadata": {},
   "source": [
    "### Abstract"
   ]
  },
  {
   "cell_type": "markdown",
   "metadata": {
    "scrolled": true
   },
   "source": [
    "Can a machine learning algorithm that could outperform the stock market?\n",
    "This was the question we sought to answer. To do so we trained a deep q-learning algorithm with end of day prices of the S&P 500 in 2011 to recommend favorable trades. \n",
    "Our agent managed to beat the market even though 2011 was a very volatile year for the stock market. Nevertheless the agent is not ready to be used in any real life scenario as it is way to volatile. More indicator and longer time frames are needed to train and test this model until it can be used."
   ]
  },
  {
   "cell_type": "markdown",
   "metadata": {},
   "source": [
    "### Introduction"
   ]
  },
  {
   "cell_type": "markdown",
   "metadata": {},
   "source": [
    "The stock market is a game of risk and uncertainty. Every day thousands of people trade with trillions of dollar to secure profits for themselves and their clients. How will the market move next? That is the question everyone tries to answer and the lucky few that predict this consistently can make billions of dollar. This game is played with intelligence and huge amounts of data but unfortunately also a lot of emotions.    \n",
    "Algorithms are build to process huge amounts of data, they are always focussed on their task, can act in milliseconds and dont have any emotions that could interfere. They are the perfect trader."
   ]
  },
  {
   "cell_type": "markdown",
   "metadata": {},
   "source": [
    "With recent advances in machine learning it seems only logical to ask if a machine learning algorithm fueled by tons of data could outperform human trader. So we started this project with the goal to build a **machine learning algorithm that could outperform the stock market**.    \n",
    "The goal here was two fold. On one hand we obviously want to teach an agent to recommend profitable trades but even more important than that was to learn how machine learning and especially reinforcement learning works in general. "
   ]
  },
  {
   "cell_type": "markdown",
   "metadata": {
    "scrolled": true
   },
   "source": [
    "The plan was to create a deep q-learning algorithm that would learn from historical timeseries data of the S&P 500 and recommend trades that, if executed would generate more profits than the S&P 500 in the same time."
   ]
  },
  {
   "cell_type": "markdown",
   "metadata": {},
   "source": [
    "### Materials and Methods"
   ]
  },
  {
   "cell_type": "markdown",
   "metadata": {},
   "source": [
    "The S&P 500 is one of the most common indices containing the 500 biggest US-companies by market capitalization. We used daily closing prices (the last reported price of any trading day) from YahooFinance. There are more specialized data-provider out there with even better data but the S&P 500 is well reported and Yahoo is more than precise enough for our experiments with reinforcement learning.\n",
    "\n",
    "The agent is trained using a Q-learning approach. We used a neural network and trained the algorithm with small baches of ten random successive trading days. Each time the algorithm chose an action that made a profit it got an reward and each time it lost money it suffered a punishement. This way the algorithm learns which actions are favorable and which are not. We used a Sequential model with three dense hidden layers which went through 300 training episodes. The agent gets ten successive data points and learns to predict the ideal action for the coming trading day. It can choose between doing nothing (“sit”), buying more (“buy”) or sell (“sell”). If the agent chooses to buy or sell it can only buy/sell one unit and it can obviously only sell what it already owns. The model only chooses action it has no concept of a budget or trading costs.\n"
   ]
  },
  {
   "cell_type": "markdown",
   "metadata": {},
   "source": [
    "```\n",
    "model = Sequential()\n",
    "model.add(Dense(units=64, input_dim=self.state_size, activation=\"relu\"))\n",
    "model.add(Dense(units=32, activation=\"relu\"))\n",
    "model.add(Dense(units=8, activation=\"relu\"))\n",
    "model.add(Dense(self.action_size, activation=\"linear\"))\n",
    "model.compile(loss=\"mse\", optimizer=Adam(lr=0.001))\n",
    "```"
   ]
  },
  {
   "cell_type": "markdown",
   "metadata": {},
   "source": [
    "We started to train the agent on daily data of the S&P 500 going from 2001 to 2011 but this proved simply to time intensive which is why we chose to only use data from the year 2011 for now. We chose 2011 cause we wanted to train the agent on a more complex data set, which also includes vast drawdowns instead of only a steady uptrend (which often leads to a simple buy and hold). \n",
    "\n",
    "There is not much data processing happening on the agent side. We normalized the closing prices and broke them into chunks of 10 data points.\n"
   ]
  },
  {
   "cell_type": "markdown",
   "metadata": {},
   "source": [
    "### Results"
   ]
  },
  {
   "cell_type": "markdown",
   "metadata": {},
   "source": [
    "Lets now speak about the results. In order to understand the underlying data on which the algorithm got trained we will go into a bit of history and show the major events happening in 2011 and how it impacted the S&P 500. "
   ]
  },
  {
   "cell_type": "markdown",
   "metadata": {},
   "source": [
    "February 15th - The first Libyan Civil War starts. Uncertainty about libyan oil production impacts the stock market."
   ]
  },
  {
   "cell_type": "code",
   "execution_count": 5,
   "metadata": {
    "scrolled": true
   },
   "outputs": [],
   "source": [
    "start_libyan_civil_war = Span(location=datetime(2011,2,15), dimension='height', line_color='orange', line_width=1)\n",
    "p.add_layout(start_libyan_civil_war)"
   ]
  },
  {
   "cell_type": "markdown",
   "metadata": {},
   "source": [
    "March 11th - Earthquake of strength 9.0 hits Japan. A Tsunami kills thousands of people and leads to a catastrophe in the nuclear reactor in Fukushima. Japans economy is in a shock which has ripple effects through other markets."
   ]
  },
  {
   "cell_type": "code",
   "execution_count": 6,
   "metadata": {
    "scrolled": true
   },
   "outputs": [],
   "source": [
    "japan_earthquake = Span(location=datetime(2011,3,11), dimension='height', line_color='purple', line_width=1)\n",
    "p.add_layout(japan_earthquake)"
   ]
  },
  {
   "cell_type": "markdown",
   "metadata": {},
   "source": [
    "March 15th - Exactly one month after the start of the libyan civil war the president of Bahrai declares a state of emergency in response to continous protests and mobilizes the army against them. In Syria the civil war starts. Fear of oil- and energy shortages in the US increase with conflicts in Libya, Bahrain and Syria and civil unrest in other arabic countries."
   ]
  },
  {
   "cell_type": "code",
   "execution_count": 7,
   "metadata": {
    "scrolled": true
   },
   "outputs": [],
   "source": [
    "bahrain_syria_conflicts = Span(location=datetime(2011,3,15), dimension='height', line_color='coral', line_width=1)\n",
    "p.add_layout(bahrain_syria_conflicts)"
   ]
  },
  {
   "cell_type": "markdown",
   "metadata": {},
   "source": [
    "June - Debates about the second bailout for greece lead to more and more uncertainty in the markets about the future of greece, europe and the euro."
   ]
  },
  {
   "cell_type": "code",
   "execution_count": 8,
   "metadata": {
    "scrolled": true
   },
   "outputs": [],
   "source": [
    "greek_baylout_debates = BoxAnnotation(left=datetime(2011,5,31), right=datetime(2011,6,29), fill_color='blue', fill_alpha=0.1)\n",
    "p.add_layout(greek_baylout_debates)"
   ]
  },
  {
   "cell_type": "markdown",
   "metadata": {},
   "source": [
    "June 29th - The third credit package for greece is confirmed. With it are huge austerity measures coming for greece and the greek public. "
   ]
  },
  {
   "cell_type": "code",
   "execution_count": 9,
   "metadata": {
    "scrolled": true
   },
   "outputs": [],
   "source": [
    "credit_greece = Span(location=datetime(2011,6,29), dimension='height', line_color='green', line_width=1)\n",
    "p.add_layout(credit_greece)"
   ]
  },
  {
   "cell_type": "markdown",
   "metadata": {},
   "source": [
    "August 5th - High debt and major difficulties regarding the US-Budget cause the US credit rating to drop from AAA to AA+. This is the first time since 1941 that the US doesn't count as AAA."
   ]
  },
  {
   "cell_type": "code",
   "execution_count": 10,
   "metadata": {
    "scrolled": true
   },
   "outputs": [],
   "source": [
    "us_credit_downgrade = Span(location=datetime(2011,8,5), dimension='height', line_color='red', line_width=1)\n",
    "p.add_layout(us_credit_downgrade)"
   ]
  },
  {
   "cell_type": "markdown",
   "metadata": {},
   "source": [
    "August till December - The US stock market is in a major crisis fueled by the european debt crisis and fear about its effect on the us economy. Occupy Wall Street starts their protests in september. The rest of the the year is marked by uncertainty, doubt and fear. Each uptrend gets wiped out quickly and drastically. The market can recover a bit to the end of the year."
   ]
  },
  {
   "cell_type": "markdown",
   "metadata": {},
   "source": [
    "September 19th - Italian credit gets downgrade from A+ to A. This is a major hit for many banks after they lend billions to stabilize the country"
   ]
  },
  {
   "cell_type": "code",
   "execution_count": 11,
   "metadata": {
    "scrolled": true
   },
   "outputs": [],
   "source": [
    "italian_credit_downgrade = Span(location=datetime(2011,9,19), dimension='height', line_color='red', line_width=1)\n",
    "p.add_layout(italian_credit_downgrade)"
   ]
  },
  {
   "cell_type": "markdown",
   "metadata": {},
   "source": [
    "[1]"
   ]
  },
  {
   "cell_type": "code",
   "execution_count": 12,
   "metadata": {
    "scrolled": false
   },
   "outputs": [
    {
     "data": {
      "text/html": [
       "\n",
       "\n",
       "\n",
       "\n",
       "\n",
       "\n",
       "  <div class=\"bk-root\" id=\"bed61ff1-3ba2-4efc-aa6a-d11920a369a2\" data-root-id=\"1069\"></div>\n"
      ]
     },
     "metadata": {},
     "output_type": "display_data"
    },
    {
     "data": {
      "application/javascript": [
       "(function(root) {\n",
       "  function embed_document(root) {\n",
       "    \n",
       "  var docs_json = {\"0540dacd-be84-472a-9996-e91d91c01d1d\":{\"roots\":{\"references\":[{\"attributes\":{\"children\":[{\"id\":\"1005\"},{\"id\":\"1034\"}]},\"id\":\"1069\",\"type\":\"Column\"},{\"attributes\":{\"axis\":{\"id\":\"1049\"},\"dimension\":1,\"ticker\":null},\"id\":\"1052\",\"type\":\"Grid\"},{\"attributes\":{},\"id\":\"1050\",\"type\":\"BasicTicker\"},{\"attributes\":{\"dimensions\":\"width\"},\"id\":\"1053\",\"type\":\"PanTool\"},{\"attributes\":{\"axis_label\":\"Change\",\"formatter\":{\"id\":\"1079\"},\"ticker\":{\"id\":\"1050\"}},\"id\":\"1049\",\"type\":\"LinearAxis\"},{\"attributes\":{\"line_color\":\"#1f77b4\",\"x\":{\"field\":\"date\"},\"y\":{\"field\":\"change\"}},\"id\":\"1057\",\"type\":\"Line\"},{\"attributes\":{\"active_drag\":\"auto\",\"active_inspect\":\"auto\",\"active_multi\":null,\"active_scroll\":\"auto\",\"active_tap\":\"auto\",\"tools\":[{\"id\":\"1053\"},{\"id\":\"1003\"}]},\"id\":\"1054\",\"type\":\"Toolbar\"},{\"attributes\":{\"axis\":{\"id\":\"1016\"},\"ticker\":null},\"id\":\"1019\",\"type\":\"Grid\"},{\"attributes\":{},\"id\":\"1080\",\"type\":\"Selection\"},{\"attributes\":{\"source\":{\"id\":\"1033\"}},\"id\":\"1060\",\"type\":\"CDSView\"},{\"attributes\":{\"background_fill_color\":\"#efefef\",\"below\":[{\"id\":\"1016\"}],\"center\":[{\"id\":\"1019\"},{\"id\":\"1023\"},{\"id\":\"1062\"},{\"id\":\"1063\"},{\"id\":\"1064\"},{\"id\":\"1065\"},{\"id\":\"1066\"},{\"id\":\"1067\"},{\"id\":\"1068\"}],\"left\":[{\"id\":\"1020\"}],\"plot_height\":300,\"plot_width\":900,\"renderers\":[{\"id\":\"1030\"}],\"title\":{\"id\":\"1006\"},\"toolbar\":{\"id\":\"1025\"},\"toolbar_location\":null,\"x_range\":{\"id\":\"1008\"},\"x_scale\":{\"id\":\"1012\"},\"y_range\":{\"id\":\"1010\"},\"y_scale\":{\"id\":\"1014\"}},\"id\":\"1005\",\"subtype\":\"Figure\",\"type\":\"Plot\"},{\"attributes\":{\"axis\":{\"id\":\"1045\"},\"ticker\":null},\"id\":\"1048\",\"type\":\"Grid\"},{\"attributes\":{\"background_fill_color\":\"#efefef\",\"below\":[{\"id\":\"1045\"}],\"center\":[{\"id\":\"1048\"},{\"id\":\"1052\"}],\"left\":[{\"id\":\"1049\"}],\"plot_height\":300,\"plot_width\":900,\"renderers\":[{\"id\":\"1059\"}],\"title\":{\"id\":\"1035\"},\"toolbar\":{\"id\":\"1054\"},\"toolbar_location\":null,\"x_range\":{\"id\":\"1037\"},\"x_scale\":{\"id\":\"1041\"},\"y_range\":{\"id\":\"1039\"},\"y_scale\":{\"id\":\"1043\"}},\"id\":\"1034\",\"subtype\":\"Figure\",\"type\":\"Plot\"},{\"attributes\":{\"line_alpha\":0.1,\"line_color\":\"#1f77b4\",\"x\":{\"field\":\"date\"},\"y\":{\"field\":\"change\"}},\"id\":\"1058\",\"type\":\"Line\"},{\"attributes\":{\"mantissas\":[1,2,5],\"max_interval\":500.0,\"num_minor_ticks\":0},\"id\":\"1082\",\"type\":\"AdaptiveTicker\"},{\"attributes\":{\"base\":60,\"mantissas\":[1,2,5,10,15,20,30],\"max_interval\":1800000.0,\"min_interval\":1000.0,\"num_minor_ticks\":0},\"id\":\"1083\",\"type\":\"AdaptiveTicker\"},{\"attributes\":{\"text\":\"SP500 Price\"},\"id\":\"1006\",\"type\":\"Title\"},{\"attributes\":{},\"id\":\"1107\",\"type\":\"YearsTicker\"},{\"attributes\":{\"months\":[0,6]},\"id\":\"1106\",\"type\":\"MonthsTicker\"},{\"attributes\":{},\"id\":\"1081\",\"type\":\"UnionRenderers\"},{\"attributes\":{},\"id\":\"1093\",\"type\":\"YearsTicker\"},{\"attributes\":{},\"id\":\"1014\",\"type\":\"LinearScale\"},{\"attributes\":{\"days\":[1,15]},\"id\":\"1088\",\"type\":\"DaysTicker\"},{\"attributes\":{\"data\":{\"date\":{\"__ndarray__\":\"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\",\"dtype\":\"float64\",\"shape\":[251]},\"price\":{\"__ndarray__\":\"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\",\"dtype\":\"float64\",\"shape\":[251]}},\"selected\":{\"id\":\"1080\"},\"selection_policy\":{\"id\":\"1081\"}},\"id\":\"1004\",\"type\":\"ColumnDataSource\"},{\"attributes\":{\"days\":[1,4,7,10,13,16,19,22,25,28]},\"id\":\"1086\",\"type\":\"DaysTicker\"},{\"attributes\":{\"dimension\":\"height\",\"line_color\":\"purple\",\"location\":1299801600000.0},\"id\":\"1063\",\"type\":\"Span\"},{\"attributes\":{\"months\":[0,1,2,3,4,5,6,7,8,9,10,11]},\"id\":\"1089\",\"type\":\"MonthsTicker\"},{\"attributes\":{\"dimension\":\"height\",\"line_color\":\"green\",\"location\":1309305600000.0},\"id\":\"1066\",\"type\":\"Span\"},{\"attributes\":{\"months\":[0,6]},\"id\":\"1092\",\"type\":\"MonthsTicker\"},{\"attributes\":{\"months\":[0,2,4,6,8,10]},\"id\":\"1090\",\"type\":\"MonthsTicker\"},{\"attributes\":{\"base\":24,\"mantissas\":[1,2,4,6,8,12],\"max_interval\":43200000.0,\"min_interval\":3600000.0,\"num_minor_ticks\":0},\"id\":\"1084\",\"type\":\"AdaptiveTicker\"},{\"attributes\":{\"end\":1325203200000.0,\"start\":1294099200000.0},\"id\":\"1008\",\"type\":\"Range1d\"},{\"attributes\":{\"data_source\":{\"id\":\"1004\"},\"glyph\":{\"id\":\"1028\"},\"hover_glyph\":null,\"muted_glyph\":null,\"nonselection_glyph\":{\"id\":\"1029\"},\"selection_glyph\":null,\"view\":{\"id\":\"1031\"}},\"id\":\"1030\",\"type\":\"GlyphRenderer\"},{\"attributes\":{\"days\":[1,8,15,22]},\"id\":\"1087\",\"type\":\"DaysTicker\"},{\"attributes\":{\"formatter\":{\"id\":\"1073\"},\"ticker\":{\"id\":\"1017\"}},\"id\":\"1016\",\"type\":\"DatetimeAxis\"},{\"attributes\":{},\"id\":\"1021\",\"type\":\"BasicTicker\"},{\"attributes\":{},\"id\":\"1010\",\"type\":\"DataRange1d\"},{\"attributes\":{},\"id\":\"1043\",\"type\":\"LinearScale\"},{\"attributes\":{\"months\":[0,4,8]},\"id\":\"1091\",\"type\":\"MonthsTicker\"},{\"attributes\":{\"months\":[0,4,8]},\"id\":\"1105\",\"type\":\"MonthsTicker\"},{\"attributes\":{\"num_minor_ticks\":5,\"tickers\":[{\"id\":\"1082\"},{\"id\":\"1083\"},{\"id\":\"1084\"},{\"id\":\"1085\"},{\"id\":\"1086\"},{\"id\":\"1087\"},{\"id\":\"1088\"},{\"id\":\"1089\"},{\"id\":\"1090\"},{\"id\":\"1091\"},{\"id\":\"1092\"},{\"id\":\"1093\"}]},\"id\":\"1017\",\"type\":\"DatetimeTicker\"},{\"attributes\":{},\"id\":\"1095\",\"type\":\"UnionRenderers\"},{\"attributes\":{},\"id\":\"1012\",\"type\":\"LinearScale\"},{\"attributes\":{\"days\":[1,8,15,22]},\"id\":\"1101\",\"type\":\"DaysTicker\"},{\"attributes\":{\"axis\":{\"id\":\"1020\"},\"dimension\":1,\"ticker\":null},\"id\":\"1023\",\"type\":\"Grid\"},{\"attributes\":{\"axis_label\":\"Price\",\"formatter\":{\"id\":\"1075\"},\"ticker\":{\"id\":\"1021\"}},\"id\":\"1020\",\"type\":\"LinearAxis\"},{\"attributes\":{\"days\":[1,2,3,4,5,6,7,8,9,10,11,12,13,14,15,16,17,18,19,20,21,22,23,24,25,26,27,28,29,30,31]},\"id\":\"1085\",\"type\":\"DaysTicker\"},{\"attributes\":{\"dimensions\":\"width\"},\"id\":\"1024\",\"type\":\"PanTool\"},{\"attributes\":{\"active_drag\":\"auto\",\"active_inspect\":\"auto\",\"active_multi\":null,\"active_scroll\":\"auto\",\"active_tap\":\"auto\",\"tools\":[{\"id\":\"1024\"},{\"id\":\"1002\"}]},\"id\":\"1025\",\"type\":\"Toolbar\"},{\"attributes\":{\"base\":60,\"mantissas\":[1,2,5,10,15,20,30],\"max_interval\":1800000.0,\"min_interval\":1000.0,\"num_minor_ticks\":0},\"id\":\"1097\",\"type\":\"AdaptiveTicker\"},{\"attributes\":{\"source\":{\"id\":\"1004\"}},\"id\":\"1031\",\"type\":\"CDSView\"},{\"attributes\":{\"line_color\":\"#1f77b4\",\"x\":{\"field\":\"date\"},\"y\":{\"field\":\"price\"}},\"id\":\"1028\",\"type\":\"Line\"},{\"attributes\":{\"base\":24,\"mantissas\":[1,2,4,6,8,12],\"max_interval\":43200000.0,\"min_interval\":3600000.0,\"num_minor_ticks\":0},\"id\":\"1098\",\"type\":\"AdaptiveTicker\"},{\"attributes\":{},\"id\":\"1094\",\"type\":\"Selection\"},{\"attributes\":{\"line_alpha\":0.1,\"line_color\":\"#1f77b4\",\"x\":{\"field\":\"date\"},\"y\":{\"field\":\"price\"}},\"id\":\"1029\",\"type\":\"Line\"},{\"attributes\":{\"months\":[0,2,4,6,8,10]},\"id\":\"1104\",\"type\":\"MonthsTicker\"},{\"attributes\":{\"text\":\"SP500 Daily Price Change\"},\"id\":\"1035\",\"type\":\"Title\"},{\"attributes\":{\"months\":[0,1,2,3,4,5,6,7,8,9,10,11]},\"id\":\"1103\",\"type\":\"MonthsTicker\"},{\"attributes\":{\"num_minor_ticks\":5,\"tickers\":[{\"id\":\"1096\"},{\"id\":\"1097\"},{\"id\":\"1098\"},{\"id\":\"1099\"},{\"id\":\"1100\"},{\"id\":\"1101\"},{\"id\":\"1102\"},{\"id\":\"1103\"},{\"id\":\"1104\"},{\"id\":\"1105\"},{\"id\":\"1106\"},{\"id\":\"1107\"}]},\"id\":\"1046\",\"type\":\"DatetimeTicker\"},{\"attributes\":{},\"id\":\"1041\",\"type\":\"LinearScale\"},{\"attributes\":{\"data\":{\"change\":{\"__ndarray__\":\"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\",\"dtype\":\"float64\",\"shape\":[251]},\"date\":{\"__ndarray__\":\"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\",\"dtype\":\"float64\",\"shape\":[251]}},\"selected\":{\"id\":\"1094\"},\"selection_policy\":{\"id\":\"1095\"}},\"id\":\"1033\",\"type\":\"ColumnDataSource\"},{\"attributes\":{\"days\":[1,2,3,4,5,6,7,8,9,10,11,12,13,14,15,16,17,18,19,20,21,22,23,24,25,26,27,28,29,30,31]},\"id\":\"1099\",\"type\":\"DaysTicker\"},{\"attributes\":{\"days\":[1,4,7,10,13,16,19,22,25,28]},\"id\":\"1100\",\"type\":\"DaysTicker\"},{\"attributes\":{\"data_source\":{\"id\":\"1033\"},\"glyph\":{\"id\":\"1057\"},\"hover_glyph\":null,\"muted_glyph\":null,\"nonselection_glyph\":{\"id\":\"1058\"},\"selection_glyph\":null,\"view\":{\"id\":\"1060\"}},\"id\":\"1059\",\"type\":\"GlyphRenderer\"},{\"attributes\":{\"end\":1325203200000.0,\"start\":1294099200000.0},\"id\":\"1037\",\"type\":\"Range1d\"},{\"attributes\":{},\"id\":\"1039\",\"type\":\"DataRange1d\"},{\"attributes\":{\"mantissas\":[1,2,5],\"max_interval\":500.0,\"num_minor_ticks\":0},\"id\":\"1096\",\"type\":\"AdaptiveTicker\"},{\"attributes\":{\"formatter\":{\"id\":\"1077\"},\"ticker\":{\"id\":\"1046\"}},\"id\":\"1045\",\"type\":\"DatetimeAxis\"},{\"attributes\":{\"days\":[1,15]},\"id\":\"1102\",\"type\":\"DaysTicker\"},{\"attributes\":{\"callback\":null,\"formatters\":{\"@date\":\"datetime\",\"@{price}\":\"numeral\"},\"mode\":\"vline\",\"tooltips\":[[\"date\",\"@date{%F}\"],[\"price\",\"$@{price}{0.2}\"]]},\"id\":\"1002\",\"type\":\"HoverTool\"},{\"attributes\":{},\"id\":\"1077\",\"type\":\"DatetimeTickFormatter\"},{\"attributes\":{\"dimension\":\"height\",\"line_color\":\"red\",\"location\":1316390400000.0},\"id\":\"1068\",\"type\":\"Span\"},{\"attributes\":{\"dimension\":\"height\",\"line_color\":\"red\",\"location\":1312502400000.0},\"id\":\"1067\",\"type\":\"Span\"},{\"attributes\":{\"dimension\":\"height\",\"line_color\":\"orange\",\"location\":1297728000000.0},\"id\":\"1062\",\"type\":\"Span\"},{\"attributes\":{\"fill_alpha\":0.1,\"fill_color\":\"blue\",\"left\":1306800000000.0,\"right\":1309305600000.0},\"id\":\"1065\",\"type\":\"BoxAnnotation\"},{\"attributes\":{},\"id\":\"1073\",\"type\":\"DatetimeTickFormatter\"},{\"attributes\":{\"dimension\":\"height\",\"line_color\":\"coral\",\"location\":1300147200000.0},\"id\":\"1064\",\"type\":\"Span\"},{\"attributes\":{},\"id\":\"1075\",\"type\":\"BasicTickFormatter\"},{\"attributes\":{},\"id\":\"1079\",\"type\":\"BasicTickFormatter\"},{\"attributes\":{\"callback\":null,\"formatters\":{\"@date\":\"datetime\",\"@{change}\":\"numeral\"},\"mode\":\"vline\",\"tooltips\":[[\"date\",\"@date{%F}\"],[\"change\",\"@{change}{.0000}\"]]},\"id\":\"1003\",\"type\":\"HoverTool\"}],\"root_ids\":[\"1069\"]},\"title\":\"Bokeh Application\",\"version\":\"2.0.0\"}};\n",
       "  var render_items = [{\"docid\":\"0540dacd-be84-472a-9996-e91d91c01d1d\",\"root_ids\":[\"1069\"],\"roots\":{\"1069\":\"bed61ff1-3ba2-4efc-aa6a-d11920a369a2\"}}];\n",
       "  root.Bokeh.embed.embed_items_notebook(docs_json, render_items);\n",
       "\n",
       "  }\n",
       "  if (root.Bokeh !== undefined) {\n",
       "    embed_document(root);\n",
       "  } else {\n",
       "    var attempts = 0;\n",
       "    var timer = setInterval(function(root) {\n",
       "      if (root.Bokeh !== undefined) {\n",
       "        clearInterval(timer);\n",
       "        embed_document(root);\n",
       "      } else {\n",
       "        attempts++;\n",
       "        if (attempts > 100) {\n",
       "          clearInterval(timer);\n",
       "          console.log(\"Bokeh: ERROR: Unable to run BokehJS code because BokehJS library is missing\");\n",
       "        }\n",
       "      }\n",
       "    }, 10, root)\n",
       "  }\n",
       "})(window);"
      ],
      "application/vnd.bokehjs_exec.v0+json": ""
     },
     "metadata": {
      "application/vnd.bokehjs_exec.v0+json": {
       "id": "1069"
      }
     },
     "output_type": "display_data"
    }
   ],
   "source": [
    "show(column(p, c))"
   ]
  },
  {
   "cell_type": "markdown",
   "metadata": {},
   "source": [
    "**Figure 1: The SP500 Price** shows the daily closing price of the S&P 500 in the year 2011. Colored lines or areas show historic events.    \n",
    "**Figure 2: The SP500 Daily Price Change** tells us the daily change of price in percent."
   ]
  },
  {
   "cell_type": "markdown",
   "metadata": {},
   "source": [
    "Now that we know what happend in 2011 and how the market reacted, lets look at how our agent performed in this environment. We will first look into the actions it chose. Following this we will dissect the chosen trades and analyze the performance of it. We will conclude our results with an analysis of the viability of those recommendations."
   ]
  },
  {
   "cell_type": "code",
   "execution_count": 13,
   "metadata": {
    "scrolled": true
   },
   "outputs": [],
   "source": [
    "dqn = pd.read_csv(\"./data/dqn_model.csv\", parse_dates=[\"Date\"])\n",
    "dqn[\"Strategy\"] = dqn[\"Profits\"].cumsum()\n",
    "dqn[\"Return_perc\"] = dqn[\"Profits\"]/dqn[\"Price\"] + 1\n",
    "\n",
    "buys = dqn[dqn[\"Action\"] == \"Buy\"][[\"Date\", \"Price\"]]\n",
    "sells = dqn[dqn[\"Action\"] == \"Sell\"][[\"Date\", \"Price\"]]"
   ]
  },
  {
   "cell_type": "code",
   "execution_count": 14,
   "metadata": {
    "scrolled": false
   },
   "outputs": [
    {
     "data": {
      "text/html": [
       "\n",
       "\n",
       "\n",
       "\n",
       "\n",
       "\n",
       "  <div class=\"bk-root\" id=\"a7f49b59-879d-4b85-b9d7-9c8108e00109\" data-root-id=\"1336\"></div>\n"
      ]
     },
     "metadata": {},
     "output_type": "display_data"
    },
    {
     "data": {
      "application/javascript": [
       "(function(root) {\n",
       "  function embed_document(root) {\n",
       "    \n",
       "  var docs_json = {\"8978775c-403f-4c90-9753-d4cf4b548186\":{\"roots\":{\"references\":[{\"attributes\":{\"background_fill_color\":\"#efefef\",\"below\":[{\"id\":\"1347\"}],\"center\":[{\"id\":\"1350\"},{\"id\":\"1354\"}],\"left\":[{\"id\":\"1351\"}],\"plot_height\":300,\"plot_width\":900,\"renderers\":[{\"id\":\"1371\"},{\"id\":\"1376\"},{\"id\":\"1381\"}],\"title\":{\"id\":\"1337\"},\"toolbar\":{\"id\":\"1361\"},\"toolbar_location\":null,\"x_range\":{\"id\":\"1339\"},\"x_scale\":{\"id\":\"1343\"},\"y_range\":{\"id\":\"1341\"},\"y_scale\":{\"id\":\"1345\"}},\"id\":\"1336\",\"subtype\":\"Figure\",\"type\":\"Plot\"},{\"attributes\":{\"source\":{\"id\":\"1378\"}},\"id\":\"1382\",\"type\":\"CDSView\"},{\"attributes\":{\"mantissas\":[1,2,5],\"max_interval\":500.0,\"num_minor_ticks\":0},\"id\":\"1433\",\"type\":\"AdaptiveTicker\"},{\"attributes\":{},\"id\":\"1359\",\"type\":\"ResetTool\"},{\"attributes\":{\"base\":60,\"mantissas\":[1,2,5,10,15,20,30],\"max_interval\":1800000.0,\"min_interval\":1000.0,\"num_minor_ticks\":0},\"id\":\"1434\",\"type\":\"AdaptiveTicker\"},{\"attributes\":{\"data\":{\"x\":{\"__ndarray__\":\"AACAK+XUckIAAAAlHdhyQgAAwCG52XJCAACAhwvackIAAADq+dtyQgAAwE9M3HJCAADAfd/eckIAAAAL/eRyQgAAwHBP5XJCAADAB5nmckIAAAA5kOdyQgAAwDUs6XJCAABAAdHpckIAAABnI+pyQgAAQJga63JCAAAA/mzrckIAAEAvZOxyQgAAgI7u73JCAAAAWpPwckIAAMBWL/JyQgAAQLkd9HJCAABA57D2ckIAAABNA/dyQgAAgK/x+HJCAADA4Oj5ckIAAAAS4PpyQgAAgN2E+3JCAACAomH/ckIAAMCYNQRzQgAAQGTaBHNCAAAAYXYGc0IAAECSbQdzQgAAgPH3CnNCAABAhd0Nc0IAAECzcBBzQgAAALAMEnNCAACAe7ESc0IAAACjfBhzQgAAgJy0G3NCAADAzascc0IAAIAz/hxzQgAAwPs+H3NCAAAAxH8hc0IAAMAp0iFzQgAAgI8kInNCAADA7q4lc0IAAAAgpiZzQgAAwIX4JnNCAAAAExYtc0IAAIB1BC9zQgAAwKb7L3NCAADAPUUxc0IAAICjlzFzQgAAQKAzM3NCAACAaHQ1c0IAAAD59TlzQgAAACeJPHNCAADAjNs8c0IAAICJdz5zQgAAwFG4QHNCAACAtwpBc0I=\",\"dtype\":\"float64\",\"shape\":[61]},\"y\":{\"__ndarray__\":\"Nnf0v8zYk0B4RfC/9TSUQIarAyCuB5RAiLoPQAoBlEBE3QcghUKUQELO+/8oTpRAvCL433p7lEB2NuSfmW2UQIrJG2BmaJRARuwTQOG8lEBG7BNA4cuUQPKZ7J9Hp5RANGjon3A8lEC6E+y/HmGUQMyXF2CPQZRAvCL433oHlEC+MQQA1/yTQK685H/CnZRAelT831G3lEBE3QcghdKUQL4xBADXsZRAvCL433qClEA0aOifcMmUQHhF8L/1DJVANGjon3BOlUBG7BNA4USVQPKZ7J9HDZVARuwTQOHFlEA2d/S/zASVQK685H/Cg5RArrzkf8ITlEDwiuB/69uTQBB1H4AUPpRAzJcXYI+ilEDKiAtAM/+UQEbsE0DhlpRAzJcXYI+QlEDKiAtAM5iTQFJDG4A9a5JAeEXwv/XRkkCIug9ACqOSQIrJG2BmKZJAhqsDIK7zkkDMlxdgjwuTQIarAyCu0ZJAEHUfgBQpkkA0aOifcOSSQIi6D0AKAJNAuhPsvx7gkUBCzvv/KK6SQHpU/N9RIpNARN0HIIUlk0BE3QcgheeSQK685H/CmJNAyogLQDOVk0C6E+y/Ho+TQELO+/8okJJAQs77/ygnkkDKiAtAM6KSQHpU/N9RpJNARuwTQOGpk0A=\",\"dtype\":\"float64\",\"shape\":[61]}},\"selected\":{\"id\":\"1428\"},\"selection_policy\":{\"id\":\"1429\"}},\"id\":\"1373\",\"type\":\"ColumnDataSource\"},{\"attributes\":{\"days\":[1,2,3,4,5,6,7,8,9,10,11,12,13,14,15,16,17,18,19,20,21,22,23,24,25,26,27,28,29,30,31]},\"id\":\"1436\",\"type\":\"DaysTicker\"},{\"attributes\":{\"fill_color\":{\"value\":\"red\"},\"line_color\":{\"value\":\"red\"},\"size\":{\"units\":\"screen\",\"value\":5},\"x\":{\"field\":\"x\"},\"y\":{\"field\":\"y\"}},\"id\":\"1379\",\"type\":\"Circle\"},{\"attributes\":{\"base\":24,\"mantissas\":[1,2,4,6,8,12],\"max_interval\":43200000.0,\"min_interval\":3600000.0,\"num_minor_ticks\":0},\"id\":\"1435\",\"type\":\"AdaptiveTicker\"},{\"attributes\":{\"line_alpha\":0.1,\"line_color\":\"#1f77b4\",\"x\":{\"field\":\"date\"},\"y\":{\"field\":\"price\"}},\"id\":\"1370\",\"type\":\"Line\"},{\"attributes\":{\"source\":{\"id\":\"1373\"}},\"id\":\"1377\",\"type\":\"CDSView\"},{\"attributes\":{\"months\":[0,1,2,3,4,5,6,7,8,9,10,11]},\"id\":\"1440\",\"type\":\"MonthsTicker\"},{\"attributes\":{},\"id\":\"1080\",\"type\":\"Selection\"},{\"attributes\":{\"months\":[0,2,4,6,8,10]},\"id\":\"1441\",\"type\":\"MonthsTicker\"},{\"attributes\":{\"days\":[1,4,7,10,13,16,19,22,25,28]},\"id\":\"1437\",\"type\":\"DaysTicker\"},{\"attributes\":{\"days\":[1,15]},\"id\":\"1439\",\"type\":\"DaysTicker\"},{\"attributes\":{\"months\":[0,6]},\"id\":\"1443\",\"type\":\"MonthsTicker\"},{\"attributes\":{\"line_color\":\"#1f77b4\",\"x\":{\"field\":\"date\"},\"y\":{\"field\":\"price\"}},\"id\":\"1369\",\"type\":\"Line\"},{\"attributes\":{\"days\":[1,8,15,22]},\"id\":\"1438\",\"type\":\"DaysTicker\"},{\"attributes\":{},\"id\":\"1428\",\"type\":\"Selection\"},{\"attributes\":{},\"id\":\"1444\",\"type\":\"YearsTicker\"},{\"attributes\":{\"active_drag\":\"auto\",\"active_inspect\":\"auto\",\"active_multi\":null,\"active_scroll\":\"auto\",\"active_tap\":\"auto\",\"tools\":[{\"id\":\"1355\"},{\"id\":\"1356\"},{\"id\":\"1357\"},{\"id\":\"1358\"},{\"id\":\"1359\"},{\"id\":\"1360\"}]},\"id\":\"1361\",\"type\":\"Toolbar\"},{\"attributes\":{},\"id\":\"1429\",\"type\":\"UnionRenderers\"},{\"attributes\":{},\"id\":\"1360\",\"type\":\"HelpTool\"},{\"attributes\":{\"months\":[0,4,8]},\"id\":\"1442\",\"type\":\"MonthsTicker\"},{\"attributes\":{\"overlay\":{\"id\":\"1432\"}},\"id\":\"1357\",\"type\":\"BoxZoomTool\"},{\"attributes\":{},\"id\":\"1358\",\"type\":\"SaveTool\"},{\"attributes\":{\"source\":{\"id\":\"1004\"}},\"id\":\"1372\",\"type\":\"CDSView\"},{\"attributes\":{},\"id\":\"1356\",\"type\":\"WheelZoomTool\"},{\"attributes\":{\"fill_alpha\":{\"value\":0.1},\"fill_color\":{\"value\":\"green\"},\"line_alpha\":{\"value\":0.1},\"line_color\":{\"value\":\"green\"},\"size\":{\"units\":\"screen\",\"value\":5},\"x\":{\"field\":\"x\"},\"y\":{\"field\":\"y\"}},\"id\":\"1375\",\"type\":\"Circle\"},{\"attributes\":{\"data\":{\"x\":{\"__ndarray__\":\"AABAkTfVckIAAAC8ZtlyQgAAQO1d2nJCAABAhKfbckIAAIC1ntxyQgAAwOaV3XJCAADAFCngckIAAIDWoeVyQgAAgG3r5nJCAACAm37pckIAAMBjv+tyQgAAgMkR7HJCAABAxq3tckIAAED0QPByQgAAwL/l8HJCAAAA8dzxckIAAEAi1PJyQgAAAB9w9HJCAADAhML0ckIAAIDqFPVyQgAAQFBn9XJCAADAslX3ckIAAEAVRPlyQgAAAHuW+XJCAADAdzL7ckIAAEBD1/tyQgAAAKkp/HJCAABACLT/ckIAAADKLAVzQgAAQPsjBnNCAADAxsgGc0IAAEAptwhzQgAAQFdKC3NCAACA5GcRc0IAAADenxRzQgAAAHXpFXNCAABAPSoYc0IAAMAIzxhzQgAAAP+iHXNCAADAZPUdc0IAAIBHcSxzQgAAQAnqMXNCAACA0So0c0IAAEDOxjVzQgAAwJlrNnNCAACA/702c0IAAMAwtTdzQgAAgJYHOHNCAABA/Fk4c0IAAABirDhzQgAAwMf+OHNCAADAXkg6c0IAAIDEmjpzQgAAQCrtOnNCAAAAkD87c0IAAEDBNjxzQgAAQFiAPXNCAABA78k+c0IAAABVHD9zQgAAQB1dQXNCAAAAg69Bc0I=\",\"dtype\":\"float64\",\"shape\":[61]},\"y\":{\"__ndarray__\":\"UkMbgD3yk0AQdR+AFDyUQIrJG2BmDZRADmYTYLgslEACDwwgXPGTQLwi+N96GJRA8pnsn0eylEBE3QcghZ+UQHpU/N9RaZRAEHUfgBSglEBE3QcghaOTQEbsE0Dh5pNAEHUfgBQ3lECIug9ACsGUQP7w89+j0ZRAvCL433rTlECIug9ACtaUQP7w89+jiJRA/vDz36OJlEAQdR+AFIqUQA5mE2C4npRARN0HIIXllED+8PPfoy6VQPCK4H/rQZVAvCL433oylUCKyRtgZtyUQDZ39L/M8JRA8Irgf+vDlED+8PPfo1CUQIarAyCuGJRAUkMbgD3+k0C8Ivjfeh+UQMyXF2CPHJRAeEXwv/WdlEDKiAtAM/+UQA5mE2C45ZRArrzkf8IblEACDwwgXLGTQHY25J+Z0pFAuhPsvx6OkUDwiuB/6yyRQMyXF2CP/ZJAAg8MIFwSlEC6E+y/HgmTQHY25J+ZtJNA8Irgf+uUk0C8IvjferSTQIarAyCu75NAiskbYGY0k0A2d/S/zF6TQIrJG2Bmv5NAUkMbgD2nk0D+8PPfo1OTQETdByCFAJNAdjbkn5n+kkDwiuB/66OSQIarAyCuGpJArrzkf8KskkC+MQQA13uTQIi6D0AKtJNAiskbYGZJk0A=\",\"dtype\":\"float64\",\"shape\":[61]}},\"selected\":{\"id\":\"1430\"},\"selection_policy\":{\"id\":\"1431\"}},\"id\":\"1378\",\"type\":\"ColumnDataSource\"},{\"attributes\":{\"data_source\":{\"id\":\"1004\"},\"glyph\":{\"id\":\"1369\"},\"hover_glyph\":null,\"muted_glyph\":null,\"nonselection_glyph\":{\"id\":\"1370\"},\"selection_glyph\":null,\"view\":{\"id\":\"1372\"}},\"id\":\"1371\",\"type\":\"GlyphRenderer\"},{\"attributes\":{},\"id\":\"1081\",\"type\":\"UnionRenderers\"},{\"attributes\":{},\"id\":\"1423\",\"type\":\"DatetimeTickFormatter\"},{\"attributes\":{},\"id\":\"1430\",\"type\":\"Selection\"},{\"attributes\":{\"axis\":{\"id\":\"1351\"},\"dimension\":1,\"ticker\":null},\"id\":\"1354\",\"type\":\"Grid\"},{\"attributes\":{},\"id\":\"1431\",\"type\":\"UnionRenderers\"},{\"attributes\":{\"data\":{\"date\":{\"__ndarray__\":\"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\",\"dtype\":\"float64\",\"shape\":[251]},\"price\":{\"__ndarray__\":\"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\",\"dtype\":\"float64\",\"shape\":[251]}},\"selected\":{\"id\":\"1080\"},\"selection_policy\":{\"id\":\"1081\"}},\"id\":\"1004\",\"type\":\"ColumnDataSource\"},{\"attributes\":{\"axis\":{\"id\":\"1347\"},\"ticker\":null},\"id\":\"1350\",\"type\":\"Grid\"},{\"attributes\":{\"axis_label\":\"Price\",\"formatter\":{\"id\":\"1425\"},\"ticker\":{\"id\":\"1352\"}},\"id\":\"1351\",\"type\":\"LinearAxis\"},{\"attributes\":{\"data_source\":{\"id\":\"1373\"},\"glyph\":{\"id\":\"1374\"},\"hover_glyph\":null,\"muted_glyph\":null,\"nonselection_glyph\":{\"id\":\"1375\"},\"selection_glyph\":null,\"view\":{\"id\":\"1377\"}},\"id\":\"1376\",\"type\":\"GlyphRenderer\"},{\"attributes\":{},\"id\":\"1341\",\"type\":\"DataRange1d\"},{\"attributes\":{},\"id\":\"1352\",\"type\":\"BasicTicker\"},{\"attributes\":{\"num_minor_ticks\":5,\"tickers\":[{\"id\":\"1433\"},{\"id\":\"1434\"},{\"id\":\"1435\"},{\"id\":\"1436\"},{\"id\":\"1437\"},{\"id\":\"1438\"},{\"id\":\"1439\"},{\"id\":\"1440\"},{\"id\":\"1441\"},{\"id\":\"1442\"},{\"id\":\"1443\"},{\"id\":\"1444\"}]},\"id\":\"1348\",\"type\":\"DatetimeTicker\"},{\"attributes\":{\"data_source\":{\"id\":\"1378\"},\"glyph\":{\"id\":\"1379\"},\"hover_glyph\":null,\"muted_glyph\":null,\"nonselection_glyph\":{\"id\":\"1380\"},\"selection_glyph\":null,\"view\":{\"id\":\"1382\"}},\"id\":\"1381\",\"type\":\"GlyphRenderer\"},{\"attributes\":{\"fill_color\":{\"value\":\"green\"},\"line_color\":{\"value\":\"green\"},\"size\":{\"units\":\"screen\",\"value\":5},\"x\":{\"field\":\"x\"},\"y\":{\"field\":\"y\"}},\"id\":\"1374\",\"type\":\"Circle\"},{\"attributes\":{},\"id\":\"1343\",\"type\":\"LinearScale\"},{\"attributes\":{\"bottom_units\":\"screen\",\"fill_alpha\":0.5,\"fill_color\":\"lightgrey\",\"left_units\":\"screen\",\"level\":\"overlay\",\"line_alpha\":1.0,\"line_color\":\"black\",\"line_dash\":[4,4],\"line_width\":2,\"render_mode\":\"css\",\"right_units\":\"screen\",\"top_units\":\"screen\"},\"id\":\"1432\",\"type\":\"BoxAnnotation\"},{\"attributes\":{},\"id\":\"1355\",\"type\":\"PanTool\"},{\"attributes\":{},\"id\":\"1425\",\"type\":\"BasicTickFormatter\"},{\"attributes\":{\"formatter\":{\"id\":\"1423\"},\"ticker\":{\"id\":\"1348\"}},\"id\":\"1347\",\"type\":\"DatetimeAxis\"},{\"attributes\":{\"fill_alpha\":{\"value\":0.1},\"fill_color\":{\"value\":\"red\"},\"line_alpha\":{\"value\":0.1},\"line_color\":{\"value\":\"red\"},\"size\":{\"units\":\"screen\",\"value\":5},\"x\":{\"field\":\"x\"},\"y\":{\"field\":\"y\"}},\"id\":\"1380\",\"type\":\"Circle\"},{\"attributes\":{\"end\":1325203200000.0,\"start\":1294012800000.0},\"id\":\"1339\",\"type\":\"Range1d\"},{\"attributes\":{},\"id\":\"1345\",\"type\":\"LinearScale\"},{\"attributes\":{\"text\":\"SP500 DQN Trading Agent\"},\"id\":\"1337\",\"type\":\"Title\"}],\"root_ids\":[\"1336\"]},\"title\":\"Bokeh Application\",\"version\":\"2.0.0\"}};\n",
       "  var render_items = [{\"docid\":\"8978775c-403f-4c90-9753-d4cf4b548186\",\"root_ids\":[\"1336\"],\"roots\":{\"1336\":\"a7f49b59-879d-4b85-b9d7-9c8108e00109\"}}];\n",
       "  root.Bokeh.embed.embed_items_notebook(docs_json, render_items);\n",
       "\n",
       "  }\n",
       "  if (root.Bokeh !== undefined) {\n",
       "    embed_document(root);\n",
       "  } else {\n",
       "    var attempts = 0;\n",
       "    var timer = setInterval(function(root) {\n",
       "      if (root.Bokeh !== undefined) {\n",
       "        clearInterval(timer);\n",
       "        embed_document(root);\n",
       "      } else {\n",
       "        attempts++;\n",
       "        if (attempts > 100) {\n",
       "          clearInterval(timer);\n",
       "          console.log(\"Bokeh: ERROR: Unable to run BokehJS code because BokehJS library is missing\");\n",
       "        }\n",
       "      }\n",
       "    }, 10, root)\n",
       "  }\n",
       "})(window);"
      ],
      "application/vnd.bokehjs_exec.v0+json": ""
     },
     "metadata": {
      "application/vnd.bokehjs_exec.v0+json": {
       "id": "1336"
      }
     },
     "output_type": "display_data"
    }
   ],
   "source": [
    "p2 = figure(title=\"SP500 DQN Trading Agent\", plot_height=300, plot_width=900, toolbar_location=None,\n",
    "           x_axis_type=\"datetime\",background_fill_color=\"#efefef\", x_range=(dqn[\"Date\"].iloc[0], dqn[\"Date\"].iloc[-1]))\n",
    "p2.line('date', 'price', source=price)\n",
    "p2.yaxis.axis_label = 'Price'\n",
    "p2.circle(buys[\"Date\"],buys[\"Price\"], size=5, color=\"green\")\n",
    "p2.circle(sells[\"Date\"],sells[\"Price\"], size=5, color=\"red\")\n",
    "show(p2)"
   ]
  },
  {
   "cell_type": "markdown",
   "metadata": {},
   "source": [
    "**Figure 3:** Here we can see which action the algorithm chose. Green dots are buys and red dots show sells."
   ]
  },
  {
   "cell_type": "markdown",
   "metadata": {},
   "source": [
    "This looks overall quite reasonable. Not too much sticks out. Sure, here and there are some sell signals at local minima and buys at local maxima but it does not seem to extreme. So lets look a bit more into it. What did the agent actually do?"
   ]
  },
  {
   "cell_type": "markdown",
   "metadata": {},
   "source": [
    "The agent sits a bit more than half ot the time just idle. Buys and Sells are even which makes sense. We did not sell more than we had and at the end of the year all our positions are closed. "
   ]
  },
  {
   "cell_type": "code",
   "execution_count": 15,
   "metadata": {
    "scrolled": true
   },
   "outputs": [
    {
     "data": {
      "text/plain": [
       "Sit     130\n",
       "Sell     61\n",
       "Buy      61\n",
       "Name: Action, dtype: int64"
      ]
     },
     "execution_count": 15,
     "metadata": {},
     "output_type": "execute_result"
    }
   ],
   "source": [
    "dqn['Action'].value_counts()"
   ]
  },
  {
   "cell_type": "code",
   "execution_count": 16,
   "metadata": {
    "scrolled": true
   },
   "outputs": [
    {
     "data": {
      "image/png": "[encoded data removed]",
      "text/plain": [
       "<Figure size 720x288 with 2 Axes>"
      ]
     },
     "metadata": {
      "needs_background": "light"
     },
     "output_type": "display_data"
    }
   ],
   "source": [
    "fig, (ax1, ax2) = plt.subplots(1,2, figsize=(10,4))\n",
    "fig.suptitle('Trade Returns', size=16)\n",
    "ax1.plot(dqn[\"Date\"],dqn[\"Return_perc\"]-1)\n",
    "ax1.set_title(\"Returns over time\")\n",
    "ax1.set_xlabel(\"Month\")\n",
    "ax1.set_ylabel(\"Return Percentage\")\n",
    "ax1.tick_params(labelrotation=45)\n",
    "\n",
    "ax2.hist(dqn[dqn[\"Return_perc\"] != 1.0][\"Return_perc\"]-1, bins=30)\n",
    "ax2.axvline((dqn[dqn[\"Action\"] == \"Sell\"][\"Return_perc\"]-1).median(), color=\"red\", label=\"median\")\n",
    "ax2.axvline((dqn[dqn[\"Action\"] == \"Sell\"][\"Return_perc\"]-1).mean(), color=\"yellow\", label=\"mean\")\n",
    "ax2.set_xlabel(\"Return Percentage\")\n",
    "ax2.set_ylabel(\"Occurences\")\n",
    "ax2.tick_params(labelrotation=45)\n",
    "ax2.set_title(\"Return Distribution\")\n",
    "plt.show()"
   ]
  },
  {
   "cell_type": "markdown",
   "metadata": {},
   "source": [
    "**Figure 4: Returns over time** shows the return percentage of each trade and when they occured.    \n",
    "**Figure 5: Return Distribution** shows the distribution of returns per trade."
   ]
  },
  {
   "cell_type": "markdown",
   "metadata": {},
   "source": [
    "As we can see in Figure 4 and 5 most trades only have a marginal impact. The whole Strategy is only really impacted by a few dramatic trades. Our median is pretty close to zero and the average return is only 0.28% (red and yellow line in Figure 5).   \n",
    "Our best trade scores 7.25% but the worst trade costs -8.5%. Figure 1 shows nicely that a majority of time is relatively calm. We are either not trading or just getting minor profits/losses. All these average trades are dwarfed by our few big movers."
   ]
  },
  {
   "cell_type": "markdown",
   "metadata": {},
   "source": [
    "But how does this compare to buying and holding the S&P 500 in 2011?"
   ]
  },
  {
   "cell_type": "code",
   "execution_count": 17,
   "metadata": {
    "scrolled": true
   },
   "outputs": [
    {
     "data": {
      "image/png": "[encoded data removed]",
      "text/plain": [
       "<Figure size 432x288 with 1 Axes>"
      ]
     },
     "metadata": {
      "needs_background": "light"
     },
     "output_type": "display_data"
    }
   ],
   "source": [
    "sp500[\"price_change\"].cumprod().plot()\n",
    "dqn[\"Return_perc\"].cumprod().plot()\n",
    "plt.show()"
   ]
  },
  {
   "cell_type": "markdown",
   "metadata": {},
   "source": [
    "**Figure 6:** This plot shows the returns in percent of the S&P 500 versus our algorithm. The orange line is our algorithm and the blue line shows the S&P 500."
   ]
  },
  {
   "cell_type": "markdown",
   "metadata": {},
   "source": [
    "Actually surprisingly good. If we would have followed the recommendations of our agent we would have made 15.7% instead of losing 1.2% in the S&P 500. Sounds great doesn't it?    \n",
    "Not so fast. While at the end of the year we would have potentially made more money than by folloing the Index it is very unrealistic that anyone would have gotten to that place. After seeing the agent recommending bad trade after bad trade and beeing permantly worse performaning than the index, only the most stubborn trader could still follow these recommendations.\n",
    "At the lowest point the S&P 500 is down 13.6% against its inital price in january. Our agent though is down 27.8% on its worst point. "
   ]
  },
  {
   "cell_type": "code",
   "execution_count": 18,
   "metadata": {
    "scrolled": true
   },
   "outputs": [
    {
     "name": "stdout",
     "output_type": "stream",
     "text": [
      "SP500 Worst: -0.136\n",
      "Agent Worst: -0.217\n"
     ]
    }
   ],
   "source": [
    "print(f'SP500 Worst: {round(sp500[\"price_change\"].cumprod().min()-1,3)}')\n",
    "print(f'Agent Worst: {round(dqn[\"Return_perc\"].cumprod().min()-1,3)}')"
   ]
  },
  {
   "cell_type": "markdown",
   "metadata": {},
   "source": [
    "The S&P 500 is also very limited in its upside with only a maximum gain of 7.2% while our agent delivers 26.1%."
   ]
  },
  {
   "cell_type": "code",
   "execution_count": 19,
   "metadata": {},
   "outputs": [
    {
     "name": "stdout",
     "output_type": "stream",
     "text": [
      "SP500 Best: 0.072\n",
      "Agent Best: 0.261\n"
     ]
    }
   ],
   "source": [
    "print(f'SP500 Best: {round(sp500[\"price_change\"].cumprod().max()-1,3)}')\n",
    "print(f'Agent Best: {round(dqn[\"Return_perc\"].cumprod().max()-1,3)}')"
   ]
  },
  {
   "cell_type": "markdown",
   "metadata": {},
   "source": [
    "And thats how we come to one of the biggest problems with the algorithm. Its is way to volatile, even more so than the S&P 500 in a very volatile year. From the lowest point to its highest the agent more than doubles its return. But even the large trades in between are to volatile. "
   ]
  },
  {
   "cell_type": "markdown",
   "metadata": {},
   "source": [
    "It should be clear by now that the agent in its current form doesnt give recommendations that could be applied in any real life scenario."
   ]
  },
  {
   "cell_type": "markdown",
   "metadata": {},
   "source": [
    "### Discussion"
   ]
  },
  {
   "cell_type": "markdown",
   "metadata": {
    "scrolled": true
   },
   "source": [
    "2011 was a turbulent year, the beginning of the arab spring, an oil crisis, the european debt crisis and and it was the first time since 1941 that the US credit score dropped below AAA. The S&P 500 closes with a loss of 1.2% from its inital price at the start of the year. Nonetheless our agent made 15.7% in this environment.    \n",
    "These returns are unfortunately not actionable. Most of the year our algorithm performs worse than the S&P 500 and only to the end of the year we gain all our profits in a few great trades. Our agents recommendations result in not only a strategy that is way to volatile but even those huge gains could simply be a result of luck. "
   ]
  },
  {
   "cell_type": "markdown",
   "metadata": {},
   "source": [
    "It is hereby important to put this into context. We only used data from 2011, 300 training episodes and only closing prices. No indicator or other complementary timeseries. I am therefore very optimistic that this result could be improved by quite a bit."
   ]
  },
  {
   "cell_type": "markdown",
   "metadata": {},
   "source": [
    "There are big Hedge Funds that rely exclusively on machine learning algorithms to generate their profits. It makes sense, machines are better at processing huge amounts of data and dont have any emotions that could interfere. But it also makes sense that these successful algorithms are not easy to implement. If that would be the case none of those firms would need a fast staff of researcher and developer. "
   ]
  },
  {
   "cell_type": "markdown",
   "metadata": {
    "scrolled": true
   },
   "source": [
    "We can now answer our question if a reinforcement learning algorithm can beat the market. Yes it can, but it still takes a lot of work to make the algorithm reliably and consistent to the degree that it can be actually used in the stock market."
   ]
  },
  {
   "cell_type": "markdown",
   "metadata": {},
   "source": [
    "Leon Niesler, 13.04.2020"
   ]
  },
  {
   "cell_type": "markdown",
   "metadata": {},
   "source": [
    "## References"
   ]
  },
  {
   "cell_type": "markdown",
   "metadata": {},
   "source": [
    "[1] https://de.wikipedia.org/wiki/2011"
   ]
  },
  {
   "cell_type": "code",
   "execution_count": null,
   "metadata": {},
   "outputs": [],
   "source": []
  },
  {
   "cell_type": "code",
   "execution_count": null,
   "metadata": {},
   "outputs": [],
   "source": []
  },
  {
   "cell_type": "code",
   "execution_count": null,
   "metadata": {},
   "outputs": [],
   "source": []
  }
 ],
 "metadata": {
  "kernelspec": {
   "display_name": "Python 3",
   "language": "python",
   "name": "python3"
  },
  "language_info": {
   "codemirror_mode": {
    "name": "ipython",
    "version": 3
   },
   "file_extension": ".py",
   "mimetype": "text/x-python",
   "name": "python",
   "nbconvert_exporter": "python",
   "pygments_lexer": "ipython3",
   "version": "3.8.2"
  }
 },
 "nbformat": 4,
 "nbformat_minor": 4
}

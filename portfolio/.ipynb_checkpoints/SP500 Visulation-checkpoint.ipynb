{
 "cells": [
  {
   "cell_type": "code",
   "execution_count": 3,
   "metadata": {},
   "outputs": [
    {
     "data": {
      "text/html": [
       "\n",
       "    <div class=\"bk-root\">\n",
       "        <a href=\"https://bokeh.org\" target=\"_blank\" class=\"bk-logo bk-logo-small bk-logo-notebook\"></a>\n",
       "        <span id=\"1001\">Loading BokehJS ...</span>\n",
       "    </div>"
      ]
     },
     "metadata": {},
     "output_type": "display_data"
    },
    {
     "data": {
      "application/javascript": [
       "\n",
       "(function(root) {\n",
       "  function now() {\n",
       "    return new Date();\n",
       "  }\n",
       "\n",
       "  var force = true;\n",
       "\n",
       "  if (typeof root._bokeh_onload_callbacks === \"undefined\" || force === true) {\n",
       "    root._bokeh_onload_callbacks = [];\n",
       "    root._bokeh_is_loading = undefined;\n",
       "  }\n",
       "\n",
       "  var JS_MIME_TYPE = 'application/javascript';\n",
       "  var HTML_MIME_TYPE = 'text/html';\n",
       "  var EXEC_MIME_TYPE = 'application/vnd.bokehjs_exec.v0+json';\n",
       "  var CLASS_NAME = 'output_bokeh rendered_html';\n",
       "\n",
       "  /**\n",
       "   * Render data to the DOM node\n",
       "   */\n",
       "  function render(props, node) {\n",
       "    var script = document.createElement(\"script\");\n",
       "    node.appendChild(script);\n",
       "  }\n",
       "\n",
       "  /**\n",
       "   * Handle when an output is cleared or removed\n",
       "   */\n",
       "  function handleClearOutput(event, handle) {\n",
       "    var cell = handle.cell;\n",
       "\n",
       "    var id = cell.output_area._bokeh_element_id;\n",
       "    var server_id = cell.output_area._bokeh_server_id;\n",
       "    // Clean up Bokeh references\n",
       "    if (id != null && id in Bokeh.index) {\n",
       "      Bokeh.index[id].model.document.clear();\n",
       "      delete Bokeh.index[id];\n",
       "    }\n",
       "\n",
       "    if (server_id !== undefined) {\n",
       "      // Clean up Bokeh references\n",
       "      var cmd = \"from bokeh.io.state import curstate; print(curstate().uuid_to_server['\" + server_id + \"'].get_sessions()[0].document.roots[0]._id)\";\n",
       "      cell.notebook.kernel.execute(cmd, {\n",
       "        iopub: {\n",
       "          output: function(msg) {\n",
       "            var id = msg.content.text.trim();\n",
       "            if (id in Bokeh.index) {\n",
       "              Bokeh.index[id].model.document.clear();\n",
       "              delete Bokeh.index[id];\n",
       "            }\n",
       "          }\n",
       "        }\n",
       "      });\n",
       "      // Destroy server and session\n",
       "      var cmd = \"import bokeh.io.notebook as ion; ion.destroy_server('\" + server_id + \"')\";\n",
       "      cell.notebook.kernel.execute(cmd);\n",
       "    }\n",
       "  }\n",
       "\n",
       "  /**\n",
       "   * Handle when a new output is added\n",
       "   */\n",
       "  function handleAddOutput(event, handle) {\n",
       "    var output_area = handle.output_area;\n",
       "    var output = handle.output;\n",
       "\n",
       "    // limit handleAddOutput to display_data with EXEC_MIME_TYPE content only\n",
       "    if ((output.output_type != \"display_data\") || (!output.data.hasOwnProperty(EXEC_MIME_TYPE))) {\n",
       "      return\n",
       "    }\n",
       "\n",
       "    var toinsert = output_area.element.find(\".\" + CLASS_NAME.split(' ')[0]);\n",
       "\n",
       "    if (output.metadata[EXEC_MIME_TYPE][\"id\"] !== undefined) {\n",
       "      toinsert[toinsert.length - 1].firstChild.textContent = output.data[JS_MIME_TYPE];\n",
       "      // store reference to embed id on output_area\n",
       "      output_area._bokeh_element_id = output.metadata[EXEC_MIME_TYPE][\"id\"];\n",
       "    }\n",
       "    if (output.metadata[EXEC_MIME_TYPE][\"server_id\"] !== undefined) {\n",
       "      var bk_div = document.createElement(\"div\");\n",
       "      bk_div.innerHTML = output.data[HTML_MIME_TYPE];\n",
       "      var script_attrs = bk_div.children[0].attributes;\n",
       "      for (var i = 0; i < script_attrs.length; i++) {\n",
       "        toinsert[toinsert.length - 1].firstChild.setAttribute(script_attrs[i].name, script_attrs[i].value);\n",
       "        toinsert[toinsert.length - 1].firstChild.textContent = bk_div.children[0].textContent\n",
       "      }\n",
       "      // store reference to server id on output_area\n",
       "      output_area._bokeh_server_id = output.metadata[EXEC_MIME_TYPE][\"server_id\"];\n",
       "    }\n",
       "  }\n",
       "\n",
       "  function register_renderer(events, OutputArea) {\n",
       "\n",
       "    function append_mime(data, metadata, element) {\n",
       "      // create a DOM node to render to\n",
       "      var toinsert = this.create_output_subarea(\n",
       "        metadata,\n",
       "        CLASS_NAME,\n",
       "        EXEC_MIME_TYPE\n",
       "      );\n",
       "      this.keyboard_manager.register_events(toinsert);\n",
       "      // Render to node\n",
       "      var props = {data: data, metadata: metadata[EXEC_MIME_TYPE]};\n",
       "      render(props, toinsert[toinsert.length - 1]);\n",
       "      element.append(toinsert);\n",
       "      return toinsert\n",
       "    }\n",
       "\n",
       "    /* Handle when an output is cleared or removed */\n",
       "    events.on('clear_output.CodeCell', handleClearOutput);\n",
       "    events.on('delete.Cell', handleClearOutput);\n",
       "\n",
       "    /* Handle when a new output is added */\n",
       "    events.on('output_added.OutputArea', handleAddOutput);\n",
       "\n",
       "    /**\n",
       "     * Register the mime type and append_mime function with output_area\n",
       "     */\n",
       "    OutputArea.prototype.register_mime_type(EXEC_MIME_TYPE, append_mime, {\n",
       "      /* Is output safe? */\n",
       "      safe: true,\n",
       "      /* Index of renderer in `output_area.display_order` */\n",
       "      index: 0\n",
       "    });\n",
       "  }\n",
       "\n",
       "  // register the mime type if in Jupyter Notebook environment and previously unregistered\n",
       "  if (root.Jupyter !== undefined) {\n",
       "    var events = require('base/js/events');\n",
       "    var OutputArea = require('notebook/js/outputarea').OutputArea;\n",
       "\n",
       "    if (OutputArea.prototype.mime_types().indexOf(EXEC_MIME_TYPE) == -1) {\n",
       "      register_renderer(events, OutputArea);\n",
       "    }\n",
       "  }\n",
       "\n",
       "  \n",
       "  if (typeof (root._bokeh_timeout) === \"undefined\" || force === true) {\n",
       "    root._bokeh_timeout = Date.now() + 5000;\n",
       "    root._bokeh_failed_load = false;\n",
       "  }\n",
       "\n",
       "  var NB_LOAD_WARNING = {'data': {'text/html':\n",
       "     \"<div style='background-color: #fdd'>\\n\"+\n",
       "     \"<p>\\n\"+\n",
       "     \"BokehJS does not appear to have successfully loaded. If loading BokehJS from CDN, this \\n\"+\n",
       "     \"may be due to a slow or bad network connection. Possible fixes:\\n\"+\n",
       "     \"</p>\\n\"+\n",
       "     \"<ul>\\n\"+\n",
       "     \"<li>re-rerun `output_notebook()` to attempt to load from CDN again, or</li>\\n\"+\n",
       "     \"<li>use INLINE resources instead, as so:</li>\\n\"+\n",
       "     \"</ul>\\n\"+\n",
       "     \"<code>\\n\"+\n",
       "     \"from bokeh.resources import INLINE\\n\"+\n",
       "     \"output_notebook(resources=INLINE)\\n\"+\n",
       "     \"</code>\\n\"+\n",
       "     \"</div>\"}};\n",
       "\n",
       "  function display_loaded() {\n",
       "    var el = document.getElementById(\"1001\");\n",
       "    if (el != null) {\n",
       "      el.textContent = \"BokehJS is loading...\";\n",
       "    }\n",
       "    if (root.Bokeh !== undefined) {\n",
       "      if (el != null) {\n",
       "        el.textContent = \"BokehJS \" + root.Bokeh.version + \" successfully loaded.\";\n",
       "      }\n",
       "    } else if (Date.now() < root._bokeh_timeout) {\n",
       "      setTimeout(display_loaded, 100)\n",
       "    }\n",
       "  }\n",
       "\n",
       "\n",
       "  function run_callbacks() {\n",
       "    try {\n",
       "      root._bokeh_onload_callbacks.forEach(function(callback) {\n",
       "        if (callback != null)\n",
       "          callback();\n",
       "      });\n",
       "    } finally {\n",
       "      delete root._bokeh_onload_callbacks\n",
       "    }\n",
       "    console.debug(\"Bokeh: all callbacks have finished\");\n",
       "  }\n",
       "\n",
       "  function load_libs(css_urls, js_urls, callback) {\n",
       "    if (css_urls == null) css_urls = [];\n",
       "    if (js_urls == null) js_urls = [];\n",
       "\n",
       "    root._bokeh_onload_callbacks.push(callback);\n",
       "    if (root._bokeh_is_loading > 0) {\n",
       "      console.debug(\"Bokeh: BokehJS is being loaded, scheduling callback at\", now());\n",
       "      return null;\n",
       "    }\n",
       "    if (js_urls == null || js_urls.length === 0) {\n",
       "      run_callbacks();\n",
       "      return null;\n",
       "    }\n",
       "    console.debug(\"Bokeh: BokehJS not loaded, scheduling load and callback at\", now());\n",
       "    root._bokeh_is_loading = css_urls.length + js_urls.length;\n",
       "\n",
       "    function on_load() {\n",
       "      root._bokeh_is_loading--;\n",
       "      if (root._bokeh_is_loading === 0) {\n",
       "        console.debug(\"Bokeh: all BokehJS libraries/stylesheets loaded\");\n",
       "        run_callbacks()\n",
       "      }\n",
       "    }\n",
       "\n",
       "    function on_error() {\n",
       "      console.error(\"failed to load \" + url);\n",
       "    }\n",
       "\n",
       "    for (var i = 0; i < css_urls.length; i++) {\n",
       "      var url = css_urls[i];\n",
       "      const element = document.createElement(\"link\");\n",
       "      element.onload = on_load;\n",
       "      element.onerror = on_error;\n",
       "      element.rel = \"stylesheet\";\n",
       "      element.type = \"text/css\";\n",
       "      element.href = url;\n",
       "      console.debug(\"Bokeh: injecting link tag for BokehJS stylesheet: \", url);\n",
       "      document.body.appendChild(element);\n",
       "    }\n",
       "\n",
       "    for (var i = 0; i < js_urls.length; i++) {\n",
       "      var url = js_urls[i];\n",
       "      var element = document.createElement('script');\n",
       "      element.onload = on_load;\n",
       "      element.onerror = on_error;\n",
       "      element.async = false;\n",
       "      element.src = url;\n",
       "      \n",
       "      console.debug(\"Bokeh: injecting script tag for BokehJS library: \", url);\n",
       "      document.head.appendChild(element);\n",
       "    }\n",
       "  };var element = document.getElementById(\"1001\");\n",
       "  if (element == null) {\n",
       "    console.error(\"Bokeh: ERROR: autoload.js configured with elementid '1001' but no matching script tag was found. \")\n",
       "    return false;\n",
       "  }\n",
       "\n",
       "  function inject_raw_css(css) {\n",
       "    const element = document.createElement(\"style\");\n",
       "    element.appendChild(document.createTextNode(css));\n",
       "    document.body.appendChild(element);\n",
       "  }\n",
       "\n",
       "  \n",
       "  var js_urls = [\"https://cdn.bokeh.org/bokeh/release/bokeh-2.0.0.min.js\", \"https://cdn.bokeh.org/bokeh/release/bokeh-widgets-2.0.0.min.js\", \"https://cdn.bokeh.org/bokeh/release/bokeh-tables-2.0.0.min.js\", \"https://cdn.bokeh.org/bokeh/release/bokeh-gl-2.0.0.min.js\"];\n",
       "  var css_urls = [];\n",
       "  \n",
       "\n",
       "  var inline_js = [\n",
       "    function(Bokeh) {\n",
       "      Bokeh.set_log_level(\"info\");\n",
       "    },\n",
       "    function(Bokeh) {\n",
       "    \n",
       "    \n",
       "    }\n",
       "  ];\n",
       "\n",
       "  function run_inline_js() {\n",
       "    \n",
       "    if (root.Bokeh !== undefined || force === true) {\n",
       "      \n",
       "    for (var i = 0; i < inline_js.length; i++) {\n",
       "      inline_js[i].call(root, root.Bokeh);\n",
       "    }\n",
       "    if (force === true) {\n",
       "        display_loaded();\n",
       "      }} else if (Date.now() < root._bokeh_timeout) {\n",
       "      setTimeout(run_inline_js, 100);\n",
       "    } else if (!root._bokeh_failed_load) {\n",
       "      console.log(\"Bokeh: BokehJS failed to load within specified timeout.\");\n",
       "      root._bokeh_failed_load = true;\n",
       "    } else if (force !== true) {\n",
       "      var cell = $(document.getElementById(\"1001\")).parents('.cell').data().cell;\n",
       "      cell.output_area.append_execute_result(NB_LOAD_WARNING)\n",
       "    }\n",
       "\n",
       "  }\n",
       "\n",
       "  if (root._bokeh_is_loading === 0) {\n",
       "    console.debug(\"Bokeh: BokehJS loaded, going straight to plotting\");\n",
       "    run_inline_js();\n",
       "  } else {\n",
       "    load_libs(css_urls, js_urls, function() {\n",
       "      console.debug(\"Bokeh: BokehJS plotting callback run at\", now());\n",
       "      run_inline_js();\n",
       "    });\n",
       "  }\n",
       "}(window));"
      ],
      "application/vnd.bokehjs_load.v0+json": "\n(function(root) {\n  function now() {\n    return new Date();\n  }\n\n  var force = true;\n\n  if (typeof root._bokeh_onload_callbacks === \"undefined\" || force === true) {\n    root._bokeh_onload_callbacks = [];\n    root._bokeh_is_loading = undefined;\n  }\n\n  \n\n  \n  if (typeof (root._bokeh_timeout) === \"undefined\" || force === true) {\n    root._bokeh_timeout = Date.now() + 5000;\n    root._bokeh_failed_load = false;\n  }\n\n  var NB_LOAD_WARNING = {'data': {'text/html':\n     \"<div style='background-color: #fdd'>\\n\"+\n     \"<p>\\n\"+\n     \"BokehJS does not appear to have successfully loaded. If loading BokehJS from CDN, this \\n\"+\n     \"may be due to a slow or bad network connection. Possible fixes:\\n\"+\n     \"</p>\\n\"+\n     \"<ul>\\n\"+\n     \"<li>re-rerun `output_notebook()` to attempt to load from CDN again, or</li>\\n\"+\n     \"<li>use INLINE resources instead, as so:</li>\\n\"+\n     \"</ul>\\n\"+\n     \"<code>\\n\"+\n     \"from bokeh.resources import INLINE\\n\"+\n     \"output_notebook(resources=INLINE)\\n\"+\n     \"</code>\\n\"+\n     \"</div>\"}};\n\n  function display_loaded() {\n    var el = document.getElementById(\"1001\");\n    if (el != null) {\n      el.textContent = \"BokehJS is loading...\";\n    }\n    if (root.Bokeh !== undefined) {\n      if (el != null) {\n        el.textContent = \"BokehJS \" + root.Bokeh.version + \" successfully loaded.\";\n      }\n    } else if (Date.now() < root._bokeh_timeout) {\n      setTimeout(display_loaded, 100)\n    }\n  }\n\n\n  function run_callbacks() {\n    try {\n      root._bokeh_onload_callbacks.forEach(function(callback) {\n        if (callback != null)\n          callback();\n      });\n    } finally {\n      delete root._bokeh_onload_callbacks\n    }\n    console.debug(\"Bokeh: all callbacks have finished\");\n  }\n\n  function load_libs(css_urls, js_urls, callback) {\n    if (css_urls == null) css_urls = [];\n    if (js_urls == null) js_urls = [];\n\n    root._bokeh_onload_callbacks.push(callback);\n    if (root._bokeh_is_loading > 0) {\n      console.debug(\"Bokeh: BokehJS is being loaded, scheduling callback at\", now());\n      return null;\n    }\n    if (js_urls == null || js_urls.length === 0) {\n      run_callbacks();\n      return null;\n    }\n    console.debug(\"Bokeh: BokehJS not loaded, scheduling load and callback at\", now());\n    root._bokeh_is_loading = css_urls.length + js_urls.length;\n\n    function on_load() {\n      root._bokeh_is_loading--;\n      if (root._bokeh_is_loading === 0) {\n        console.debug(\"Bokeh: all BokehJS libraries/stylesheets loaded\");\n        run_callbacks()\n      }\n    }\n\n    function on_error() {\n      console.error(\"failed to load \" + url);\n    }\n\n    for (var i = 0; i < css_urls.length; i++) {\n      var url = css_urls[i];\n      const element = document.createElement(\"link\");\n      element.onload = on_load;\n      element.onerror = on_error;\n      element.rel = \"stylesheet\";\n      element.type = \"text/css\";\n      element.href = url;\n      console.debug(\"Bokeh: injecting link tag for BokehJS stylesheet: \", url);\n      document.body.appendChild(element);\n    }\n\n    for (var i = 0; i < js_urls.length; i++) {\n      var url = js_urls[i];\n      var element = document.createElement('script');\n      element.onload = on_load;\n      element.onerror = on_error;\n      element.async = false;\n      element.src = url;\n      \n      console.debug(\"Bokeh: injecting script tag for BokehJS library: \", url);\n      document.head.appendChild(element);\n    }\n  };var element = document.getElementById(\"1001\");\n  if (element == null) {\n    console.error(\"Bokeh: ERROR: autoload.js configured with elementid '1001' but no matching script tag was found. \")\n    return false;\n  }\n\n  function inject_raw_css(css) {\n    const element = document.createElement(\"style\");\n    element.appendChild(document.createTextNode(css));\n    document.body.appendChild(element);\n  }\n\n  \n  var js_urls = [\"https://cdn.bokeh.org/bokeh/release/bokeh-2.0.0.min.js\", \"https://cdn.bokeh.org/bokeh/release/bokeh-widgets-2.0.0.min.js\", \"https://cdn.bokeh.org/bokeh/release/bokeh-tables-2.0.0.min.js\", \"https://cdn.bokeh.org/bokeh/release/bokeh-gl-2.0.0.min.js\"];\n  var css_urls = [];\n  \n\n  var inline_js = [\n    function(Bokeh) {\n      Bokeh.set_log_level(\"info\");\n    },\n    function(Bokeh) {\n    \n    \n    }\n  ];\n\n  function run_inline_js() {\n    \n    if (root.Bokeh !== undefined || force === true) {\n      \n    for (var i = 0; i < inline_js.length; i++) {\n      inline_js[i].call(root, root.Bokeh);\n    }\n    if (force === true) {\n        display_loaded();\n      }} else if (Date.now() < root._bokeh_timeout) {\n      setTimeout(run_inline_js, 100);\n    } else if (!root._bokeh_failed_load) {\n      console.log(\"Bokeh: BokehJS failed to load within specified timeout.\");\n      root._bokeh_failed_load = true;\n    } else if (force !== true) {\n      var cell = $(document.getElementById(\"1001\")).parents('.cell').data().cell;\n      cell.output_area.append_execute_result(NB_LOAD_WARNING)\n    }\n\n  }\n\n  if (root._bokeh_is_loading === 0) {\n    console.debug(\"Bokeh: BokehJS loaded, going straight to plotting\");\n    run_inline_js();\n  } else {\n    load_libs(css_urls, js_urls, function() {\n      console.debug(\"Bokeh: BokehJS plotting callback run at\", now());\n      run_inline_js();\n    });\n  }\n}(window));"
     },
     "metadata": {},
     "output_type": "display_data"
    }
   ],
   "source": [
    "import pandas as pd\n",
    "import numpy as np\n",
    "import matplotlib.pyplot as plt\n",
    "import seaborn as sns\n",
    "from bokeh.io import show, output_notebook\n",
    "from bokeh.layouts import column\n",
    "from bokeh.plotting import figure, output_file, show\n",
    "from bokeh.layouts import layout, row\n",
    "from bokeh.models import ColumnDataSource,HoverTool,Span, BoxAnnotation\n",
    "from datetime import datetime\n",
    "output_notebook()"
   ]
  },
  {
   "cell_type": "code",
   "execution_count": 4,
   "metadata": {},
   "outputs": [],
   "source": [
    "hover_price = HoverTool(\n",
    "                tooltips=[\n",
    "                    ('date','@date{%F}'),\n",
    "                    ('price','$@{price}{0.2}'),],\n",
    "                formatters={\n",
    "                    '@date':'datetime',\n",
    "                    '@{price}':\"numeral\",\n",
    "                },\n",
    "                mode='vline')"
   ]
  },
  {
   "cell_type": "code",
   "execution_count": 5,
   "metadata": {},
   "outputs": [],
   "source": [
    "hover_change = HoverTool(\n",
    "                tooltips=[\n",
    "                    ('date','@date{%F}'),\n",
    "                    ('change','@{change}{.0000}'),],\n",
    "                formatters={\n",
    "                    '@date':'datetime',\n",
    "                    '@{change}':\"numeral\",\n",
    "                },\n",
    "                mode='vline')"
   ]
  },
  {
   "cell_type": "code",
   "execution_count": 6,
   "metadata": {},
   "outputs": [],
   "source": [
    "sp500 = pd.read_csv(\"./data/GSPC_2011.csv\", parse_dates=[\"Date\"])\n",
    "sp500[\"price_change\"] = sp500[\"Close\"].pct_change(1)\n",
    "sp500 = sp500.dropna()"
   ]
  },
  {
   "cell_type": "code",
   "execution_count": 7,
   "metadata": {},
   "outputs": [],
   "source": [
    "sp500 = pd.read_csv(\"./data/GSPC_2011.csv\", parse_dates=[\"Date\"])\n",
    "sp500[\"price_change\"] = sp500[\"Close\"].pct_change(1)\n",
    "sp500 = sp500.dropna()\n",
    "\n",
    "price = ColumnDataSource(data={\"date\":sp500[\"Date\"], \"price\":sp500['Close']})\n",
    "p = figure(title=\"SP500 Price\", plot_height=300, plot_width=900, tools=\"xpan\", toolbar_location=None,\n",
    "           x_axis_type=\"datetime\",background_fill_color=\"#efefef\", x_range=(sp500[\"Date\"].iloc[0], sp500[\"Date\"].iloc[-1]))\n",
    "p.line('date', 'price', source=price)\n",
    "p.yaxis.axis_label = 'Price'\n",
    "p.add_tools(hover_price)\n",
    "\n",
    "price_change = ColumnDataSource(data={\"date\":sp500[\"Date\"], \"change\":sp500['price_change']})\n",
    "c = figure(title=\"SP500 Daily Price Change\", plot_height=300, plot_width=900, tools=\"xpan\", toolbar_location=None,\n",
    "           x_axis_type=\"datetime\",background_fill_color=\"#efefef\", x_range=(sp500[\"Date\"].iloc[0], sp500[\"Date\"].iloc[-1]))\n",
    "\n",
    "c.line('date', 'change', source=price_change)\n",
    "c.yaxis.axis_label = 'Change'\n",
    "c.add_tools(hover_change)"
   ]
  },
  {
   "cell_type": "markdown",
   "metadata": {},
   "source": [
    "February 15th - The first Libyan Civil War starts. Uncertainty about libyan oil production impacts the stock market."
   ]
  },
  {
   "cell_type": "code",
   "execution_count": 8,
   "metadata": {},
   "outputs": [],
   "source": [
    "start_libyan_civil_war = Span(location=datetime(2011,2,15), dimension='height', line_color='orange', line_width=1)\n",
    "p.add_layout(start_libyan_civil_war)"
   ]
  },
  {
   "cell_type": "markdown",
   "metadata": {},
   "source": [
    "March 11th - Earthquake of strength 9,0 hits Japan. A Tsunami kills thousands of people and leads to a catastrophe in the nuclear reactor in Fukushima. Japans economy is in a shock which has ripple effects through other markets."
   ]
  },
  {
   "cell_type": "code",
   "execution_count": 9,
   "metadata": {},
   "outputs": [],
   "source": [
    "japan_earthquake = Span(location=datetime(2011,3,11), dimension='height', line_color='purple', line_width=1)\n",
    "p.add_layout(japan_earthquake)"
   ]
  },
  {
   "cell_type": "markdown",
   "metadata": {},
   "source": [
    "March 15th - Exactly one month after the start of the libyan civil war the president of Bahrai declares a state of emergency in response continous protests and mobilizes the army. In Syria the civil war starts. Fear of oil- and energy shortages in the US increase with conflicts in Libya, Bahrain and Syria and civil unrest in other arabic countries."
   ]
  },
  {
   "cell_type": "code",
   "execution_count": 10,
   "metadata": {},
   "outputs": [],
   "source": [
    "bahrain_syria_conflicts = Span(location=datetime(2011,3,15), dimension='height', line_color='coral', line_width=1)\n",
    "p.add_layout(bahrain_syria_conflicts)"
   ]
  },
  {
   "cell_type": "markdown",
   "metadata": {},
   "source": [
    "June - Debates about the second bailout for greece lead to more and more uncertainty in the markets about the future of greece, europe and the euro."
   ]
  },
  {
   "cell_type": "code",
   "execution_count": 11,
   "metadata": {},
   "outputs": [],
   "source": [
    "greek_baylout_debates = BoxAnnotation(left=datetime(2011,5,31), right=datetime(2011,6,29), fill_color='blue', fill_alpha=0.1)\n",
    "p.add_layout(greek_baylout_debates)"
   ]
  },
  {
   "cell_type": "markdown",
   "metadata": {},
   "source": [
    "June 29th - The third credit package for greek is confirmed. With this huge austerity measures are coming for greek and the greece public. "
   ]
  },
  {
   "cell_type": "code",
   "execution_count": 12,
   "metadata": {},
   "outputs": [],
   "source": [
    "credit_greek = Span(location=datetime(2011,6,29), dimension='height', line_color='green', line_width=1)\n",
    "p.add_layout(credit_greek )"
   ]
  },
  {
   "cell_type": "markdown",
   "metadata": {},
   "source": [
    "August 5th - High debt and major difficulties regarding the US-Budget cause the US credit rating gets downgraded from AAA to AA+. This is the first time since 1941 that the US doesnt count as AAA."
   ]
  },
  {
   "cell_type": "code",
   "execution_count": 13,
   "metadata": {},
   "outputs": [],
   "source": [
    "us_credit_downgrade = Span(location=datetime(2011,8,5), dimension='height', line_color='red', line_width=1)\n",
    "p.add_layout(us_credit_downgrade)"
   ]
  },
  {
   "cell_type": "markdown",
   "metadata": {},
   "source": [
    "August till December - The us stock market is in a major crisis fueled by the european debt crisis and fear about its effect on the us economy. Occupy Wall Street starts their protests in september. The rest of the the year is marked by uncertainty, doubt and fear. Each uptrend gets wiped out quickly and drastically. The market can recover a bit to the end of the year."
   ]
  },
  {
   "cell_type": "markdown",
   "metadata": {},
   "source": [
    "September 19th - Italian credit gets downgrade from A+ to A. This is a major hit for many banks after they lend billions to stabilize the country"
   ]
  },
  {
   "cell_type": "code",
   "execution_count": 14,
   "metadata": {},
   "outputs": [],
   "source": [
    "italian_credit_downgrade = Span(location=datetime(2011,9,19), dimension='height', line_color='red', line_width=1)\n",
    "p.add_layout(italian_credit_downgrade)"
   ]
  },
  {
   "cell_type": "code",
   "execution_count": 15,
   "metadata": {
    "scrolled": true
   },
   "outputs": [
    {
     "data": {
      "text/html": [
       "\n",
       "\n",
       "\n",
       "\n",
       "\n",
       "\n",
       "  <div class=\"bk-root\" id=\"582b5d40-86a0-49d0-b885-a0fffba5b1a9\" data-root-id=\"1069\"></div>\n"
      ]
     },
     "metadata": {},
     "output_type": "display_data"
    },
    {
     "data": {
      "application/javascript": [
       "(function(root) {\n",
       "  function embed_document(root) {\n",
       "    \n",
       "  var docs_json = {\"a6d3c3b7-8e4c-4254-b01d-65217923cfab\":{\"roots\":{\"references\":[{\"attributes\":{\"children\":[{\"id\":\"1005\"},{\"id\":\"1034\"}]},\"id\":\"1069\",\"type\":\"Column\"},{\"attributes\":{\"axis\":{\"id\":\"1045\"},\"ticker\":null},\"id\":\"1048\",\"type\":\"Grid\"},{\"attributes\":{\"formatter\":{\"id\":\"1078\"},\"ticker\":{\"id\":\"1046\"}},\"id\":\"1045\",\"type\":\"DatetimeAxis\"},{\"attributes\":{\"months\":[0,1,2,3,4,5,6,7,8,9,10,11]},\"id\":\"1089\",\"type\":\"MonthsTicker\"},{\"attributes\":{},\"id\":\"1050\",\"type\":\"BasicTicker\"},{\"attributes\":{\"dimensions\":\"width\"},\"id\":\"1053\",\"type\":\"PanTool\"},{\"attributes\":{},\"id\":\"1094\",\"type\":\"UnionRenderers\"},{\"attributes\":{\"num_minor_ticks\":5,\"tickers\":[{\"id\":\"1096\"},{\"id\":\"1097\"},{\"id\":\"1098\"},{\"id\":\"1099\"},{\"id\":\"1100\"},{\"id\":\"1101\"},{\"id\":\"1102\"},{\"id\":\"1103\"},{\"id\":\"1104\"},{\"id\":\"1105\"},{\"id\":\"1106\"},{\"id\":\"1107\"}]},\"id\":\"1046\",\"type\":\"DatetimeTicker\"},{\"attributes\":{\"axis_label\":\"Change\",\"formatter\":{\"id\":\"1076\"},\"ticker\":{\"id\":\"1050\"}},\"id\":\"1049\",\"type\":\"LinearAxis\"},{\"attributes\":{\"axis\":{\"id\":\"1049\"},\"dimension\":1,\"ticker\":null},\"id\":\"1052\",\"type\":\"Grid\"},{\"attributes\":{\"days\":[1,2,3,4,5,6,7,8,9,10,11,12,13,14,15,16,17,18,19,20,21,22,23,24,25,26,27,28,29,30,31]},\"id\":\"1085\",\"type\":\"DaysTicker\"},{\"attributes\":{\"line_color\":\"#1f77b4\",\"x\":{\"field\":\"date\"},\"y\":{\"field\":\"change\"}},\"id\":\"1057\",\"type\":\"Line\"},{\"attributes\":{\"dimension\":\"height\",\"line_color\":\"orange\",\"location\":1297728000000.0},\"id\":\"1062\",\"type\":\"Span\"},{\"attributes\":{\"active_drag\":\"auto\",\"active_inspect\":\"auto\",\"active_multi\":null,\"active_scroll\":\"auto\",\"active_tap\":\"auto\",\"tools\":[{\"id\":\"1053\"},{\"id\":\"1003\"}]},\"id\":\"1054\",\"type\":\"Toolbar\"},{\"attributes\":{\"days\":[1,2,3,4,5,6,7,8,9,10,11,12,13,14,15,16,17,18,19,20,21,22,23,24,25,26,27,28,29,30,31]},\"id\":\"1099\",\"type\":\"DaysTicker\"},{\"attributes\":{\"days\":[1,15]},\"id\":\"1088\",\"type\":\"DaysTicker\"},{\"attributes\":{\"base\":60,\"mantissas\":[1,2,5,10,15,20,30],\"max_interval\":1800000.0,\"min_interval\":1000.0,\"num_minor_ticks\":0},\"id\":\"1097\",\"type\":\"AdaptiveTicker\"},{\"attributes\":{\"line_alpha\":0.1,\"line_color\":\"#1f77b4\",\"x\":{\"field\":\"date\"},\"y\":{\"field\":\"change\"}},\"id\":\"1058\",\"type\":\"Line\"},{\"attributes\":{\"background_fill_color\":\"#efefef\",\"below\":[{\"id\":\"1016\"}],\"center\":[{\"id\":\"1019\"},{\"id\":\"1023\"},{\"id\":\"1062\"},{\"id\":\"1063\"},{\"id\":\"1064\"},{\"id\":\"1065\"},{\"id\":\"1066\"},{\"id\":\"1067\"},{\"id\":\"1068\"}],\"left\":[{\"id\":\"1020\"}],\"plot_height\":300,\"plot_width\":900,\"renderers\":[{\"id\":\"1030\"}],\"title\":{\"id\":\"1006\"},\"toolbar\":{\"id\":\"1025\"},\"toolbar_location\":null,\"x_range\":{\"id\":\"1008\"},\"x_scale\":{\"id\":\"1012\"},\"y_range\":{\"id\":\"1010\"},\"y_scale\":{\"id\":\"1014\"}},\"id\":\"1005\",\"subtype\":\"Figure\",\"type\":\"Plot\"},{\"attributes\":{\"source\":{\"id\":\"1033\"}},\"id\":\"1060\",\"type\":\"CDSView\"},{\"attributes\":{},\"id\":\"1095\",\"type\":\"Selection\"},{\"attributes\":{\"data_source\":{\"id\":\"1004\"},\"glyph\":{\"id\":\"1028\"},\"hover_glyph\":null,\"muted_glyph\":null,\"nonselection_glyph\":{\"id\":\"1029\"},\"selection_glyph\":null,\"view\":{\"id\":\"1031\"}},\"id\":\"1030\",\"type\":\"GlyphRenderer\"},{\"attributes\":{\"months\":[0,2,4,6,8,10]},\"id\":\"1090\",\"type\":\"MonthsTicker\"},{\"attributes\":{\"end\":1325203200000.0,\"start\":1294099200000.0},\"id\":\"1008\",\"type\":\"Range1d\"},{\"attributes\":{\"text\":\"SP500 Price\"},\"id\":\"1006\",\"type\":\"Title\"},{\"attributes\":{\"base\":24,\"mantissas\":[1,2,4,6,8,12],\"max_interval\":43200000.0,\"min_interval\":3600000.0,\"num_minor_ticks\":0},\"id\":\"1098\",\"type\":\"AdaptiveTicker\"},{\"attributes\":{\"background_fill_color\":\"#efefef\",\"below\":[{\"id\":\"1045\"}],\"center\":[{\"id\":\"1048\"},{\"id\":\"1052\"}],\"left\":[{\"id\":\"1049\"}],\"plot_height\":300,\"plot_width\":900,\"renderers\":[{\"id\":\"1059\"}],\"title\":{\"id\":\"1035\"},\"toolbar\":{\"id\":\"1054\"},\"toolbar_location\":null,\"x_range\":{\"id\":\"1037\"},\"x_scale\":{\"id\":\"1041\"},\"y_range\":{\"id\":\"1039\"},\"y_scale\":{\"id\":\"1043\"}},\"id\":\"1034\",\"subtype\":\"Figure\",\"type\":\"Plot\"},{\"attributes\":{\"days\":[1,8,15,22]},\"id\":\"1087\",\"type\":\"DaysTicker\"},{\"attributes\":{\"days\":[1,4,7,10,13,16,19,22,25,28]},\"id\":\"1086\",\"type\":\"DaysTicker\"},{\"attributes\":{\"fill_alpha\":0.1,\"fill_color\":\"blue\",\"left\":1306800000000.0,\"right\":1309305600000.0},\"id\":\"1065\",\"type\":\"BoxAnnotation\"},{\"attributes\":{},\"id\":\"1093\",\"type\":\"YearsTicker\"},{\"attributes\":{},\"id\":\"1072\",\"type\":\"BasicTickFormatter\"},{\"attributes\":{\"mantissas\":[1,2,5],\"max_interval\":500.0,\"num_minor_ticks\":0},\"id\":\"1096\",\"type\":\"AdaptiveTicker\"},{\"attributes\":{\"dimension\":\"height\",\"line_color\":\"red\",\"location\":1316390400000.0},\"id\":\"1068\",\"type\":\"Span\"},{\"attributes\":{\"dimension\":\"height\",\"line_color\":\"red\",\"location\":1312502400000.0},\"id\":\"1067\",\"type\":\"Span\"},{\"attributes\":{},\"id\":\"1074\",\"type\":\"DatetimeTickFormatter\"},{\"attributes\":{\"months\":[0,6]},\"id\":\"1092\",\"type\":\"MonthsTicker\"},{\"attributes\":{\"base\":24,\"mantissas\":[1,2,4,6,8,12],\"max_interval\":43200000.0,\"min_interval\":3600000.0,\"num_minor_ticks\":0},\"id\":\"1084\",\"type\":\"AdaptiveTicker\"},{\"attributes\":{\"dimension\":\"height\",\"line_color\":\"purple\",\"location\":1299801600000.0},\"id\":\"1063\",\"type\":\"Span\"},{\"attributes\":{\"callback\":null,\"formatters\":{\"@date\":\"datetime\",\"@{price}\":\"numeral\"},\"mode\":\"vline\",\"tooltips\":[[\"date\",\"@date{%F}\"],[\"price\",\"$@{price}{0.2}\"]]},\"id\":\"1002\",\"type\":\"HoverTool\"},{\"attributes\":{\"dimension\":\"height\",\"line_color\":\"green\",\"location\":1309305600000.0},\"id\":\"1066\",\"type\":\"Span\"},{\"attributes\":{\"months\":[0,4,8]},\"id\":\"1091\",\"type\":\"MonthsTicker\"},{\"attributes\":{},\"id\":\"1014\",\"type\":\"LinearScale\"},{\"attributes\":{},\"id\":\"1010\",\"type\":\"DataRange1d\"},{\"attributes\":{\"axis\":{\"id\":\"1016\"},\"ticker\":null},\"id\":\"1019\",\"type\":\"Grid\"},{\"attributes\":{\"axis_label\":\"Price\",\"formatter\":{\"id\":\"1072\"},\"ticker\":{\"id\":\"1021\"}},\"id\":\"1020\",\"type\":\"LinearAxis\"},{\"attributes\":{},\"id\":\"1021\",\"type\":\"BasicTicker\"},{\"attributes\":{\"formatter\":{\"id\":\"1074\"},\"ticker\":{\"id\":\"1017\"}},\"id\":\"1016\",\"type\":\"DatetimeAxis\"},{\"attributes\":{},\"id\":\"1012\",\"type\":\"LinearScale\"},{\"attributes\":{\"num_minor_ticks\":5,\"tickers\":[{\"id\":\"1082\"},{\"id\":\"1083\"},{\"id\":\"1084\"},{\"id\":\"1085\"},{\"id\":\"1086\"},{\"id\":\"1087\"},{\"id\":\"1088\"},{\"id\":\"1089\"},{\"id\":\"1090\"},{\"id\":\"1091\"},{\"id\":\"1092\"},{\"id\":\"1093\"}]},\"id\":\"1017\",\"type\":\"DatetimeTicker\"},{\"attributes\":{\"axis\":{\"id\":\"1020\"},\"dimension\":1,\"ticker\":null},\"id\":\"1023\",\"type\":\"Grid\"},{\"attributes\":{},\"id\":\"1041\",\"type\":\"LinearScale\"},{\"attributes\":{\"dimension\":\"height\",\"line_color\":\"coral\",\"location\":1300147200000.0},\"id\":\"1064\",\"type\":\"Span\"},{\"attributes\":{\"source\":{\"id\":\"1004\"}},\"id\":\"1031\",\"type\":\"CDSView\"},{\"attributes\":{\"active_drag\":\"auto\",\"active_inspect\":\"auto\",\"active_multi\":null,\"active_scroll\":\"auto\",\"active_tap\":\"auto\",\"tools\":[{\"id\":\"1024\"},{\"id\":\"1002\"}]},\"id\":\"1025\",\"type\":\"Toolbar\"},{\"attributes\":{\"dimensions\":\"width\"},\"id\":\"1024\",\"type\":\"PanTool\"},{\"attributes\":{},\"id\":\"1039\",\"type\":\"DataRange1d\"},{\"attributes\":{\"mantissas\":[1,2,5],\"max_interval\":500.0,\"num_minor_ticks\":0},\"id\":\"1082\",\"type\":\"AdaptiveTicker\"},{\"attributes\":{\"data_source\":{\"id\":\"1033\"},\"glyph\":{\"id\":\"1057\"},\"hover_glyph\":null,\"muted_glyph\":null,\"nonselection_glyph\":{\"id\":\"1058\"},\"selection_glyph\":null,\"view\":{\"id\":\"1060\"}},\"id\":\"1059\",\"type\":\"GlyphRenderer\"},{\"attributes\":{\"end\":1325203200000.0,\"start\":1294099200000.0},\"id\":\"1037\",\"type\":\"Range1d\"},{\"attributes\":{\"data\":{\"date\":{\"__ndarray__\":\"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\",\"dtype\":\"float64\",\"shape\":[251]},\"price\":{\"__ndarray__\":\"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\",\"dtype\":\"float64\",\"shape\":[251]}},\"selected\":{\"id\":\"1081\"},\"selection_policy\":{\"id\":\"1080\"}},\"id\":\"1004\",\"type\":\"ColumnDataSource\"},{\"attributes\":{\"base\":60,\"mantissas\":[1,2,5,10,15,20,30],\"max_interval\":1800000.0,\"min_interval\":1000.0,\"num_minor_ticks\":0},\"id\":\"1083\",\"type\":\"AdaptiveTicker\"},{\"attributes\":{\"line_color\":\"#1f77b4\",\"x\":{\"field\":\"date\"},\"y\":{\"field\":\"price\"}},\"id\":\"1028\",\"type\":\"Line\"},{\"attributes\":{},\"id\":\"1076\",\"type\":\"BasicTickFormatter\"},{\"attributes\":{\"line_alpha\":0.1,\"line_color\":\"#1f77b4\",\"x\":{\"field\":\"date\"},\"y\":{\"field\":\"price\"}},\"id\":\"1029\",\"type\":\"Line\"},{\"attributes\":{\"text\":\"SP500 Daily Price Change\"},\"id\":\"1035\",\"type\":\"Title\"},{\"attributes\":{},\"id\":\"1043\",\"type\":\"LinearScale\"},{\"attributes\":{\"days\":[1,4,7,10,13,16,19,22,25,28]},\"id\":\"1100\",\"type\":\"DaysTicker\"},{\"attributes\":{},\"id\":\"1078\",\"type\":\"DatetimeTickFormatter\"},{\"attributes\":{\"data\":{\"change\":{\"__ndarray__\":\"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\",\"dtype\":\"float64\",\"shape\":[251]},\"date\":{\"__ndarray__\":\"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\",\"dtype\":\"float64\",\"shape\":[251]}},\"selected\":{\"id\":\"1095\"},\"selection_policy\":{\"id\":\"1094\"}},\"id\":\"1033\",\"type\":\"ColumnDataSource\"},{\"attributes\":{},\"id\":\"1107\",\"type\":\"YearsTicker\"},{\"attributes\":{\"months\":[0,6]},\"id\":\"1106\",\"type\":\"MonthsTicker\"},{\"attributes\":{\"months\":[0,4,8]},\"id\":\"1105\",\"type\":\"MonthsTicker\"},{\"attributes\":{\"callback\":null,\"formatters\":{\"@date\":\"datetime\",\"@{change}\":\"numeral\"},\"mode\":\"vline\",\"tooltips\":[[\"date\",\"@date{%F}\"],[\"change\",\"@{change}{.0000}\"]]},\"id\":\"1003\",\"type\":\"HoverTool\"},{\"attributes\":{},\"id\":\"1080\",\"type\":\"UnionRenderers\"},{\"attributes\":{},\"id\":\"1081\",\"type\":\"Selection\"},{\"attributes\":{\"days\":[1,8,15,22]},\"id\":\"1101\",\"type\":\"DaysTicker\"},{\"attributes\":{\"months\":[0,2,4,6,8,10]},\"id\":\"1104\",\"type\":\"MonthsTicker\"},{\"attributes\":{\"months\":[0,1,2,3,4,5,6,7,8,9,10,11]},\"id\":\"1103\",\"type\":\"MonthsTicker\"},{\"attributes\":{\"days\":[1,15]},\"id\":\"1102\",\"type\":\"DaysTicker\"}],\"root_ids\":[\"1069\"]},\"title\":\"Bokeh Application\",\"version\":\"2.0.0\"}};\n",
       "  var render_items = [{\"docid\":\"a6d3c3b7-8e4c-4254-b01d-65217923cfab\",\"root_ids\":[\"1069\"],\"roots\":{\"1069\":\"582b5d40-86a0-49d0-b885-a0fffba5b1a9\"}}];\n",
       "  root.Bokeh.embed.embed_items_notebook(docs_json, render_items);\n",
       "\n",
       "  }\n",
       "  if (root.Bokeh !== undefined) {\n",
       "    embed_document(root);\n",
       "  } else {\n",
       "    var attempts = 0;\n",
       "    var timer = setInterval(function(root) {\n",
       "      if (root.Bokeh !== undefined) {\n",
       "        clearInterval(timer);\n",
       "        embed_document(root);\n",
       "      } else {\n",
       "        attempts++;\n",
       "        if (attempts > 100) {\n",
       "          clearInterval(timer);\n",
       "          console.log(\"Bokeh: ERROR: Unable to run BokehJS code because BokehJS library is missing\");\n",
       "        }\n",
       "      }\n",
       "    }, 10, root)\n",
       "  }\n",
       "})(window);"
      ],
      "application/vnd.bokehjs_exec.v0+json": ""
     },
     "metadata": {
      "application/vnd.bokehjs_exec.v0+json": {
       "id": "1069"
      }
     },
     "output_type": "display_data"
    }
   ],
   "source": [
    "show(column(p, c))"
   ]
  },
  {
   "cell_type": "code",
   "execution_count": 16,
   "metadata": {},
   "outputs": [
    {
     "ename": "SyntaxError",
     "evalue": "invalid syntax (<ipython-input-16-479befb8399a>, line 1)",
     "output_type": "error",
     "traceback": [
      "\u001b[1;36m  File \u001b[1;32m\"<ipython-input-16-479befb8399a>\"\u001b[1;36m, line \u001b[1;32m1\u001b[0m\n\u001b[1;33m    Comparsion SP500 buy and hold vs algo nicht möglich, da der algo nur möglichkeiten erkennt und kein konzept von budget hat.\u001b[0m\n\u001b[1;37m               ^\u001b[0m\n\u001b[1;31mSyntaxError\u001b[0m\u001b[1;31m:\u001b[0m invalid syntax\n"
     ]
    }
   ],
   "source": [
    " Comparsion SP500 buy and hold vs algo nicht möglich, da der algo nur möglichkeiten erkennt und kein konzept von budget hat.\n",
    "    1. cumulative returns line chart (1000€ after the year in both scenarios)\n",
    "    2. pivot table monthly returns in percent \n",
    "    3. horizontal monthly returns blockchart  (with mean)\n",
    "    4. distribution of monthly returns blockchart (with mean, median)\n",
    "    5. rolling sharpe ratio (with average)\n",
    "    6. underwater plot"
   ]
  },
  {
   "cell_type": "code",
   "execution_count": 17,
   "metadata": {},
   "outputs": [
    {
     "name": "stdout",
     "output_type": "stream",
     "text": [
      "Date       datetime64[ns]\n",
      "Price             float64\n",
      "Action             object\n",
      "Profits           float64\n",
      "dtype: object\n"
     ]
    },
    {
     "data": {
      "text/html": [
       "<div>\n",
       "<style scoped>\n",
       "    .dataframe tbody tr th:only-of-type {\n",
       "        vertical-align: middle;\n",
       "    }\n",
       "\n",
       "    .dataframe tbody tr th {\n",
       "        vertical-align: top;\n",
       "    }\n",
       "\n",
       "    .dataframe thead th {\n",
       "        text-align: right;\n",
       "    }\n",
       "</style>\n",
       "<table border=\"1\" class=\"dataframe\">\n",
       "  <thead>\n",
       "    <tr style=\"text-align: right;\">\n",
       "      <th></th>\n",
       "      <th>Date</th>\n",
       "      <th>Price</th>\n",
       "      <th>Action</th>\n",
       "      <th>Profits</th>\n",
       "    </tr>\n",
       "  </thead>\n",
       "  <tbody>\n",
       "    <tr>\n",
       "      <th>48</th>\n",
       "      <td>2011-04-29</td>\n",
       "      <td>1363.609985</td>\n",
       "      <td>Buy</td>\n",
       "      <td>0.00</td>\n",
       "    </tr>\n",
       "    <tr>\n",
       "      <th>67</th>\n",
       "      <td>2011-07-08</td>\n",
       "      <td>1343.800049</td>\n",
       "      <td>Buy</td>\n",
       "      <td>0.00</td>\n",
       "    </tr>\n",
       "    <tr>\n",
       "      <th>114</th>\n",
       "      <td>2011-11-25</td>\n",
       "      <td>1158.670044</td>\n",
       "      <td>Sell</td>\n",
       "      <td>-29.37</td>\n",
       "    </tr>\n",
       "    <tr>\n",
       "      <th>93</th>\n",
       "      <td>2011-10-19</td>\n",
       "      <td>1209.880005</td>\n",
       "      <td>Buy</td>\n",
       "      <td>0.00</td>\n",
       "    </tr>\n",
       "    <tr>\n",
       "      <th>110</th>\n",
       "      <td>2011-11-18</td>\n",
       "      <td>1215.650024</td>\n",
       "      <td>Sell</td>\n",
       "      <td>-37.65</td>\n",
       "    </tr>\n",
       "  </tbody>\n",
       "</table>\n",
       "</div>"
      ],
      "text/plain": [
       "          Date        Price Action  Profits\n",
       "48  2011-04-29  1363.609985    Buy     0.00\n",
       "67  2011-07-08  1343.800049    Buy     0.00\n",
       "114 2011-11-25  1158.670044   Sell   -29.37\n",
       "93  2011-10-19  1209.880005    Buy     0.00\n",
       "110 2011-11-18  1215.650024   Sell   -37.65"
      ]
     },
     "execution_count": 17,
     "metadata": {},
     "output_type": "execute_result"
    }
   ],
   "source": [
    "dqn = pd.read_csv(\"./data/dqn_model2.csv\", parse_dates=[\"Date\"])\n",
    "print(dqn.dtypes)\n",
    "dqn.sample(5)"
   ]
  },
  {
   "cell_type": "code",
   "execution_count": 19,
   "metadata": {},
   "outputs": [],
   "source": [
    "dqn = pd.read_csv(\"./data/dqn_model.csv\", parse_dates=[\"Date\"])\n",
    "dqn[\"Strategy\"] = dqn[\"Profits\"].cumsum()\n",
    "dqn[\"Return_perc\"] = dqn[\"Profits\"]/dqn[\"Price\"] + 1\n",
    "\n",
    "buys = dqn[dqn[\"Action\"] == \"Buy\"][[\"Date\", \"Price\"]]\n",
    "sells = dqn[dqn[\"Action\"] == \"Sell\"][[\"Date\", \"Price\"]]\n"
   ]
  },
  {
   "cell_type": "code",
   "execution_count": 24,
   "metadata": {},
   "outputs": [
    {
     "data": {
      "text/plain": [
       "<matplotlib.axes._subplots.AxesSubplot at 0x1d5c06250d0>"
      ]
     },
     "execution_count": 24,
     "metadata": {},
     "output_type": "execute_result"
    },
    {
     "data": {
      "image/png": "[encoded data removed]",
      "text/plain": [
       "<Figure size 432x288 with 1 Axes>"
      ]
     },
     "metadata": {
      "needs_background": "light"
     },
     "output_type": "display_data"
    }
   ],
   "source": [
    "dqn[\"Return_perc\"].plot()"
   ]
  },
  {
   "cell_type": "code",
   "execution_count": 25,
   "metadata": {},
   "outputs": [
    {
     "data": {
      "image/png": "[encoded data removed]",
      "text/plain": [
       "<Figure size 432x288 with 1 Axes>"
      ]
     },
     "metadata": {
      "needs_background": "light"
     },
     "output_type": "display_data"
    }
   ],
   "source": [
    "plt.figure(1)\n",
    "plt.subplot(111)\n",
    "sp500[\"return\"] = (sp500[\"price_change\"]+1).cumprod()\n",
    "sp500[\"return\"].plot()\n",
    "dqn[\"Return_perc\"].cumprod().plot()\n",
    "plt.show()"
   ]
  },
  {
   "cell_type": "code",
   "execution_count": 24,
   "metadata": {},
   "outputs": [
    {
     "data": {
      "text/plain": [
       "<matplotlib.axes._subplots.AxesSubplot at 0x26937c5e820>"
      ]
     },
     "execution_count": 24,
     "metadata": {},
     "output_type": "execute_result"
    },
    {
     "data": {
      "image/png": "[encoded data removed]",
      "text/plain": [
       "<Figure size 432x288 with 1 Axes>"
      ]
     },
     "metadata": {
      "needs_background": "light"
     },
     "output_type": "display_data"
    }
   ],
   "source": []
  },
  {
   "cell_type": "code",
   "execution_count": 23,
   "metadata": {},
   "outputs": [
    {
     "data": {
      "text/plain": [
       "<matplotlib.axes._subplots.AxesSubplot at 0x26937731190>"
      ]
     },
     "execution_count": 23,
     "metadata": {},
     "output_type": "execute_result"
    },
    {
     "data": {
      "image/png": "[encoded data removed]",
      "text/plain": [
       "<Figure size 432x288 with 1 Axes>"
      ]
     },
     "metadata": {
      "needs_background": "light"
     },
     "output_type": "display_data"
    }
   ],
   "source": [
    "sp500[\"return\"] = (sp500[\"price_change\"]+1).cumprod()\n",
    "sp500[\"return\"].plot()"
   ]
  },
  {
   "cell_type": "code",
   "execution_count": 1,
   "metadata": {},
   "outputs": [
    {
     "ename": "NameError",
     "evalue": "name 'dqn' is not defined",
     "output_type": "error",
     "traceback": [
      "\u001b[1;31m---------------------------------------------------------------------------\u001b[0m",
      "\u001b[1;31mNameError\u001b[0m                                 Traceback (most recent call last)",
      "\u001b[1;32m<ipython-input-1-1232b3e52418>\u001b[0m in \u001b[0;36m<module>\u001b[1;34m\u001b[0m\n\u001b[1;32m----> 1\u001b[1;33m \u001b[0mdqn\u001b[0m\u001b[1;33m[\u001b[0m\u001b[1;34m\"Weekday\"\u001b[0m\u001b[1;33m]\u001b[0m \u001b[1;33m=\u001b[0m \u001b[0mdqn\u001b[0m\u001b[1;33m[\u001b[0m\u001b[1;34m\"Date\"\u001b[0m\u001b[1;33m]\u001b[0m\u001b[1;33m.\u001b[0m\u001b[0mdt\u001b[0m\u001b[1;33m.\u001b[0m\u001b[0mday_name\u001b[0m\u001b[1;33m(\u001b[0m\u001b[1;33m)\u001b[0m\u001b[1;33m\u001b[0m\u001b[1;33m\u001b[0m\u001b[0m\n\u001b[0m\u001b[0;32m      2\u001b[0m \u001b[0mdqn\u001b[0m\u001b[1;33m[\u001b[0m\u001b[1;34m\"Month\"\u001b[0m\u001b[1;33m]\u001b[0m \u001b[1;33m=\u001b[0m \u001b[0mdqn\u001b[0m\u001b[1;33m[\u001b[0m\u001b[1;34m\"Date\"\u001b[0m\u001b[1;33m]\u001b[0m\u001b[1;33m.\u001b[0m\u001b[0mdt\u001b[0m\u001b[1;33m.\u001b[0m\u001b[0mmonth_name\u001b[0m\u001b[1;33m(\u001b[0m\u001b[1;33m)\u001b[0m\u001b[1;33m\u001b[0m\u001b[1;33m\u001b[0m\u001b[0m\n",
      "\u001b[1;31mNameError\u001b[0m: name 'dqn' is not defined"
     ]
    }
   ],
   "source": [
    "dqn[\"Weekday\"] = dqn[\"Date\"].dt.day_name()\n",
    "dqn[\"Month\"] = dqn[\"Date\"].dt.month_name()"
   ]
  },
  {
   "cell_type": "code",
   "execution_count": 31,
   "metadata": {},
   "outputs": [
    {
     "data": {
      "text/html": [
       "<div>\n",
       "<style scoped>\n",
       "    .dataframe tbody tr th:only-of-type {\n",
       "        vertical-align: middle;\n",
       "    }\n",
       "\n",
       "    .dataframe tbody tr th {\n",
       "        vertical-align: top;\n",
       "    }\n",
       "\n",
       "    .dataframe thead th {\n",
       "        text-align: right;\n",
       "    }\n",
       "</style>\n",
       "<table border=\"1\" class=\"dataframe\">\n",
       "  <thead>\n",
       "    <tr style=\"text-align: right;\">\n",
       "      <th></th>\n",
       "      <th>Price</th>\n",
       "      <th>Profits</th>\n",
       "      <th>Strategy</th>\n",
       "      <th>Return_perc</th>\n",
       "    </tr>\n",
       "    <tr>\n",
       "      <th>Month</th>\n",
       "      <th></th>\n",
       "      <th></th>\n",
       "      <th></th>\n",
       "      <th></th>\n",
       "    </tr>\n",
       "  </thead>\n",
       "  <tbody>\n",
       "    <tr>\n",
       "      <th>April</th>\n",
       "      <td>1331.508020</td>\n",
       "      <td>16.503000</td>\n",
       "      <td>24.097000</td>\n",
       "      <td>1.012282</td>\n",
       "    </tr>\n",
       "    <tr>\n",
       "      <th>August</th>\n",
       "      <td>1202.864990</td>\n",
       "      <td>-35.507500</td>\n",
       "      <td>-83.172500</td>\n",
       "      <td>0.969197</td>\n",
       "    </tr>\n",
       "    <tr>\n",
       "      <th>December</th>\n",
       "      <td>1247.679993</td>\n",
       "      <td>-10.095000</td>\n",
       "      <td>272.540000</td>\n",
       "      <td>0.991788</td>\n",
       "    </tr>\n",
       "    <tr>\n",
       "      <th>February</th>\n",
       "      <td>1322.224976</td>\n",
       "      <td>13.090000</td>\n",
       "      <td>6.720000</td>\n",
       "      <td>1.009899</td>\n",
       "    </tr>\n",
       "    <tr>\n",
       "      <th>January</th>\n",
       "      <td>1284.761678</td>\n",
       "      <td>-2.203333</td>\n",
       "      <td>5.256667</td>\n",
       "      <td>0.998266</td>\n",
       "    </tr>\n",
       "    <tr>\n",
       "      <th>July</th>\n",
       "      <td>1328.460022</td>\n",
       "      <td>9.280000</td>\n",
       "      <td>-29.225000</td>\n",
       "      <td>1.006933</td>\n",
       "    </tr>\n",
       "    <tr>\n",
       "      <th>June</th>\n",
       "      <td>1288.180029</td>\n",
       "      <td>-13.736000</td>\n",
       "      <td>-33.854000</td>\n",
       "      <td>0.989389</td>\n",
       "    </tr>\n",
       "    <tr>\n",
       "      <th>March</th>\n",
       "      <td>1296.496664</td>\n",
       "      <td>-17.753333</td>\n",
       "      <td>-62.703333</td>\n",
       "      <td>0.985838</td>\n",
       "    </tr>\n",
       "    <tr>\n",
       "      <th>May</th>\n",
       "      <td>1340.224976</td>\n",
       "      <td>-10.180000</td>\n",
       "      <td>41.207500</td>\n",
       "      <td>0.992401</td>\n",
       "    </tr>\n",
       "    <tr>\n",
       "      <th>November</th>\n",
       "      <td>1232.665626</td>\n",
       "      <td>25.680625</td>\n",
       "      <td>186.681250</td>\n",
       "      <td>1.020217</td>\n",
       "    </tr>\n",
       "    <tr>\n",
       "      <th>October</th>\n",
       "      <td>1199.736654</td>\n",
       "      <td>10.393333</td>\n",
       "      <td>-195.680000</td>\n",
       "      <td>1.004782</td>\n",
       "    </tr>\n",
       "  </tbody>\n",
       "</table>\n",
       "</div>"
      ],
      "text/plain": [
       "                Price    Profits    Strategy  Return_perc\n",
       "Month                                                    \n",
       "April     1331.508020  16.503000   24.097000     1.012282\n",
       "August    1202.864990 -35.507500  -83.172500     0.969197\n",
       "December  1247.679993 -10.095000  272.540000     0.991788\n",
       "February  1322.224976  13.090000    6.720000     1.009899\n",
       "January   1284.761678  -2.203333    5.256667     0.998266\n",
       "July      1328.460022   9.280000  -29.225000     1.006933\n",
       "June      1288.180029 -13.736000  -33.854000     0.989389\n",
       "March     1296.496664 -17.753333  -62.703333     0.985838\n",
       "May       1340.224976 -10.180000   41.207500     0.992401\n",
       "November  1232.665626  25.680625  186.681250     1.020217\n",
       "October   1199.736654  10.393333 -195.680000     1.004782"
      ]
     },
     "execution_count": 31,
     "metadata": {},
     "output_type": "execute_result"
    }
   ],
   "source": [
    "dqn[dqn[\"Profits\"]!= 0.0].groupby([\"Month\"]).mean()"
   ]
  },
  {
   "cell_type": "code",
   "execution_count": 32,
   "metadata": {},
   "outputs": [
    {
     "data": {
      "text/html": [
       "<div>\n",
       "<style scoped>\n",
       "    .dataframe tbody tr th:only-of-type {\n",
       "        vertical-align: middle;\n",
       "    }\n",
       "\n",
       "    .dataframe tbody tr th {\n",
       "        vertical-align: top;\n",
       "    }\n",
       "\n",
       "    .dataframe thead th {\n",
       "        text-align: right;\n",
       "    }\n",
       "</style>\n",
       "<table border=\"1\" class=\"dataframe\">\n",
       "  <thead>\n",
       "    <tr style=\"text-align: right;\">\n",
       "      <th></th>\n",
       "      <th>Price</th>\n",
       "      <th>Profits</th>\n",
       "      <th>Strategy</th>\n",
       "      <th>Return_perc</th>\n",
       "    </tr>\n",
       "    <tr>\n",
       "      <th>Month</th>\n",
       "      <th></th>\n",
       "      <th></th>\n",
       "      <th></th>\n",
       "      <th></th>\n",
       "    </tr>\n",
       "  </thead>\n",
       "  <tbody>\n",
       "    <tr>\n",
       "      <th>April</th>\n",
       "      <td>1332.640015</td>\n",
       "      <td>19.000</td>\n",
       "      <td>31.995</td>\n",
       "      <td>1.014123</td>\n",
       "    </tr>\n",
       "    <tr>\n",
       "      <th>August</th>\n",
       "      <td>1200.494995</td>\n",
       "      <td>-33.680</td>\n",
       "      <td>-64.505</td>\n",
       "      <td>0.971928</td>\n",
       "    </tr>\n",
       "    <tr>\n",
       "      <th>December</th>\n",
       "      <td>1247.679993</td>\n",
       "      <td>-10.095</td>\n",
       "      <td>272.540</td>\n",
       "      <td>0.991788</td>\n",
       "    </tr>\n",
       "    <tr>\n",
       "      <th>February</th>\n",
       "      <td>1322.224976</td>\n",
       "      <td>13.090</td>\n",
       "      <td>6.720</td>\n",
       "      <td>1.009899</td>\n",
       "    </tr>\n",
       "    <tr>\n",
       "      <th>January</th>\n",
       "      <td>1284.734985</td>\n",
       "      <td>1.605</td>\n",
       "      <td>7.250</td>\n",
       "      <td>1.001244</td>\n",
       "    </tr>\n",
       "    <tr>\n",
       "      <th>July</th>\n",
       "      <td>1328.460022</td>\n",
       "      <td>9.280</td>\n",
       "      <td>-29.225</td>\n",
       "      <td>1.006933</td>\n",
       "    </tr>\n",
       "    <tr>\n",
       "      <th>June</th>\n",
       "      <td>1287.140015</td>\n",
       "      <td>-8.380</td>\n",
       "      <td>-37.930</td>\n",
       "      <td>0.993489</td>\n",
       "    </tr>\n",
       "    <tr>\n",
       "      <th>March</th>\n",
       "      <td>1300.049988</td>\n",
       "      <td>-4.270</td>\n",
       "      <td>-80.830</td>\n",
       "      <td>0.996755</td>\n",
       "    </tr>\n",
       "    <tr>\n",
       "      <th>May</th>\n",
       "      <td>1337.649964</td>\n",
       "      <td>-7.055</td>\n",
       "      <td>34.800</td>\n",
       "      <td>0.994767</td>\n",
       "    </tr>\n",
       "    <tr>\n",
       "      <th>November</th>\n",
       "      <td>1238.304993</td>\n",
       "      <td>36.335</td>\n",
       "      <td>224.245</td>\n",
       "      <td>1.029509</td>\n",
       "    </tr>\n",
       "    <tr>\n",
       "      <th>October</th>\n",
       "      <td>1215.390015</td>\n",
       "      <td>53.040</td>\n",
       "      <td>-201.890</td>\n",
       "      <td>1.043640</td>\n",
       "    </tr>\n",
       "  </tbody>\n",
       "</table>\n",
       "</div>"
      ],
      "text/plain": [
       "                Price  Profits  Strategy  Return_perc\n",
       "Month                                                \n",
       "April     1332.640015   19.000    31.995     1.014123\n",
       "August    1200.494995  -33.680   -64.505     0.971928\n",
       "December  1247.679993  -10.095   272.540     0.991788\n",
       "February  1322.224976   13.090     6.720     1.009899\n",
       "January   1284.734985    1.605     7.250     1.001244\n",
       "July      1328.460022    9.280   -29.225     1.006933\n",
       "June      1287.140015   -8.380   -37.930     0.993489\n",
       "March     1300.049988   -4.270   -80.830     0.996755\n",
       "May       1337.649964   -7.055    34.800     0.994767\n",
       "November  1238.304993   36.335   224.245     1.029509\n",
       "October   1215.390015   53.040  -201.890     1.043640"
      ]
     },
     "execution_count": 32,
     "metadata": {},
     "output_type": "execute_result"
    }
   ],
   "source": [
    "dqn[dqn[\"Profits\"]!= 0.0].groupby([\"Month\"]).median()"
   ]
  },
  {
   "cell_type": "code",
   "execution_count": 24,
   "metadata": {},
   "outputs": [
    {
     "data": {
      "text/html": [
       "<div>\n",
       "<style scoped>\n",
       "    .dataframe tbody tr th:only-of-type {\n",
       "        vertical-align: middle;\n",
       "    }\n",
       "\n",
       "    .dataframe tbody tr th {\n",
       "        vertical-align: top;\n",
       "    }\n",
       "\n",
       "    .dataframe thead th {\n",
       "        text-align: right;\n",
       "    }\n",
       "</style>\n",
       "<table border=\"1\" class=\"dataframe\">\n",
       "  <thead>\n",
       "    <tr style=\"text-align: right;\">\n",
       "      <th></th>\n",
       "      <th>Return_perc</th>\n",
       "    </tr>\n",
       "    <tr>\n",
       "      <th>Month</th>\n",
       "      <th></th>\n",
       "    </tr>\n",
       "  </thead>\n",
       "  <tbody>\n",
       "    <tr>\n",
       "      <th>April</th>\n",
       "      <td>0.127951</td>\n",
       "    </tr>\n",
       "    <tr>\n",
       "      <th>August</th>\n",
       "      <td>-0.119078</td>\n",
       "    </tr>\n",
       "    <tr>\n",
       "      <th>December</th>\n",
       "      <td>-0.016485</td>\n",
       "    </tr>\n",
       "    <tr>\n",
       "      <th>February</th>\n",
       "      <td>0.019896</td>\n",
       "    </tr>\n",
       "    <tr>\n",
       "      <th>January</th>\n",
       "      <td>-0.010579</td>\n",
       "    </tr>\n",
       "    <tr>\n",
       "      <th>July</th>\n",
       "      <td>0.013853</td>\n",
       "    </tr>\n",
       "    <tr>\n",
       "      <th>June</th>\n",
       "      <td>-0.052573</td>\n",
       "    </tr>\n",
       "    <tr>\n",
       "      <th>March</th>\n",
       "      <td>-0.083954</td>\n",
       "    </tr>\n",
       "    <tr>\n",
       "      <th>May</th>\n",
       "      <td>-0.030155</td>\n",
       "    </tr>\n",
       "    <tr>\n",
       "      <th>November</th>\n",
       "      <td>0.363776</td>\n",
       "    </tr>\n",
       "    <tr>\n",
       "      <th>October</th>\n",
       "      <td>0.008113</td>\n",
       "    </tr>\n",
       "    <tr>\n",
       "      <th>September</th>\n",
       "      <td>0.000000</td>\n",
       "    </tr>\n",
       "  </tbody>\n",
       "</table>\n",
       "</div>"
      ],
      "text/plain": [
       "           Return_perc\n",
       "Month                 \n",
       "April         0.127951\n",
       "August       -0.119078\n",
       "December     -0.016485\n",
       "February      0.019896\n",
       "January      -0.010579\n",
       "July          0.013853\n",
       "June         -0.052573\n",
       "March        -0.083954\n",
       "May          -0.030155\n",
       "November      0.363776\n",
       "October       0.008113\n",
       "September     0.000000"
      ]
     },
     "execution_count": 24,
     "metadata": {},
     "output_type": "execute_result"
    }
   ],
   "source": [
    "monthly_cum_return = dqn[[\"Month\",\"Return_perc\"]].groupby(\"Month\").prod()-1\n",
    "monthly_cum_return"
   ]
  },
  {
   "cell_type": "code",
   "execution_count": 28,
   "metadata": {},
   "outputs": [
    {
     "data": {
      "text/plain": [
       "Text(0.5, 1.0, 'Cumulative Returns by Month')"
      ]
     },
     "execution_count": 28,
     "metadata": {},
     "output_type": "execute_result"
    },
    {
     "data": {
      "image/png": "[encoded data removed]",
      "text/plain": [
       "<Figure size 432x288 with 1 Axes>"
      ]
     },
     "metadata": {
      "needs_background": "light"
     },
     "output_type": "display_data"
    }
   ],
   "source": [
    "ax = sns.barplot(data=monthly_cum_return, x=\"Return_perc\", y=monthly_cum_return.index)\n",
    "ax.axvline(x = 0.1,linewidth=2, alpha=.7)\n",
    "ax.set_title(\"Cumulative Returns by Month\")"
   ]
  },
  {
   "cell_type": "code",
   "execution_count": 52,
   "metadata": {},
   "outputs": [
    {
     "data": {
      "text/plain": [
       "Text(0.5, 1.0, 'Average Returns per Weekday')"
      ]
     },
     "execution_count": 52,
     "metadata": {},
     "output_type": "execute_result"
    },
    {
     "data": {
      "image/png": "[encoded data removed]",
      "text/plain": [
       "<Figure size 648x432 with 2 Axes>"
      ]
     },
     "metadata": {
      "needs_background": "light"
     },
     "output_type": "display_data"
    }
   ],
   "source": [
    "table = dqn[[\"Month\",\"Weekday\",\"Return_perc\"]].pivot_table(index=\"Month\",columns=\"Weekday\",values=\"Return_perc\", aggfunc=np.mean)\n",
    "f, ax = plt.subplots(figsize=(9, 6))\n",
    "sns.heatmap(table, annot=True, fmt=\"g\", cmap=\"Greens\", linewidths=.5, ax=ax)\n",
    "ax.set_title('Average Returns per Weekday')"
   ]
  },
  {
   "cell_type": "code",
   "execution_count": 62,
   "metadata": {},
   "outputs": [
    {
     "data": {
      "text/plain": [
       "False    91\n",
       "True     31\n",
       "Name: success, dtype: int64"
      ]
     },
     "execution_count": 62,
     "metadata": {},
     "output_type": "execute_result"
    }
   ],
   "source": [
    "dqn[\"success\"] = dqn[\"Return_perc\"]>1\n",
    "dqn.success.value_counts()"
   ]
  },
  {
   "cell_type": "code",
   "execution_count": 85,
   "metadata": {},
   "outputs": [
    {
     "data": {
      "text/plain": [
       "Text(0.5, 1.0, 'Return Distribution')"
      ]
     },
     "execution_count": 85,
     "metadata": {},
     "output_type": "execute_result"
    },
    {
     "data": {
      "image/png": "[encoded data removed]",
      "text/plain": [
       "<Figure size 432x288 with 1 Axes>"
      ]
     },
     "metadata": {
      "needs_background": "light"
     },
     "output_type": "display_data"
    }
   ],
   "source": [
    "returns = dqn[\"Return_perc\"]-1\n",
    "#ax = sns.barplot(x=returns.index, y=returns.values, data=returns)\n",
    "plt.hist(returns, bins=20)\n",
    "plt.title(\"Return Distribution\")"
   ]
  },
  {
   "cell_type": "code",
   "execution_count": null,
   "metadata": {},
   "outputs": [],
   "source": []
  },
  {
   "cell_type": "code",
   "execution_count": 55,
   "metadata": {},
   "outputs": [],
   "source": [
    "underwater = np.where(dqn['Strategy']< dqn['Strategy'].rolling(10).max(), dqn['Strategy']-dqn['Strategy'].rolling(10).max(), 0)"
   ]
  },
  {
   "cell_type": "code",
   "execution_count": 56,
   "metadata": {},
   "outputs": [
    {
     "data": {
      "image/png": "[encoded data removed]",
      "text/plain": [
       "<Figure size 432x288 with 1 Axes>"
      ]
     },
     "metadata": {
      "needs_background": "light"
     },
     "output_type": "display_data"
    }
   ],
   "source": [
    "plt.fill_between(x=range(len(underwater)), y1=underwater, color=\"skyblue\", alpha=0.2)\n",
    "plt.plot(range(len(underwater)), underwater, color=\"Slateblue\", alpha=0.6)\n",
    "plt.title(\"Underwater Plot\")\n",
    "plt.show()"
   ]
  },
  {
   "cell_type": "markdown",
   "metadata": {},
   "source": [
    "Sources: Wikipedia.org"
   ]
  }
 ],
 "metadata": {
  "kernelspec": {
   "display_name": "Python 3",
   "language": "python",
   "name": "python3"
  },
  "language_info": {
   "codemirror_mode": {
    "name": "ipython",
    "version": 3
   },
   "file_extension": ".py",
   "mimetype": "text/x-python",
   "name": "python",
   "nbconvert_exporter": "python",
   "pygments_lexer": "ipython3",
   "version": "3.8.2"
  }
 },
 "nbformat": 4,
 "nbformat_minor": 4
}
